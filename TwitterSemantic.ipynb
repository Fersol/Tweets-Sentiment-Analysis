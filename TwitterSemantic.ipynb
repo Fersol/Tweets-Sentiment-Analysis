{
 "cells": [
  {
   "cell_type": "markdown",
   "metadata": {},
   "source": [
    "## Twitter Dataset Prepare"
   ]
  },
  {
   "cell_type": "code",
   "execution_count": 1,
   "metadata": {
    "collapsed": true
   },
   "outputs": [],
   "source": [
    "import pandas as pd\n",
    "import numpy as np\n",
    "import matplotlib.pyplot as plt\n",
    "import cPickle as pickle\n",
    "import tqdm\n",
    "import regex\n",
    "import os\n",
    "import re\n",
    "import shutil\n",
    "import operator\n",
    "import codecs\n",
    "import time\n",
    "import random\n",
    "from math import log\n",
    "from nltk import sent_tokenize\n",
    "from pymystem3 import Mystem\n",
    "from seaborn import heatmap\n",
    "from nltk.tokenize import RegexpTokenizer\n",
    "from nltk.stem.snowball import RussianStemmer\n",
    "from sklearn.model_selection import train_test_split\n",
    "from sklearn.feature_extraction.text import CountVectorizer, TfidfVectorizer\n",
    "from sklearn.pipeline import Pipeline\n",
    "from sklearn.linear_model import LogisticRegression\n",
    "from sklearn.metrics import accuracy_score\n",
    "from sklearn.metrics import roc_curve, auc\n",
    "\n",
    "\n",
    "\n",
    "from sklearn.ensemble import GradientBoostingClassifier\n",
    "from sklearn import datasets\n",
    "from sklearn.naive_bayes import GaussianNB\n",
    "\n",
    "%matplotlib inline"
   ]
  },
  {
   "cell_type": "markdown",
   "metadata": {},
   "source": [
    "База данных состоит из 12 столбцов:\n",
    "- id: уникальный номер сообщения в системе twitter;\n",
    "- tdate: дата публикации сообщения (твита);\n",
    "- tmane: имя пользователя, опубликовавшего сообщение;\n",
    "- ttext:  текст сообщения (твита);\n",
    "- ttype: поле в котором в дальнейшем будет указано к кому классу относится твит (положительный, отрицательный, нейтральный);\n",
    "- trep: количество реплаев к данному сообщению. В настоящий момент API твиттера не отдает эту информацию;\n",
    "- trtf: число ретвитов\n",
    "- tfav: число сколько раз данное сообщение было добавлено в избранное другими пользователями;\n",
    "- tstcount: число всех сообщений пользователя в сети twitter;\n",
    "- tfol: количество фоловеров пользователя (тех людей, которые читают пользователя);\n",
    "- tfrien: количество друзей пользователя (те люди, которых читает пользователь);\n",
    "- listcount: количество листов-подписок в которые добавлен твиттер-пользователь."
   ]
  },
  {
   "cell_type": "code",
   "execution_count": 2,
   "metadata": {
    "collapsed": true
   },
   "outputs": [],
   "source": [
    "header = ['id', 'tdate', 'tmane', 'ttext', 'ttype', 'trep', 'trtf', 'tfav', 'tstcount', 'tfol', 'tfrien', 'listcount']"
   ]
  },
  {
   "cell_type": "markdown",
   "metadata": {},
   "source": [
    "#### Загружаем положительные и негативные твиты в один DataFrame, после этого перемешиваем с помощью sample(frac=1)"
   ]
  },
  {
   "cell_type": "code",
   "execution_count": 3,
   "metadata": {
    "collapsed": true
   },
   "outputs": [],
   "source": [
    "pos_twitts = pd.read_csv('train_positive.csv', sep=';', names=header)\n",
    "neg_twitts = pd.read_csv('train_negative.csv', sep=';', names=header)\n",
    "twitts = pd.concat([pos_twitts, neg_twitts], axis=0)\n",
    "twitts = twitts.sample(frac=1)"
   ]
  },
  {
   "cell_type": "markdown",
   "metadata": {},
   "source": [
    "#### Смотрим размерность нашего размеченного датасета и проверяем, что у нас 2 вида твитов(положительные(1) и негативные(-1))"
   ]
  },
  {
   "cell_type": "code",
   "execution_count": 4,
   "metadata": {},
   "outputs": [
    {
     "name": "stdout",
     "output_type": "stream",
     "text": [
      "(226834, 12)\n"
     ]
    },
    {
     "data": {
      "text/html": [
       "<div>\n",
       "<style>\n",
       "    .dataframe thead tr:only-child th {\n",
       "        text-align: right;\n",
       "    }\n",
       "\n",
       "    .dataframe thead th {\n",
       "        text-align: left;\n",
       "    }\n",
       "\n",
       "    .dataframe tbody tr th {\n",
       "        vertical-align: top;\n",
       "    }\n",
       "</style>\n",
       "<table border=\"1\" class=\"dataframe\">\n",
       "  <thead>\n",
       "    <tr style=\"text-align: right;\">\n",
       "      <th></th>\n",
       "      <th>id</th>\n",
       "      <th>tdate</th>\n",
       "      <th>tmane</th>\n",
       "      <th>ttext</th>\n",
       "      <th>ttype</th>\n",
       "      <th>trep</th>\n",
       "      <th>trtf</th>\n",
       "      <th>tfav</th>\n",
       "      <th>tstcount</th>\n",
       "      <th>tfol</th>\n",
       "      <th>tfrien</th>\n",
       "      <th>listcount</th>\n",
       "    </tr>\n",
       "  </thead>\n",
       "  <tbody>\n",
       "    <tr>\n",
       "      <th>74736</th>\n",
       "      <td>410638392813039616</td>\n",
       "      <td>1386738796</td>\n",
       "      <td>RedMax77</td>\n",
       "      <td>@nsafiullin щас попробую) если что, уж не руга...</td>\n",
       "      <td>1</td>\n",
       "      <td>0</td>\n",
       "      <td>0</td>\n",
       "      <td>0</td>\n",
       "      <td>22977</td>\n",
       "      <td>429</td>\n",
       "      <td>354</td>\n",
       "      <td>15</td>\n",
       "    </tr>\n",
       "    <tr>\n",
       "      <th>35278</th>\n",
       "      <td>413575344135110656</td>\n",
       "      <td>1387439020</td>\n",
       "      <td>98Sabinka</td>\n",
       "      <td>Родичи елку поставили,наряжать будут снова без...</td>\n",
       "      <td>-1</td>\n",
       "      <td>0</td>\n",
       "      <td>0</td>\n",
       "      <td>0</td>\n",
       "      <td>4446</td>\n",
       "      <td>49</td>\n",
       "      <td>37</td>\n",
       "      <td>0</td>\n",
       "    </tr>\n",
       "    <tr>\n",
       "      <th>63738</th>\n",
       "      <td>416927860285112320</td>\n",
       "      <td>1388238322</td>\n",
       "      <td>Kelly_Basset</td>\n",
       "      <td>единственная фотка где я пышечка, увиии\\nМне н...</td>\n",
       "      <td>-1</td>\n",
       "      <td>0</td>\n",
       "      <td>0</td>\n",
       "      <td>0</td>\n",
       "      <td>188</td>\n",
       "      <td>32</td>\n",
       "      <td>35</td>\n",
       "      <td>1</td>\n",
       "    </tr>\n",
       "    <tr>\n",
       "      <th>104271</th>\n",
       "      <td>411119602673143808</td>\n",
       "      <td>1386853526</td>\n",
       "      <td>sutyvepiqi</td>\n",
       "      <td>RT @volesixy: Я не кукла и не игрушка, я девоч...</td>\n",
       "      <td>1</td>\n",
       "      <td>0</td>\n",
       "      <td>3</td>\n",
       "      <td>0</td>\n",
       "      <td>332</td>\n",
       "      <td>177</td>\n",
       "      <td>152</td>\n",
       "      <td>0</td>\n",
       "    </tr>\n",
       "    <tr>\n",
       "      <th>33956</th>\n",
       "      <td>413288198388060162</td>\n",
       "      <td>1387370559</td>\n",
       "      <td>annyblackk</td>\n",
       "      <td>скоро новый год, а я елку еще не купила(( над ...</td>\n",
       "      <td>-1</td>\n",
       "      <td>0</td>\n",
       "      <td>0</td>\n",
       "      <td>0</td>\n",
       "      <td>1384</td>\n",
       "      <td>296</td>\n",
       "      <td>478</td>\n",
       "      <td>1</td>\n",
       "    </tr>\n",
       "  </tbody>\n",
       "</table>\n",
       "</div>"
      ],
      "text/plain": [
       "                        id       tdate         tmane  \\\n",
       "74736   410638392813039616  1386738796      RedMax77   \n",
       "35278   413575344135110656  1387439020     98Sabinka   \n",
       "63738   416927860285112320  1388238322  Kelly_Basset   \n",
       "104271  411119602673143808  1386853526    sutyvepiqi   \n",
       "33956   413288198388060162  1387370559    annyblackk   \n",
       "\n",
       "                                                    ttext  ttype  trep  trtf  \\\n",
       "74736   @nsafiullin щас попробую) если что, уж не руга...      1     0     0   \n",
       "35278   Родичи елку поставили,наряжать будут снова без...     -1     0     0   \n",
       "63738   единственная фотка где я пышечка, увиии\\nМне н...     -1     0     0   \n",
       "104271  RT @volesixy: Я не кукла и не игрушка, я девоч...      1     0     3   \n",
       "33956   скоро новый год, а я елку еще не купила(( над ...     -1     0     0   \n",
       "\n",
       "        tfav  tstcount  tfol  tfrien  listcount  \n",
       "74736      0     22977   429     354         15  \n",
       "35278      0      4446    49      37          0  \n",
       "63738      0       188    32      35          1  \n",
       "104271     0       332   177     152          0  \n",
       "33956      0      1384   296     478          1  "
      ]
     },
     "execution_count": 4,
     "metadata": {},
     "output_type": "execute_result"
    }
   ],
   "source": [
    "print twitts.shape\n",
    "twitts.head()"
   ]
  },
  {
   "cell_type": "code",
   "execution_count": 5,
   "metadata": {},
   "outputs": [
    {
     "data": {
      "text/plain": [
       "array([ 1, -1])"
      ]
     },
     "execution_count": 5,
     "metadata": {},
     "output_type": "execute_result"
    }
   ],
   "source": [
    "twitts.ttype.unique()"
   ]
  },
  {
   "cell_type": "markdown",
   "metadata": {},
   "source": [
    "## Working with Twitter texts"
   ]
  },
  {
   "cell_type": "code",
   "execution_count": 6,
   "metadata": {
    "collapsed": true
   },
   "outputs": [],
   "source": [
    "X = twitts.ttext.values\n",
    "y = twitts.ttype.values"
   ]
  },
  {
   "cell_type": "code",
   "execution_count": 7,
   "metadata": {
    "collapsed": true
   },
   "outputs": [],
   "source": [
    "def prepare_text(text):\n",
    "    text = text.lower().strip()\n",
    "    text = re.sub(r'@\\S+', '', text) # delete @user_name\n",
    "    text = re.sub(r'#\\W+', '', text) # delete #hashtag\n",
    "    text = re.sub(r'[o_, O_, dd, dddd, ddd, 0-9, \\:, \\(, \\), \\!, \\-, \\;, \\?, rt, \\#]+', ' ', text) # delete smiles\n",
    "    return text"
   ]
  },
  {
   "cell_type": "code",
   "execution_count": 8,
   "metadata": {
    "collapsed": true
   },
   "outputs": [],
   "source": [
    "X = [prepare_text(text).decode('utf-8') for text in X]"
   ]
  },
  {
   "cell_type": "code",
   "execution_count": 9,
   "metadata": {
    "collapsed": true
   },
   "outputs": [],
   "source": [
    "tokenizer = RegexpTokenizer('\\w+|\\S+')\n",
    "r = RussianStemmer()"
   ]
  },
  {
   "cell_type": "code",
   "execution_count": 10,
   "metadata": {
    "collapsed": true
   },
   "outputs": [],
   "source": [
    "def tokenize(text):\n",
    "    return tokenizer.tokenize(text)\n",
    "\n",
    "def stem_text(text):\n",
    "    return [r.stem(word) for word in text]"
   ]
  },
  {
   "cell_type": "code",
   "execution_count": 11,
   "metadata": {
    "collapsed": true
   },
   "outputs": [],
   "source": [
    "X = [tokenize(text) for text in X]"
   ]
  },
  {
   "cell_type": "code",
   "execution_count": 12,
   "metadata": {
    "collapsed": true
   },
   "outputs": [],
   "source": [
    "X = [stem_text(text) for text in X]"
   ]
  },
  {
   "cell_type": "markdown",
   "metadata": {},
   "source": [
    "#### После стемминга мы получили в X набор слов вместо цельных предложений. Объединяем обратно из массива слов в предложения и после этого удаляем никнеймы, хештеги, указание ретвитов и смайлики"
   ]
  },
  {
   "cell_type": "code",
   "execution_count": 13,
   "metadata": {
    "collapsed": true
   },
   "outputs": [],
   "source": [
    "X_sent = [' '.join(words) for words in X]"
   ]
  },
  {
   "cell_type": "code",
   "execution_count": 14,
   "metadata": {
    "collapsed": true
   },
   "outputs": [],
   "source": [
    "X_sent_prepare = [prepare_text(text) for text in X_sent]"
   ]
  },
  {
   "cell_type": "code",
   "execution_count": 15,
   "metadata": {},
   "outputs": [
    {
     "name": "stdout",
     "output_type": "stream",
     "text": [
      "то чувств когд я сказа е тож сам с теб пятюн\n",
      "мо русск сем я скуча по вам до скор встреч . сохран немн снег для мен и не дайт ем растая\n",
      "оо даа ....тольк нич мне кажет не измен .. ну хот даниел и ли обща и на эт спс\n",
      "мо проблем в том что я слишк быстр чита книг\n",
      "захотел блин масленниц же испекл — а тепер их ест неохот\n",
      "да уж збс погуля и конец особен пиздат был ахаа\n",
      "у соседн дом машин спал фигов первоапрельск шутк ящета\n",
      "так пиздострадан у нас с мах прост слез\n",
      "я спокойн пом голов пот что не вер в примет тип голов нельз мыт перед экзамен эт придума лентя\n",
      "я поня все одинок стесняшк поэт никак назван не будет . можн был так и написа мол \"кошмар на улиц вяз \"\n"
     ]
    }
   ],
   "source": [
    "for x in X_sent_prepare[10:20]:\n",
    "    print x"
   ]
  },
  {
   "cell_type": "code",
   "execution_count": 16,
   "metadata": {},
   "outputs": [
    {
     "name": "stdout",
     "output_type": "stream",
     "text": [
      "щас попроб есл что уж не руга вопрос задава буд\n"
     ]
    }
   ],
   "source": [
    "print X_sent[0]"
   ]
  },
  {
   "cell_type": "markdown",
   "metadata": {},
   "source": [
    "### Разбиваем наш датасет с помощью train test split и начинаем создавать модельки"
   ]
  },
  {
   "cell_type": "code",
   "execution_count": 17,
   "metadata": {
    "collapsed": true
   },
   "outputs": [],
   "source": [
    "X_train, X_test, y_train, y_test = train_test_split(X_sent_prepare, y, test_size=0.3, random_state=42)"
   ]
  },
  {
   "cell_type": "markdown",
   "metadata": {},
   "source": [
    "#### Модель на Логистической регрессии дает лучший результат(0.746) с параметрами ngram_range=(1, 3), min_df=5. Вид модели роль не играет"
   ]
  },
  {
   "cell_type": "code",
   "execution_count": 18,
   "metadata": {
    "collapsed": true
   },
   "outputs": [],
   "source": [
    "model = Pipeline([('count', CountVectorizer(ngram_range=(1, 3), min_df=5)), ('log_reg', LogisticRegression())])\n",
    "model_tf_idf = Pipeline([('count', TfidfVectorizer(ngram_range=(1, 3), min_df=5)), ('log_reg', LogisticRegression())])"
   ]
  },
  {
   "cell_type": "code",
   "execution_count": 19,
   "metadata": {
    "collapsed": true
   },
   "outputs": [],
   "source": [
    "#X_train[:10]"
   ]
  },
  {
   "cell_type": "code",
   "execution_count": 20,
   "metadata": {
    "collapsed": true
   },
   "outputs": [],
   "source": [
    "#model = Pipeline([('count', CountVectorizer(ngram_range=(1, 1))), ('grad_boost', GradientBoostingClassifier())])\n",
    "#model_tf_idf = Pipeline([('count', TfidfVectorizer(ngram_range=(1, 2), min_df=10)), ('grad_boost', GradientBoostingClassifier(max_depth=8, verbose=True, n_estimators=50))])"
   ]
  },
  {
   "cell_type": "code",
   "execution_count": 21,
   "metadata": {
    "collapsed": true
   },
   "outputs": [],
   "source": [
    "#gauss = GaussianNB()\n",
    "#gauss.fit([item.split(' ') for item in X_train], y_train)"
   ]
  },
  {
   "cell_type": "code",
   "execution_count": 22,
   "metadata": {
    "collapsed": true
   },
   "outputs": [],
   "source": [
    "#model = Pipeline([('count', CountVectorizer(ngram_range=(1, 2))), ('gauss_NB', GaussianNB())])\n",
    "#model_tf_idf = Pipeline([('count', TfidfVectorizer(ngram_range=(1, 2), min_df=10)), ('gauss_NB', GaussianNB())])"
   ]
  },
  {
   "cell_type": "code",
   "execution_count": 23,
   "metadata": {},
   "outputs": [
    {
     "data": {
      "text/plain": [
       "Pipeline(memory=None,\n",
       "     steps=[('count', CountVectorizer(analyzer=u'word', binary=False, decode_error=u'strict',\n",
       "        dtype=<type 'numpy.int64'>, encoding=u'utf-8', input=u'content',\n",
       "        lowercase=True, max_df=1.0, max_features=None, min_df=5,\n",
       "        ngram_range=(1, 3), preprocessor=None, stop_words=None,\n",
       "        s...ty='l2', random_state=None, solver='liblinear', tol=0.0001,\n",
       "          verbose=0, warm_start=False))])"
      ]
     },
     "execution_count": 23,
     "metadata": {},
     "output_type": "execute_result"
    }
   ],
   "source": [
    "model.fit(X_train, y_train)"
   ]
  },
  {
   "cell_type": "code",
   "execution_count": 24,
   "metadata": {},
   "outputs": [
    {
     "data": {
      "text/plain": [
       "Pipeline(memory=None,\n",
       "     steps=[('count', TfidfVectorizer(analyzer=u'word', binary=False, decode_error=u'strict',\n",
       "        dtype=<type 'numpy.int64'>, encoding=u'utf-8', input=u'content',\n",
       "        lowercase=True, max_df=1.0, max_features=None, min_df=5,\n",
       "        ngram_range=(1, 3), norm=u'l2', preprocessor=None, smooth_idf=Tru...ty='l2', random_state=None, solver='liblinear', tol=0.0001,\n",
       "          verbose=0, warm_start=False))])"
      ]
     },
     "execution_count": 24,
     "metadata": {},
     "output_type": "execute_result"
    }
   ],
   "source": [
    "model_tf_idf.fit(X_train, y_train)"
   ]
  },
  {
   "cell_type": "markdown",
   "metadata": {},
   "source": [
    "## Смотрим у каких слов получились самые влиятельные веса и считаем оценки"
   ]
  },
  {
   "cell_type": "code",
   "execution_count": 25,
   "metadata": {
    "collapsed": true
   },
   "outputs": [],
   "source": [
    "words = model.steps[0][1].get_feature_names()\n",
    "coefs = model.steps[1][1].coef_[0]"
   ]
  },
  {
   "cell_type": "code",
   "execution_count": 26,
   "metadata": {
    "collapsed": true
   },
   "outputs": [],
   "source": [
    "model_coefs = pd.Series(index=words, data=coefs)"
   ]
  },
  {
   "cell_type": "code",
   "execution_count": 27,
   "metadata": {},
   "outputs": [
    {
     "data": {
      "text/plain": [
       "обидн            -2.972192\n",
       "пичал            -2.827795\n",
       "печальн          -2.605764\n",
       "не приятн        -2.589569\n",
       "сочувств         -2.402953\n",
       "соболезнован     -2.399653\n",
       "расстро          -2.396655\n",
       "сожален          -2.305794\n",
       "не добр          -2.305379\n",
       "картинк надпис   -2.300218\n",
       "не понрав        -2.296496\n",
       "погибш           -2.255798\n",
       "печальк          -2.210055\n",
       "пичальк          -2.177849\n",
       "грустн           -2.170208\n",
       "распа            -2.150982\n",
       "собира завтр     -2.150547\n",
       "ув               -2.149349\n",
       "заболет          -2.129747\n",
       "печал            -2.109306\n",
       "рев              -2.096820\n",
       "скорб            -2.091153\n",
       "настроен нет     -2.085688\n",
       "погибл           -2.083316\n",
       "греба            -2.054821\n",
       "испорт           -2.050987\n",
       "теракт           -2.049528\n",
       "жалк             -2.030805\n",
       "ебуч             -2.029949\n",
       "шерлок           -2.022629\n",
       "                    ...   \n",
       "смех              1.880485\n",
       "конкурент         1.905985\n",
       "хочет больш       1.920711\n",
       "не сомнева        1.921269\n",
       "не захож          1.930715\n",
       "не холодн         1.941302\n",
       "аах               1.955373\n",
       "не упуст          1.968798\n",
       "ржал              1.969015\n",
       "спасиииб          1.983175\n",
       "не бо             2.044849\n",
       "не проща          2.069820\n",
       "специальн для     2.076940\n",
       "предвкушен        2.094744\n",
       "завтр пятниц      2.112920\n",
       "не печал          2.114597\n",
       "как никак         2.137914\n",
       "не обидн          2.140674\n",
       "конечн нет        2.149704\n",
       "не страшн         2.156954\n",
       "не скучн          2.206165\n",
       "не так плох       2.226586\n",
       "нич страшн        2.228797\n",
       "не так страшн     2.230569\n",
       "не испорт         2.267104\n",
       "ржу               2.314655\n",
       "не больн          2.442279\n",
       "не зря            2.508679\n",
       "не расстро        2.545570\n",
       "не жал            2.691563\n",
       "Length: 61423, dtype: float64"
      ]
     },
     "execution_count": 27,
     "metadata": {},
     "output_type": "execute_result"
    }
   ],
   "source": [
    "model_coefs.sort_values()"
   ]
  },
  {
   "cell_type": "code",
   "execution_count": 28,
   "metadata": {
    "collapsed": true
   },
   "outputs": [],
   "source": [
    "preds = model.predict(X_test)"
   ]
  },
  {
   "cell_type": "code",
   "execution_count": 29,
   "metadata": {
    "collapsed": true
   },
   "outputs": [],
   "source": [
    "preds_tf_idf = model_tf_idf.predict(X_test)"
   ]
  },
  {
   "cell_type": "code",
   "execution_count": 30,
   "metadata": {},
   "outputs": [
    {
     "data": {
      "text/plain": [
       "0.74117940956047668"
      ]
     },
     "execution_count": 30,
     "metadata": {},
     "output_type": "execute_result"
    }
   ],
   "source": [
    "accuracy_score(preds, y_test)"
   ]
  },
  {
   "cell_type": "code",
   "execution_count": 31,
   "metadata": {},
   "outputs": [
    {
     "data": {
      "text/plain": [
       "0.74999632628469826"
      ]
     },
     "execution_count": 31,
     "metadata": {},
     "output_type": "execute_result"
    }
   ],
   "source": [
    "accuracy_score(preds_tf_idf, y_test)"
   ]
  },
  {
   "cell_type": "code",
   "execution_count": 32,
   "metadata": {
    "collapsed": true
   },
   "outputs": [],
   "source": [
    "false_positive_rate, true_positive_rate, thresholds = roc_curve(y_test, preds_tf_idf)\n",
    "roc_auc = auc(false_positive_rate, true_positive_rate)"
   ]
  },
  {
   "cell_type": "code",
   "execution_count": 33,
   "metadata": {},
   "outputs": [
    {
     "data": {
      "image/png": "[encoded data removed]",
      "text/plain": [
       "<matplotlib.figure.Figure at 0x139f922d0>"
      ]
     },
     "metadata": {},
     "output_type": "display_data"
    }
   ],
   "source": [
    "plt.title('Receiver Operating Characteristic')\n",
    "plt.plot(false_positive_rate, true_positive_rate, 'b',\n",
    "label='AUC = %0.2f'% roc_auc)\n",
    "plt.legend(loc='lower right')\n",
    "plt.plot([0,1],[0,1],'r--')\n",
    "plt.xlim([-0.1,1.2])\n",
    "plt.ylim([-0.1,1.2])\n",
    "plt.ylabel('True Positive Rate')\n",
    "plt.xlabel('False Positive Rate')\n",
    "plt.show()"
   ]
  },
  {
   "cell_type": "code",
   "execution_count": 34,
   "metadata": {},
   "outputs": [
    {
     "data": {
      "image/png": "[encoded data removed]",
      "text/plain": [
       "<matplotlib.figure.Figure at 0x138fa9650>"
      ]
     },
     "metadata": {},
     "output_type": "display_data"
    }
   ],
   "source": [
    "plt.figure(figsize=(10, 8))\n",
    "fpr, tpr, thresholds = roc_curve(y_test, preds, pos_label=1)\n",
    "lw = 2\n",
    "plt.plot(fpr, tpr, lw=lw, label='ROC curve ')\n",
    "plt.plot([0, 1], [0, 1])\n",
    "plt.xlim([0.0, 1.0])\n",
    "plt.ylim([0.0, 1.05])\n",
    "plt.legend(loc='lower right')\n",
    "plt.xlabel('False Positive Rate')\n",
    "plt.ylabel('True Positive Rate')\n",
    "plt.title('ROC curve')\n",
    "#plt.savefig(\"ROC.png\")\n",
    "plt.show()"
   ]
  },
  {
   "cell_type": "code",
   "execution_count": null,
   "metadata": {
    "collapsed": true
   },
   "outputs": [],
   "source": []
  },
  {
   "cell_type": "code",
   "execution_count": null,
   "metadata": {
    "collapsed": true
   },
   "outputs": [],
   "source": []
  },
  {
   "cell_type": "code",
   "execution_count": null,
   "metadata": {
    "collapsed": true
   },
   "outputs": [],
   "source": []
  },
  {
   "cell_type": "code",
   "execution_count": null,
   "metadata": {
    "collapsed": true
   },
   "outputs": [],
   "source": []
  },
  {
   "cell_type": "markdown",
   "metadata": {},
   "source": [
    "## Load Twitts from dump"
   ]
  },
  {
   "cell_type": "code",
   "execution_count": 8,
   "metadata": {
    "collapsed": true
   },
   "outputs": [],
   "source": [
    "import json\n",
    "import pandas as pd"
   ]
  },
  {
   "cell_type": "code",
   "execution_count": 5,
   "metadata": {
    "collapsed": true
   },
   "outputs": [],
   "source": [
    "DUMP_PATH_APPLE = 'TwitterSearchScrapper/dump/APPLE/apple_2017-09-01_2017-11-20'\n",
    "DUMP_PATH_SECHIN = 'TwitterSearchScrapper/dump/СЕЧИН/Сечин_2017-01-01_2017-11-20'\n",
    "DUMP_PATH_ROSN = 'TwitterSearchScrapper/dump/РОСНЕФТЬ/Роснефть_2017-09-01_2017-11-20'\n",
    "DUMP_PATH_IPHONE = 'TwitterSearchScrapper/dump/IPHONE/iphone_2017-09-01_2017-11-20'\n",
    "DUMP_PATH_MAIL = 'TwitterSearchScrapper/dump/MAIL.RU/Mail.ru_2017-09-01_2017-11-20'"
   ]
  },
  {
   "cell_type": "code",
   "execution_count": 6,
   "metadata": {
    "collapsed": true
   },
   "outputs": [],
   "source": [
    "data_apple = pd.read_json(DUMP_PATH_APPLE)\n",
    "data_sechin = pd.read_json(DUMP_PATH_SECHIN)\n",
    "data_rosn = pd.read_json(DUMP_PATH_ROSN)\n",
    "data_iphone = pd.read_json(DUMP_PATH_IPHONE)\n",
    "data_mail = pd.read_json(DUMP_PATH_MAIL)"
   ]
  },
  {
   "cell_type": "code",
   "execution_count": 7,
   "metadata": {
    "collapsed": true
   },
   "outputs": [],
   "source": [
    "total_test_data = pd.concat([data_apple, data_iphone, data_mail, data_rosn, data_sechin], axis=0)"
   ]
  },
  {
   "cell_type": "code",
   "execution_count": 9,
   "metadata": {},
   "outputs": [
    {
     "data": {
      "text/plain": [
       "(56243, 18)"
      ]
     },
     "execution_count": 9,
     "metadata": {},
     "output_type": "execute_result"
    }
   ],
   "source": [
    "total_test_data.shape"
   ]
  },
  {
   "cell_type": "code",
   "execution_count": 10,
   "metadata": {},
   "outputs": [
    {
     "data": {
      "text/html": [
       "<div>\n",
       "<style scoped>\n",
       "    .dataframe tbody tr th:only-of-type {\n",
       "        vertical-align: middle;\n",
       "    }\n",
       "\n",
       "    .dataframe tbody tr th {\n",
       "        vertical-align: top;\n",
       "    }\n",
       "\n",
       "    .dataframe thead th {\n",
       "        text-align: right;\n",
       "    }\n",
       "</style>\n",
       "<table border=\"1\" class=\"dataframe\">\n",
       "  <thead>\n",
       "    <tr style=\"text-align: right;\">\n",
       "      <th></th>\n",
       "      <th>attach</th>\n",
       "      <th>favorites</th>\n",
       "      <th>id</th>\n",
       "      <th>link</th>\n",
       "      <th>mentions</th>\n",
       "      <th>quote</th>\n",
       "      <th>quote_id</th>\n",
       "      <th>replies</th>\n",
       "      <th>reply</th>\n",
       "      <th>reply_id</th>\n",
       "      <th>retweet</th>\n",
       "      <th>retweet_id</th>\n",
       "      <th>retweets</th>\n",
       "      <th>text</th>\n",
       "      <th>timestamp</th>\n",
       "      <th>user_id</th>\n",
       "      <th>user_name</th>\n",
       "      <th>user_username</th>\n",
       "    </tr>\n",
       "  </thead>\n",
       "  <tbody>\n",
       "    <tr>\n",
       "      <th>0</th>\n",
       "      <td>False</td>\n",
       "      <td>0</td>\n",
       "      <td>903739658512846848</td>\n",
       "      <td>https://twitter.com/Jalilov1Alisher/status/903...</td>\n",
       "      <td>[]</td>\n",
       "      <td>False</td>\n",
       "      <td>0</td>\n",
       "      <td>0</td>\n",
       "      <td>False</td>\n",
       "      <td>903739658512846848</td>\n",
       "      <td>False</td>\n",
       "      <td>0</td>\n",
       "      <td>0</td>\n",
       "      <td>Восстановление токопроводящих дорожек iPhone6 ...</td>\n",
       "      <td>2017-09-01 22:01:39</td>\n",
       "      <td>2393277684</td>\n",
       "      <td>Алишер</td>\n",
       "      <td>Jalilov1Alisher</td>\n",
       "    </tr>\n",
       "    <tr>\n",
       "      <th>1</th>\n",
       "      <td>False</td>\n",
       "      <td>0</td>\n",
       "      <td>903706496701272064</td>\n",
       "      <td>https://twitter.com/bobaleh/status/90370649670...</td>\n",
       "      <td>[]</td>\n",
       "      <td>False</td>\n",
       "      <td>0</td>\n",
       "      <td>0</td>\n",
       "      <td>False</td>\n",
       "      <td>903706496701272064</td>\n",
       "      <td>False</td>\n",
       "      <td>0</td>\n",
       "      <td>0</td>\n",
       "      <td>Это что еще за? #apple #iphone pic.twitter.com...</td>\n",
       "      <td>2017-09-01 19:49:53</td>\n",
       "      <td>107208664</td>\n",
       "      <td>Илья Егоров</td>\n",
       "      <td>bobaleh</td>\n",
       "    </tr>\n",
       "    <tr>\n",
       "      <th>2</th>\n",
       "      <td>False</td>\n",
       "      <td>0</td>\n",
       "      <td>903705849574633472</td>\n",
       "      <td>https://twitter.com/carrot_23/status/903705849...</td>\n",
       "      <td>[]</td>\n",
       "      <td>False</td>\n",
       "      <td>0</td>\n",
       "      <td>0</td>\n",
       "      <td>False</td>\n",
       "      <td>903705849574633472</td>\n",
       "      <td>False</td>\n",
       "      <td>0</td>\n",
       "      <td>0</td>\n",
       "      <td>Берёшь в руки 5 iPhone после 7ки и он такой не...</td>\n",
       "      <td>2017-09-01 19:47:19</td>\n",
       "      <td>465395891</td>\n",
       "      <td>Ksana Carrot</td>\n",
       "      <td>carrot_23</td>\n",
       "    </tr>\n",
       "    <tr>\n",
       "      <th>3</th>\n",
       "      <td>True</td>\n",
       "      <td>0</td>\n",
       "      <td>903704868346626048</td>\n",
       "      <td>https://twitter.com/rozumno/status/90370486834...</td>\n",
       "      <td>[]</td>\n",
       "      <td>False</td>\n",
       "      <td>0</td>\n",
       "      <td>0</td>\n",
       "      <td>False</td>\n",
       "      <td>903704868346626048</td>\n",
       "      <td>False</td>\n",
       "      <td>0</td>\n",
       "      <td>0</td>\n",
       "      <td>#Apple претендует на 50% рынка «умных» часов б...</td>\n",
       "      <td>2017-09-01 19:43:25</td>\n",
       "      <td>2225566922</td>\n",
       "      <td>Веб-студия Rozum.no</td>\n",
       "      <td>rozumno</td>\n",
       "    </tr>\n",
       "    <tr>\n",
       "      <th>4</th>\n",
       "      <td>False</td>\n",
       "      <td>1</td>\n",
       "      <td>903703648605175808</td>\n",
       "      <td>https://twitter.com/iskovskih/status/903703648...</td>\n",
       "      <td>[]</td>\n",
       "      <td>False</td>\n",
       "      <td>0</td>\n",
       "      <td>0</td>\n",
       "      <td>False</td>\n",
       "      <td>903703648605175808</td>\n",
       "      <td>False</td>\n",
       "      <td>0</td>\n",
       "      <td>0</td>\n",
       "      <td>12 сентября презентация #apple и буквально пар...</td>\n",
       "      <td>2017-09-01 19:38:34</td>\n",
       "      <td>390055117</td>\n",
       "      <td>Mike Iskovskih</td>\n",
       "      <td>iskovskih</td>\n",
       "    </tr>\n",
       "  </tbody>\n",
       "</table>\n",
       "</div>"
      ],
      "text/plain": [
       "   attach  favorites                  id  \\\n",
       "0   False          0  903739658512846848   \n",
       "1   False          0  903706496701272064   \n",
       "2   False          0  903705849574633472   \n",
       "3    True          0  903704868346626048   \n",
       "4   False          1  903703648605175808   \n",
       "\n",
       "                                                link mentions  quote  \\\n",
       "0  https://twitter.com/Jalilov1Alisher/status/903...       []  False   \n",
       "1  https://twitter.com/bobaleh/status/90370649670...       []  False   \n",
       "2  https://twitter.com/carrot_23/status/903705849...       []  False   \n",
       "3  https://twitter.com/rozumno/status/90370486834...       []  False   \n",
       "4  https://twitter.com/iskovskih/status/903703648...       []  False   \n",
       "\n",
       "   quote_id  replies  reply            reply_id  retweet  retweet_id  \\\n",
       "0         0        0  False  903739658512846848    False           0   \n",
       "1         0        0  False  903706496701272064    False           0   \n",
       "2         0        0  False  903705849574633472    False           0   \n",
       "3         0        0  False  903704868346626048    False           0   \n",
       "4         0        0  False  903703648605175808    False           0   \n",
       "\n",
       "   retweets                                               text  \\\n",
       "0         0  Восстановление токопроводящих дорожек iPhone6 ...   \n",
       "1         0  Это что еще за? #apple #iphone pic.twitter.com...   \n",
       "2         0  Берёшь в руки 5 iPhone после 7ки и он такой не...   \n",
       "3         0  #Apple претендует на 50% рынка «умных» часов б...   \n",
       "4         0  12 сентября презентация #apple и буквально пар...   \n",
       "\n",
       "            timestamp     user_id            user_name    user_username  \n",
       "0 2017-09-01 22:01:39  2393277684               Алишер  Jalilov1Alisher  \n",
       "1 2017-09-01 19:49:53   107208664          Илья Егоров          bobaleh  \n",
       "2 2017-09-01 19:47:19   465395891         Ksana Carrot        carrot_23  \n",
       "3 2017-09-01 19:43:25  2225566922  Веб-студия Rozum.no          rozumno  \n",
       "4 2017-09-01 19:38:34   390055117       Mike Iskovskih        iskovskih  "
      ]
     },
     "execution_count": 10,
     "metadata": {},
     "output_type": "execute_result"
    }
   ],
   "source": [
    "total_test_data.head()"
   ]
  },
  {
   "cell_type": "code",
   "execution_count": 11,
   "metadata": {
    "collapsed": true
   },
   "outputs": [],
   "source": [
    "total_test_data.to_csv('test_data.csv', sep=';')"
   ]
  },
  {
   "cell_type": "code",
   "execution_count": null,
   "metadata": {
    "collapsed": true
   },
   "outputs": [],
   "source": []
  }
 ],
 "metadata": {
  "kernelspec": {
   "display_name": "Python 2",
   "language": "python",
   "name": "python2"
  },
  "language_info": {
   "codemirror_mode": {
    "name": "ipython",
    "version": 2
   },
   "file_extension": ".py",
   "mimetype": "text/x-python",
   "name": "python",
   "nbconvert_exporter": "python",
   "pygments_lexer": "ipython2",
   "version": "2.7.13"
  }
 },
 "nbformat": 4,
 "nbformat_minor": 1
}
