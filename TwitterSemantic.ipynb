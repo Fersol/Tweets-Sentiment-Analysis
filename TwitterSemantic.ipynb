{
 "cells": [
  {
   "cell_type": "markdown",
   "metadata": {},
   "source": [
    "## Twitter Dataset Prepare"
   ]
  },
  {
   "cell_type": "code",
   "execution_count": 1,
   "metadata": {
    "collapsed": true
   },
   "outputs": [],
   "source": [
    "import pandas as pd\n",
    "import numpy as np\n",
    "import matplotlib.pyplot as plt\n",
    "import cPickle as pickle\n",
    "import tqdm\n",
    "import regex\n",
    "import os\n",
    "import re\n",
    "import shutil\n",
    "import operator\n",
    "import codecs\n",
    "import time\n",
    "import random\n",
    "from math import log\n",
    "from nltk import sent_tokenize\n",
    "from pymystem3 import Mystem\n",
    "from seaborn import heatmap\n",
    "from nltk.tokenize import RegexpTokenizer\n",
    "from nltk.stem.snowball import RussianStemmer\n",
    "from sklearn.model_selection import train_test_split\n",
    "from sklearn.feature_extraction.text import CountVectorizer, TfidfVectorizer\n",
    "from sklearn.pipeline import Pipeline\n",
    "from sklearn.linear_model import LogisticRegression\n",
    "from sklearn.metrics import accuracy_score\n",
    "from sklearn.metrics import roc_curve, auc\n",
    "\n",
    "\n",
    "\n",
    "from sklearn.ensemble import GradientBoostingClassifier\n",
    "from sklearn import datasets\n",
    "from sklearn.naive_bayes import GaussianNB\n",
    "from sklearn.naive_bayes import MultinomialNB\n",
    "from sklearn.naive_bayes import BernoulliNB\n",
    "\n",
    "%matplotlib inline"
   ]
  },
  {
   "cell_type": "markdown",
   "metadata": {},
   "source": [
    "База данных состоит из 12 столбцов:\n",
    "- id: уникальный номер сообщения в системе twitter;\n",
    "- tdate: дата публикации сообщения (твита);\n",
    "- tmane: имя пользователя, опубликовавшего сообщение;\n",
    "- ttext:  текст сообщения (твита);\n",
    "- ttype: поле в котором в дальнейшем будет указано к кому классу относится твит (положительный, отрицательный, нейтральный);\n",
    "- trep: количество реплаев к данному сообщению. В настоящий момент API твиттера не отдает эту информацию;\n",
    "- trtf: число ретвитов\n",
    "- tfav: число сколько раз данное сообщение было добавлено в избранное другими пользователями;\n",
    "- tstcount: число всех сообщений пользователя в сети twitter;\n",
    "- tfol: количество фоловеров пользователя (тех людей, которые читают пользователя);\n",
    "- tfrien: количество друзей пользователя (те люди, которых читает пользователь);\n",
    "- listcount: количество листов-подписок в которые добавлен твиттер-пользователь."
   ]
  },
  {
   "cell_type": "code",
   "execution_count": 2,
   "metadata": {
    "collapsed": true
   },
   "outputs": [],
   "source": [
    "header = ['id', 'tdate', 'tmane', 'ttext', 'ttype', 'trep', 'trtf', 'tfav', 'tstcount', 'tfol', 'tfrien', 'listcount']"
   ]
  },
  {
   "cell_type": "markdown",
   "metadata": {},
   "source": [
    "#### Загружаем положительные и негативные твиты в один DataFrame, после этого перемешиваем с помощью sample(frac=1)"
   ]
  },
  {
   "cell_type": "code",
   "execution_count": 3,
   "metadata": {
    "collapsed": true
   },
   "outputs": [],
   "source": [
    "pos_twitts = pd.read_csv('train_positive.csv', sep=';', names=header)\n",
    "neg_twitts = pd.read_csv('train_negative.csv', sep=';', names=header)\n",
    "twitts = pd.concat([pos_twitts, neg_twitts], axis=0)\n",
    "twitts = twitts.sample(frac=1)"
   ]
  },
  {
   "cell_type": "markdown",
   "metadata": {},
   "source": [
    "#### Смотрим размерность нашего размеченного датасета и проверяем, что у нас 2 вида твитов(положительные(1) и негативные(-1))"
   ]
  },
  {
   "cell_type": "code",
   "execution_count": 4,
   "metadata": {},
   "outputs": [
    {
     "name": "stdout",
     "output_type": "stream",
     "text": [
      "(226834, 12)\n"
     ]
    },
    {
     "data": {
      "text/html": [
       "<div>\n",
       "<style>\n",
       "    .dataframe thead tr:only-child th {\n",
       "        text-align: right;\n",
       "    }\n",
       "\n",
       "    .dataframe thead th {\n",
       "        text-align: left;\n",
       "    }\n",
       "\n",
       "    .dataframe tbody tr th {\n",
       "        vertical-align: top;\n",
       "    }\n",
       "</style>\n",
       "<table border=\"1\" class=\"dataframe\">\n",
       "  <thead>\n",
       "    <tr style=\"text-align: right;\">\n",
       "      <th></th>\n",
       "      <th>id</th>\n",
       "      <th>tdate</th>\n",
       "      <th>tmane</th>\n",
       "      <th>ttext</th>\n",
       "      <th>ttype</th>\n",
       "      <th>trep</th>\n",
       "      <th>trtf</th>\n",
       "      <th>tfav</th>\n",
       "      <th>tstcount</th>\n",
       "      <th>tfol</th>\n",
       "      <th>tfrien</th>\n",
       "      <th>listcount</th>\n",
       "    </tr>\n",
       "  </thead>\n",
       "  <tbody>\n",
       "    <tr>\n",
       "      <th>8038</th>\n",
       "      <td>409103511147003904</td>\n",
       "      <td>1386372852</td>\n",
       "      <td>dorokhova_anna_</td>\n",
       "      <td>а где ты будешь праздновать новый год? — с пар...</td>\n",
       "      <td>1</td>\n",
       "      <td>0</td>\n",
       "      <td>0</td>\n",
       "      <td>0</td>\n",
       "      <td>597</td>\n",
       "      <td>1214</td>\n",
       "      <td>30</td>\n",
       "      <td>0</td>\n",
       "    </tr>\n",
       "    <tr>\n",
       "      <th>70182</th>\n",
       "      <td>410466817023680512</td>\n",
       "      <td>1386697889</td>\n",
       "      <td>DashaLasVegas</td>\n",
       "      <td>Заболел моей болезнью))) теперь каждый день ки...</td>\n",
       "      <td>1</td>\n",
       "      <td>0</td>\n",
       "      <td>0</td>\n",
       "      <td>0</td>\n",
       "      <td>1716</td>\n",
       "      <td>45</td>\n",
       "      <td>46</td>\n",
       "      <td>0</td>\n",
       "    </tr>\n",
       "    <tr>\n",
       "      <th>76946</th>\n",
       "      <td>419136861983223808</td>\n",
       "      <td>1388764989</td>\n",
       "      <td>Ulisoul</td>\n",
       "      <td>На данный момент, я ненавижу то место где сейч...</td>\n",
       "      <td>-1</td>\n",
       "      <td>0</td>\n",
       "      <td>0</td>\n",
       "      <td>0</td>\n",
       "      <td>5530</td>\n",
       "      <td>45</td>\n",
       "      <td>78</td>\n",
       "      <td>1</td>\n",
       "    </tr>\n",
       "    <tr>\n",
       "      <th>34507</th>\n",
       "      <td>413324014661013504</td>\n",
       "      <td>1387379098</td>\n",
       "      <td>Didiandra</td>\n",
       "      <td>Столько вопросов.. я хочу вернуть обратно мели...</td>\n",
       "      <td>-1</td>\n",
       "      <td>0</td>\n",
       "      <td>0</td>\n",
       "      <td>0</td>\n",
       "      <td>11515</td>\n",
       "      <td>511</td>\n",
       "      <td>497</td>\n",
       "      <td>5</td>\n",
       "    </tr>\n",
       "    <tr>\n",
       "      <th>77266</th>\n",
       "      <td>419153908695437312</td>\n",
       "      <td>1388769053</td>\n",
       "      <td>COBA_JEDWARD</td>\n",
       "      <td>@smileofGannicus я бы был не против упороться ...</td>\n",
       "      <td>-1</td>\n",
       "      <td>0</td>\n",
       "      <td>0</td>\n",
       "      <td>0</td>\n",
       "      <td>16260</td>\n",
       "      <td>530</td>\n",
       "      <td>407</td>\n",
       "      <td>11</td>\n",
       "    </tr>\n",
       "  </tbody>\n",
       "</table>\n",
       "</div>"
      ],
      "text/plain": [
       "                       id       tdate            tmane  \\\n",
       "8038   409103511147003904  1386372852  dorokhova_anna_   \n",
       "70182  410466817023680512  1386697889    DashaLasVegas   \n",
       "76946  419136861983223808  1388764989          Ulisoul   \n",
       "34507  413324014661013504  1387379098        Didiandra   \n",
       "77266  419153908695437312  1388769053     COBA_JEDWARD   \n",
       "\n",
       "                                                   ttext  ttype  trep  trtf  \\\n",
       "8038   а где ты будешь праздновать новый год? — с пар...      1     0     0   \n",
       "70182  Заболел моей болезнью))) теперь каждый день ки...      1     0     0   \n",
       "76946  На данный момент, я ненавижу то место где сейч...     -1     0     0   \n",
       "34507  Столько вопросов.. я хочу вернуть обратно мели...     -1     0     0   \n",
       "77266  @smileofGannicus я бы был не против упороться ...     -1     0     0   \n",
       "\n",
       "       tfav  tstcount  tfol  tfrien  listcount  \n",
       "8038      0       597  1214      30          0  \n",
       "70182     0      1716    45      46          0  \n",
       "76946     0      5530    45      78          1  \n",
       "34507     0     11515   511     497          5  \n",
       "77266     0     16260   530     407         11  "
      ]
     },
     "execution_count": 4,
     "metadata": {},
     "output_type": "execute_result"
    }
   ],
   "source": [
    "print twitts.shape\n",
    "twitts.head()"
   ]
  },
  {
   "cell_type": "code",
   "execution_count": 5,
   "metadata": {},
   "outputs": [
    {
     "data": {
      "text/plain": [
       "array([ 1, -1])"
      ]
     },
     "execution_count": 5,
     "metadata": {},
     "output_type": "execute_result"
    }
   ],
   "source": [
    "twitts.ttype.unique()"
   ]
  },
  {
   "cell_type": "markdown",
   "metadata": {},
   "source": [
    "## Working with Twitter texts"
   ]
  },
  {
   "cell_type": "code",
   "execution_count": 6,
   "metadata": {
    "collapsed": true
   },
   "outputs": [],
   "source": [
    "X = twitts.ttext.values\n",
    "y = twitts.ttype.values"
   ]
  },
  {
   "cell_type": "code",
   "execution_count": 7,
   "metadata": {
    "collapsed": true
   },
   "outputs": [],
   "source": [
    "def prepare_text(text):\n",
    "    text = text.lower().strip()\n",
    "    text = re.sub(r'@\\S+', '', text) # delete @user_name\n",
    "    text = re.sub(r'#\\W+', '', text) # delete #hashtag\n",
    "    text = re.sub(r'[o_, O_, dd, dddd, ddd, 0-9, \\:, \\(, \\), \\!, \\-, \\;, \\?, rt, \\#]+', ' ', text) # delete smiles\n",
    "    return text"
   ]
  },
  {
   "cell_type": "code",
   "execution_count": 8,
   "metadata": {
    "collapsed": true
   },
   "outputs": [],
   "source": [
    "X = [prepare_text(text).decode('utf-8') for text in X]"
   ]
  },
  {
   "cell_type": "code",
   "execution_count": 9,
   "metadata": {
    "collapsed": true
   },
   "outputs": [],
   "source": [
    "tokenizer = RegexpTokenizer('\\w+|\\S+')\n",
    "r = RussianStemmer()"
   ]
  },
  {
   "cell_type": "code",
   "execution_count": 10,
   "metadata": {
    "collapsed": true
   },
   "outputs": [],
   "source": [
    "def tokenize(text):\n",
    "    return tokenizer.tokenize(text)\n",
    "\n",
    "def stem_text(text):\n",
    "    return [r.stem(word) for word in text]"
   ]
  },
  {
   "cell_type": "code",
   "execution_count": 11,
   "metadata": {
    "collapsed": true
   },
   "outputs": [],
   "source": [
    "X = [tokenize(text) for text in X]"
   ]
  },
  {
   "cell_type": "code",
   "execution_count": 12,
   "metadata": {
    "collapsed": true
   },
   "outputs": [],
   "source": [
    "X = [stem_text(text) for text in X]"
   ]
  },
  {
   "cell_type": "markdown",
   "metadata": {},
   "source": [
    "#### После стемминга мы получили в X набор слов вместо цельных предложений. Объединяем обратно из массива слов в предложения и после этого удаляем никнеймы, хештеги, указание ретвитов и смайлики"
   ]
  },
  {
   "cell_type": "code",
   "execution_count": 13,
   "metadata": {
    "collapsed": true
   },
   "outputs": [],
   "source": [
    "X_sent = [' '.join(words) for words in X]"
   ]
  },
  {
   "cell_type": "code",
   "execution_count": 14,
   "metadata": {
    "collapsed": true
   },
   "outputs": [],
   "source": [
    "X_sent_prepare = [prepare_text(text) for text in X_sent]"
   ]
  },
  {
   "cell_type": "code",
   "execution_count": 15,
   "metadata": {},
   "outputs": [
    {
     "name": "stdout",
     "output_type": "stream",
     "text": [
      "человек в номер . шик да == зат корм очен вкусн и мног ** но нет ужин но сабв напрот . но у мен нет денег .\n",
      "и все же я не мог без наушник сво =\n",
      "да один человек говор позвон и тишин\n",
      "дума нет но у всех разн взгляд насчет эт\n",
      "куд мне ещ жалова\n",
      "уж сегодн на якоб родин ... эх пок мск\n",
      "я ег так любл а он сво поступк дела мне больн ну поч вот так\n",
      "у мен мам дума что я накур\n",
      "я сочиня рома мужчин все мо жизн ид по вечн круг . я так реш сам перепечата мысл и разошл всем подруг .\n",
      "якщ я закоха у ньог то мені буд насрат\n"
     ]
    }
   ],
   "source": [
    "for x in X_sent_prepare[10:20]:\n",
    "    print x"
   ]
  },
  {
   "cell_type": "code",
   "execution_count": 16,
   "metadata": {},
   "outputs": [
    {
     "name": "stdout",
     "output_type": "stream",
     "text": [
      "а где ты будеш празднова нов год — с парн и друз h p // .c /um zwb ak\n"
     ]
    }
   ],
   "source": [
    "print X_sent[0]"
   ]
  },
  {
   "cell_type": "markdown",
   "metadata": {},
   "source": [
    "### Разбиваем наш датасет с помощью train test split и начинаем создавать модельки"
   ]
  },
  {
   "cell_type": "code",
   "execution_count": 17,
   "metadata": {
    "collapsed": true
   },
   "outputs": [],
   "source": [
    "X_train, X_test, y_train, y_test = train_test_split(X_sent_prepare, y, test_size=0.3, random_state=42)"
   ]
  },
  {
   "cell_type": "markdown",
   "metadata": {},
   "source": [
    "#### Модель на Логистической регрессии дает лучший результат(0.749) с параметрами ngram_range=(1, 3), min_df=5. Вид модели роль не играет"
   ]
  },
  {
   "cell_type": "code",
   "execution_count": 18,
   "metadata": {
    "collapsed": true
   },
   "outputs": [],
   "source": [
    "model_logreg = Pipeline([('count', CountVectorizer(ngram_range=(1, 3), min_df=5)), ('log_reg', LogisticRegression(class_weight='balanced'))])\n",
    "model_logreg_tf_idf = Pipeline([('count', TfidfVectorizer(ngram_range=(1, 3), min_df=5)), ('log_reg', LogisticRegression(class_weight='balanced'))])"
   ]
  },
  {
   "cell_type": "code",
   "execution_count": 19,
   "metadata": {
    "collapsed": true
   },
   "outputs": [],
   "source": [
    "model_gradboost = Pipeline([('count', CountVectorizer(ngram_range=(1, 1))), ('grad_boost', GradientBoostingClassifier(max_depth=5, verbose=True, n_estimators=100))])\n",
    "model_gradboost_tf_idf = Pipeline([('count', TfidfVectorizer(ngram_range=(1, 2), min_df=10)), ('grad_boost', GradientBoostingClassifier(max_depth=5, verbose=True, n_estimators=100))])"
   ]
  },
  {
   "cell_type": "code",
   "execution_count": 20,
   "metadata": {},
   "outputs": [
    {
     "data": {
      "text/plain": [
       "BernoulliNB(alpha=1.0, binarize=0.0, class_prior=None, fit_prior=True)"
      ]
     },
     "execution_count": 20,
     "metadata": {},
     "output_type": "execute_result"
    }
   ],
   "source": [
    "vect = CountVectorizer()\n",
    "X_train_dtm = vect.fit_transform(X_train)\n",
    "X_test_dtm = vect.transform(X_test)\n",
    "nb = MultinomialNB()\n",
    "bb = BernoulliNB()\n",
    "nb.fit(X_train_dtm, y_train)\n",
    "bb.fit(X_train_dtm, y_train)\n",
    "\n",
    "# Падает kernel при попытке работать... на 10000 дает accuracy 0.57\n",
    "#gb = GaussianNB()\n",
    "#gb.fit(X_train_dtm[:10000].toarray(), y_train[:10000])"
   ]
  },
  {
   "cell_type": "code",
   "execution_count": 19,
   "metadata": {},
   "outputs": [
    {
     "data": {
      "text/plain": [
       "Pipeline(memory=None,\n",
       "     steps=[('count', CountVectorizer(analyzer=u'word', binary=False, decode_error=u'strict',\n",
       "        dtype=<type 'numpy.int64'>, encoding=u'utf-8', input=u'content',\n",
       "        lowercase=True, max_df=1.0, max_features=None, min_df=5,\n",
       "        ngram_range=(1, 3), preprocessor=None, stop_words=None,\n",
       "        s...ty='l2', random_state=None,\n",
       "          solver='liblinear', tol=0.0001, verbose=0, warm_start=False))])"
      ]
     },
     "execution_count": 19,
     "metadata": {},
     "output_type": "execute_result"
    }
   ],
   "source": [
    "model_logreg.fit(X_train, y_train)"
   ]
  },
  {
   "cell_type": "code",
   "execution_count": 20,
   "metadata": {},
   "outputs": [
    {
     "data": {
      "text/plain": [
       "Pipeline(memory=None,\n",
       "     steps=[('count', TfidfVectorizer(analyzer=u'word', binary=False, decode_error=u'strict',\n",
       "        dtype=<type 'numpy.int64'>, encoding=u'utf-8', input=u'content',\n",
       "        lowercase=True, max_df=1.0, max_features=None, min_df=5,\n",
       "        ngram_range=(1, 3), norm=u'l2', preprocessor=None, smooth_idf=Tru...ty='l2', random_state=None,\n",
       "          solver='liblinear', tol=0.0001, verbose=0, warm_start=False))])"
      ]
     },
     "execution_count": 20,
     "metadata": {},
     "output_type": "execute_result"
    }
   ],
   "source": [
    "model_logreg_tf_idf.fit(X_train, y_train)"
   ]
  },
  {
   "cell_type": "code",
   "execution_count": 23,
   "metadata": {},
   "outputs": [
    {
     "name": "stdout",
     "output_type": "stream",
     "text": [
      "      Iter       Train Loss   Remaining Time \n",
      "         1           1.3771            1.19m\n",
      "         2           1.3695            1.15m\n",
      "         3           1.3632            1.12m\n",
      "         4           1.3577            1.10m\n",
      "         5           1.3527            1.09m\n",
      "         6           1.3484            1.07m\n",
      "         7           1.3445            1.06m\n",
      "         8           1.3410            1.04m\n",
      "         9           1.3377            1.02m\n",
      "        10           1.3347           59.91s\n",
      "        20           1.3118           50.57s\n",
      "        30           1.2951           43.51s\n",
      "        40           1.2824           36.84s\n",
      "        50           1.2713           30.47s\n",
      "        60           1.2618           24.48s\n",
      "        70           1.2533           18.12s\n",
      "        80           1.2454           12.05s\n",
      "        90           1.2386            6.00s\n",
      "       100           1.2318            0.00s\n"
     ]
    },
    {
     "data": {
      "text/plain": [
       "Pipeline(memory=None,\n",
       "     steps=[('count', CountVectorizer(analyzer=u'word', binary=False, decode_error=u'strict',\n",
       "        dtype=<type 'numpy.int64'>, encoding=u'utf-8', input=u'content',\n",
       "        lowercase=True, max_df=1.0, max_features=None, min_df=1,\n",
       "        ngram_range=(1, 1), preprocessor=None, stop_words=None,\n",
       "        s...   presort='auto', random_state=None, subsample=1.0,\n",
       "              verbose=True, warm_start=False))])"
      ]
     },
     "execution_count": 23,
     "metadata": {},
     "output_type": "execute_result"
    }
   ],
   "source": [
    "model_gradboost.fit(X_train, y_train)"
   ]
  },
  {
   "cell_type": "code",
   "execution_count": 24,
   "metadata": {},
   "outputs": [
    {
     "name": "stdout",
     "output_type": "stream",
     "text": [
      "      Iter       Train Loss   Remaining Time \n",
      "         1           1.3769            1.95m\n",
      "         2           1.3691            1.89m\n",
      "         3           1.3627            1.86m\n",
      "         4           1.3571            1.83m\n",
      "         5           1.3521            1.81m\n",
      "         6           1.3476            1.79m\n",
      "         7           1.3436            1.76m\n",
      "         8           1.3399            1.73m\n",
      "         9           1.3365            1.71m\n",
      "        10           1.3333            1.69m\n",
      "        20           1.3086            1.48m\n",
      "        30           1.2908            1.29m\n",
      "        40           1.2764            1.12m\n",
      "        50           1.2644           55.15s\n",
      "        60           1.2543           43.75s\n",
      "        70           1.2456           32.60s\n",
      "        80           1.2372           21.67s\n",
      "        90           1.2294           10.80s\n",
      "       100           1.2226            0.00s\n"
     ]
    },
    {
     "data": {
      "text/plain": [
       "Pipeline(memory=None,\n",
       "     steps=[('count', TfidfVectorizer(analyzer=u'word', binary=False, decode_error=u'strict',\n",
       "        dtype=<type 'numpy.int64'>, encoding=u'utf-8', input=u'content',\n",
       "        lowercase=True, max_df=1.0, max_features=None, min_df=10,\n",
       "        ngram_range=(1, 2), norm=u'l2', preprocessor=None, smooth_idf=Tr...   presort='auto', random_state=None, subsample=1.0,\n",
       "              verbose=True, warm_start=False))])"
      ]
     },
     "execution_count": 24,
     "metadata": {},
     "output_type": "execute_result"
    }
   ],
   "source": [
    "model_gradboost_tf_idf.fit(X_train, y_train)"
   ]
  },
  {
   "cell_type": "markdown",
   "metadata": {},
   "source": [
    "#### Посмотрим у каких слов получились самые влиятельные веса и считаем оценки (смотрим модель логистической регрессии без TF-IDF)"
   ]
  },
  {
   "cell_type": "code",
   "execution_count": 21,
   "metadata": {
    "collapsed": true
   },
   "outputs": [],
   "source": [
    "words_logreg = model_logreg.steps[0][1].get_feature_names()\n",
    "coefs_logreg = model_logreg.steps[1][1].coef_[0]\n",
    "\n",
    "words_logreg_tf_idf = model_logreg_tf_idf.steps[0][1].get_feature_names()\n",
    "coefs_logreg_tf_idf = model_logreg_tf_idf.steps[1][1].coef_[0]"
   ]
  },
  {
   "cell_type": "code",
   "execution_count": 22,
   "metadata": {
    "collapsed": true
   },
   "outputs": [],
   "source": [
    "model_coefs_logreg = pd.Series(index=words_logreg, data=coefs_logreg)\n",
    "model_coefs_logreg_tf_idf = pd.Series(index=words_logreg_tf_idf, data=coefs_logreg_tf_idf)"
   ]
  },
  {
   "cell_type": "code",
   "execution_count": 23,
   "metadata": {
    "collapsed": true
   },
   "outputs": [],
   "source": [
    "model_coefs_logreg_sorted = model_coefs_logreg.sort_values()\n",
    "model_coefs_logreg_tf_idf_sorted = model_coefs_logreg_tf_idf.sort_values()"
   ]
  },
  {
   "cell_type": "code",
   "execution_count": 24,
   "metadata": {},
   "outputs": [
    {
     "name": "stdout",
     "output_type": "stream",
     "text": [
      "обидн     -2.826726\n",
      "пичальк   -2.658299\n",
      "печальн   -2.533482\n",
      "пичал     -2.424513\n",
      "расстро   -2.377510\n",
      "dtype: float64\n",
      "не зря       2.422772\n",
      "угора        2.478545\n",
      "не испорт    2.555722\n",
      "не больн     2.572150\n",
      "не жал       2.871511\n",
      "dtype: float64\n"
     ]
    }
   ],
   "source": [
    "print model_coefs_logreg_sorted[:5]\n",
    "print model_coefs_logreg_sorted[-5:]"
   ]
  },
  {
   "cell_type": "code",
   "execution_count": 25,
   "metadata": {},
   "outputs": [
    {
     "name": "stdout",
     "output_type": "stream",
     "text": [
      "обидн     -7.336220\n",
      "грустн    -6.041659\n",
      "печальн   -6.041075\n",
      "жалк      -5.803233\n",
      "жал       -5.506900\n",
      "dtype: float64\n",
      "хах       4.423172\n",
      "спасиб    4.429548\n",
      "ахахах    4.457787\n",
      "приятн    5.170688\n",
      "ахах      6.029056\n",
      "dtype: float64\n"
     ]
    }
   ],
   "source": [
    "print model_coefs_logreg_tf_idf_sorted[:5]\n",
    "print model_coefs_logreg_tf_idf_sorted[-5:]"
   ]
  },
  {
   "cell_type": "code",
   "execution_count": 26,
   "metadata": {
    "collapsed": true
   },
   "outputs": [],
   "source": [
    "preds_logreg = model_logreg.predict(X_test)\n",
    "preds_logreg_tf_idf = model_logreg_tf_idf.predict(X_test)\n",
    "preds_gradboost = model_gradboost.predict(X_test)\n",
    "preds_gradboost_tf_idf = model_gradboost_tf_idf.predict(X_test)\n",
    "preds_nb = nb.predict(X_test_dtm)\n",
    "preds_bb = bb.predict(X_test_dtm)"
   ]
  },
  {
   "cell_type": "code",
   "execution_count": 27,
   "metadata": {},
   "outputs": [
    {
     "name": "stdout",
     "output_type": "stream",
     "text": [
      "0.739856872052\n",
      "0.749467311281\n"
     ]
    }
   ],
   "source": [
    "print accuracy_score(preds_logreg, y_test)\n",
    "print accuracy_score(preds_logreg_tf_idf, y_test)\n",
    "print accuracy_score(preds_gradboost, y_test)\n",
    "print accuracy_score(preds_gradboost_tf_idf, y_test)\n",
    "print accuracy_score(preds_nb, y_test)\n",
    "print accuracy_score(preds_bb, y_test)"
   ]
  },
  {
   "cell_type": "code",
   "execution_count": 28,
   "metadata": {
    "collapsed": true
   },
   "outputs": [],
   "source": [
    "logreg_false_positive_rate, logreg_true_positive_rate, thresholds = roc_curve(y_test, preds_logreg)\n",
    "logreg_roc_auc = auc(logreg_false_positive_rate, logreg_true_positive_rate)\n",
    "logreg_tf_idf_false_positive_rate, logreg_tf_idf_true_positive_rate, thresholds = roc_curve(y_test, preds_logreg_tf_idf)\n",
    "logreg_tf_idf_roc_auc = auc(logreg_tf_idf_false_positive_rate, logreg_tf_idf_true_positive_rate)"
   ]
  },
  {
   "cell_type": "code",
   "execution_count": 29,
   "metadata": {},
   "outputs": [
    {
     "data": {
      "image/png": "[encoded data removed]",
      "text/plain": [
       "<matplotlib.figure.Figure at 0x13b7feb10>"
      ]
     },
     "metadata": {},
     "output_type": "display_data"
    }
   ],
   "source": [
    "plt.title('Receiver Operating Characteristic')\n",
    "plt.plot(logreg_tf_idf_false_positive_rate, logreg_tf_idf_true_positive_rate, 'b', label='LogReg TF-IDF AUC = %0.2f'% logreg_tf_idf_roc_auc)\n",
    "plt.plot(logreg_tf_idf_false_positive_rate, logreg_tf_idf_true_positive_rate, 'g', label='LogReg AUC = %0.2f'% logreg_roc_auc)\n",
    "plt.legend(loc='lower right')\n",
    "plt.plot([0,1],[0,1],'r--')\n",
    "plt.xlim([-0.1,1.2])\n",
    "plt.ylim([-0.1,1.2])\n",
    "plt.ylabel('True Positive Rate')\n",
    "plt.xlabel('False Positive Rate')\n",
    "plt.show()"
   ]
  },
  {
   "cell_type": "markdown",
   "metadata": {},
   "source": [
    "#### Рассмотрим подробнее разные виды NB и подберем альфа"
   ]
  },
  {
   "cell_type": "code",
   "execution_count": 82,
   "metadata": {},
   "outputs": [
    {
     "name": "stdout",
     "output_type": "stream",
     "text": [
      "0.733582166316 2.4\n",
      "0.732729864366 3.9\n"
     ]
    }
   ],
   "source": [
    "size = 40\n",
    "as_nb = np.empty(size)\n",
    "as_bb = np.empty(size)\n",
    "for i in xrange(1, size+1):\n",
    "    tmp_alpha = float(i)/10\n",
    "    nb = MultinomialNB(alpha=tmp_alpha)\n",
    "    bb = BernoulliNB(alpha=tmp_alpha)\n",
    "    nb.fit(X_train_dtm, y_train)\n",
    "    bb.fit(X_train_dtm, y_train)\n",
    "    preds_nb = nb.predict(X_test_dtm)\n",
    "    preds_bb = bb.predict(X_test_dtm)\n",
    "    as_nb[i-1] = accuracy_score(preds_nb, y_test)\n",
    "    as_bb[i-1] = accuracy_score(preds_bb, y_test)\n",
    "print as_nb.max(), float(as_nb.argmax()+1)/10\n",
    "print as_bb.max(), float(as_bb.argmax()+1)/10"
   ]
  },
  {
   "cell_type": "code",
   "execution_count": 84,
   "metadata": {},
   "outputs": [
    {
     "data": {
      "image/png": "[encoded data removed]",
      "text/plain": [
       "<matplotlib.figure.Figure at 0x14e0e8a90>"
      ]
     },
     "metadata": {},
     "output_type": "display_data"
    }
   ],
   "source": [
    "plt.plot(as_nb, 'b', label='MultinomialNB')\n",
    "plt.plot(as_bb, 'orange', label='BernoulliNB')\n",
    "plt.legend(loc='lower right')\n",
    "plt.ylabel('Accuracy Score')\n",
    "plt.xlabel('10*alpha')\n",
    "plt.show()"
   ]
  },
  {
   "cell_type": "code",
   "execution_count": null,
   "metadata": {
    "collapsed": true
   },
   "outputs": [],
   "source": []
  },
  {
   "cell_type": "code",
   "execution_count": null,
   "metadata": {
    "collapsed": true
   },
   "outputs": [],
   "source": []
  },
  {
   "cell_type": "code",
   "execution_count": null,
   "metadata": {
    "collapsed": true
   },
   "outputs": [],
   "source": []
  },
  {
   "cell_type": "markdown",
   "metadata": {},
   "source": [
    "## Load Twitts from dump"
   ]
  },
  {
   "cell_type": "code",
   "execution_count": 8,
   "metadata": {
    "collapsed": true
   },
   "outputs": [],
   "source": [
    "import json\n",
    "import pandas as pd"
   ]
  },
  {
   "cell_type": "code",
   "execution_count": 5,
   "metadata": {
    "collapsed": true
   },
   "outputs": [],
   "source": [
    "DUMP_PATH_APPLE = 'TwitterSearchScrapper/dump/APPLE/apple_2017-09-01_2017-11-20'\n",
    "DUMP_PATH_SECHIN = 'TwitterSearchScrapper/dump/СЕЧИН/Сечин_2017-01-01_2017-11-20'\n",
    "DUMP_PATH_ROSN = 'TwitterSearchScrapper/dump/РОСНЕФТЬ/Роснефть_2017-09-01_2017-11-20'\n",
    "DUMP_PATH_IPHONE = 'TwitterSearchScrapper/dump/IPHONE/iphone_2017-09-01_2017-11-20'\n",
    "DUMP_PATH_MAIL = 'TwitterSearchScrapper/dump/MAIL.RU/Mail.ru_2017-09-01_2017-11-20'"
   ]
  },
  {
   "cell_type": "code",
   "execution_count": 6,
   "metadata": {
    "collapsed": true
   },
   "outputs": [],
   "source": [
    "data_apple = pd.read_json(DUMP_PATH_APPLE)\n",
    "data_sechin = pd.read_json(DUMP_PATH_SECHIN)\n",
    "data_rosn = pd.read_json(DUMP_PATH_ROSN)\n",
    "data_iphone = pd.read_json(DUMP_PATH_IPHONE)\n",
    "data_mail = pd.read_json(DUMP_PATH_MAIL)"
   ]
  },
  {
   "cell_type": "code",
   "execution_count": 7,
   "metadata": {
    "collapsed": true
   },
   "outputs": [],
   "source": [
    "total_test_data = pd.concat([data_apple, data_iphone, data_mail, data_rosn, data_sechin], axis=0)"
   ]
  },
  {
   "cell_type": "code",
   "execution_count": 9,
   "metadata": {},
   "outputs": [
    {
     "data": {
      "text/plain": [
       "(56243, 18)"
      ]
     },
     "execution_count": 9,
     "metadata": {},
     "output_type": "execute_result"
    }
   ],
   "source": [
    "total_test_data.shape"
   ]
  },
  {
   "cell_type": "code",
   "execution_count": 10,
   "metadata": {},
   "outputs": [
    {
     "data": {
      "text/html": [
       "<div>\n",
       "<style scoped>\n",
       "    .dataframe tbody tr th:only-of-type {\n",
       "        vertical-align: middle;\n",
       "    }\n",
       "\n",
       "    .dataframe tbody tr th {\n",
       "        vertical-align: top;\n",
       "    }\n",
       "\n",
       "    .dataframe thead th {\n",
       "        text-align: right;\n",
       "    }\n",
       "</style>\n",
       "<table border=\"1\" class=\"dataframe\">\n",
       "  <thead>\n",
       "    <tr style=\"text-align: right;\">\n",
       "      <th></th>\n",
       "      <th>attach</th>\n",
       "      <th>favorites</th>\n",
       "      <th>id</th>\n",
       "      <th>link</th>\n",
       "      <th>mentions</th>\n",
       "      <th>quote</th>\n",
       "      <th>quote_id</th>\n",
       "      <th>replies</th>\n",
       "      <th>reply</th>\n",
       "      <th>reply_id</th>\n",
       "      <th>retweet</th>\n",
       "      <th>retweet_id</th>\n",
       "      <th>retweets</th>\n",
       "      <th>text</th>\n",
       "      <th>timestamp</th>\n",
       "      <th>user_id</th>\n",
       "      <th>user_name</th>\n",
       "      <th>user_username</th>\n",
       "    </tr>\n",
       "  </thead>\n",
       "  <tbody>\n",
       "    <tr>\n",
       "      <th>0</th>\n",
       "      <td>False</td>\n",
       "      <td>0</td>\n",
       "      <td>903739658512846848</td>\n",
       "      <td>https://twitter.com/Jalilov1Alisher/status/903...</td>\n",
       "      <td>[]</td>\n",
       "      <td>False</td>\n",
       "      <td>0</td>\n",
       "      <td>0</td>\n",
       "      <td>False</td>\n",
       "      <td>903739658512846848</td>\n",
       "      <td>False</td>\n",
       "      <td>0</td>\n",
       "      <td>0</td>\n",
       "      <td>Восстановление токопроводящих дорожек iPhone6 ...</td>\n",
       "      <td>2017-09-01 22:01:39</td>\n",
       "      <td>2393277684</td>\n",
       "      <td>Алишер</td>\n",
       "      <td>Jalilov1Alisher</td>\n",
       "    </tr>\n",
       "    <tr>\n",
       "      <th>1</th>\n",
       "      <td>False</td>\n",
       "      <td>0</td>\n",
       "      <td>903706496701272064</td>\n",
       "      <td>https://twitter.com/bobaleh/status/90370649670...</td>\n",
       "      <td>[]</td>\n",
       "      <td>False</td>\n",
       "      <td>0</td>\n",
       "      <td>0</td>\n",
       "      <td>False</td>\n",
       "      <td>903706496701272064</td>\n",
       "      <td>False</td>\n",
       "      <td>0</td>\n",
       "      <td>0</td>\n",
       "      <td>Это что еще за? #apple #iphone pic.twitter.com...</td>\n",
       "      <td>2017-09-01 19:49:53</td>\n",
       "      <td>107208664</td>\n",
       "      <td>Илья Егоров</td>\n",
       "      <td>bobaleh</td>\n",
       "    </tr>\n",
       "    <tr>\n",
       "      <th>2</th>\n",
       "      <td>False</td>\n",
       "      <td>0</td>\n",
       "      <td>903705849574633472</td>\n",
       "      <td>https://twitter.com/carrot_23/status/903705849...</td>\n",
       "      <td>[]</td>\n",
       "      <td>False</td>\n",
       "      <td>0</td>\n",
       "      <td>0</td>\n",
       "      <td>False</td>\n",
       "      <td>903705849574633472</td>\n",
       "      <td>False</td>\n",
       "      <td>0</td>\n",
       "      <td>0</td>\n",
       "      <td>Берёшь в руки 5 iPhone после 7ки и он такой не...</td>\n",
       "      <td>2017-09-01 19:47:19</td>\n",
       "      <td>465395891</td>\n",
       "      <td>Ksana Carrot</td>\n",
       "      <td>carrot_23</td>\n",
       "    </tr>\n",
       "    <tr>\n",
       "      <th>3</th>\n",
       "      <td>True</td>\n",
       "      <td>0</td>\n",
       "      <td>903704868346626048</td>\n",
       "      <td>https://twitter.com/rozumno/status/90370486834...</td>\n",
       "      <td>[]</td>\n",
       "      <td>False</td>\n",
       "      <td>0</td>\n",
       "      <td>0</td>\n",
       "      <td>False</td>\n",
       "      <td>903704868346626048</td>\n",
       "      <td>False</td>\n",
       "      <td>0</td>\n",
       "      <td>0</td>\n",
       "      <td>#Apple претендует на 50% рынка «умных» часов б...</td>\n",
       "      <td>2017-09-01 19:43:25</td>\n",
       "      <td>2225566922</td>\n",
       "      <td>Веб-студия Rozum.no</td>\n",
       "      <td>rozumno</td>\n",
       "    </tr>\n",
       "    <tr>\n",
       "      <th>4</th>\n",
       "      <td>False</td>\n",
       "      <td>1</td>\n",
       "      <td>903703648605175808</td>\n",
       "      <td>https://twitter.com/iskovskih/status/903703648...</td>\n",
       "      <td>[]</td>\n",
       "      <td>False</td>\n",
       "      <td>0</td>\n",
       "      <td>0</td>\n",
       "      <td>False</td>\n",
       "      <td>903703648605175808</td>\n",
       "      <td>False</td>\n",
       "      <td>0</td>\n",
       "      <td>0</td>\n",
       "      <td>12 сентября презентация #apple и буквально пар...</td>\n",
       "      <td>2017-09-01 19:38:34</td>\n",
       "      <td>390055117</td>\n",
       "      <td>Mike Iskovskih</td>\n",
       "      <td>iskovskih</td>\n",
       "    </tr>\n",
       "  </tbody>\n",
       "</table>\n",
       "</div>"
      ],
      "text/plain": [
       "   attach  favorites                  id  \\\n",
       "0   False          0  903739658512846848   \n",
       "1   False          0  903706496701272064   \n",
       "2   False          0  903705849574633472   \n",
       "3    True          0  903704868346626048   \n",
       "4   False          1  903703648605175808   \n",
       "\n",
       "                                                link mentions  quote  \\\n",
       "0  https://twitter.com/Jalilov1Alisher/status/903...       []  False   \n",
       "1  https://twitter.com/bobaleh/status/90370649670...       []  False   \n",
       "2  https://twitter.com/carrot_23/status/903705849...       []  False   \n",
       "3  https://twitter.com/rozumno/status/90370486834...       []  False   \n",
       "4  https://twitter.com/iskovskih/status/903703648...       []  False   \n",
       "\n",
       "   quote_id  replies  reply            reply_id  retweet  retweet_id  \\\n",
       "0         0        0  False  903739658512846848    False           0   \n",
       "1         0        0  False  903706496701272064    False           0   \n",
       "2         0        0  False  903705849574633472    False           0   \n",
       "3         0        0  False  903704868346626048    False           0   \n",
       "4         0        0  False  903703648605175808    False           0   \n",
       "\n",
       "   retweets                                               text  \\\n",
       "0         0  Восстановление токопроводящих дорожек iPhone6 ...   \n",
       "1         0  Это что еще за? #apple #iphone pic.twitter.com...   \n",
       "2         0  Берёшь в руки 5 iPhone после 7ки и он такой не...   \n",
       "3         0  #Apple претендует на 50% рынка «умных» часов б...   \n",
       "4         0  12 сентября презентация #apple и буквально пар...   \n",
       "\n",
       "            timestamp     user_id            user_name    user_username  \n",
       "0 2017-09-01 22:01:39  2393277684               Алишер  Jalilov1Alisher  \n",
       "1 2017-09-01 19:49:53   107208664          Илья Егоров          bobaleh  \n",
       "2 2017-09-01 19:47:19   465395891         Ksana Carrot        carrot_23  \n",
       "3 2017-09-01 19:43:25  2225566922  Веб-студия Rozum.no          rozumno  \n",
       "4 2017-09-01 19:38:34   390055117       Mike Iskovskih        iskovskih  "
      ]
     },
     "execution_count": 10,
     "metadata": {},
     "output_type": "execute_result"
    }
   ],
   "source": [
    "total_test_data.head()"
   ]
  },
  {
   "cell_type": "code",
   "execution_count": 11,
   "metadata": {
    "collapsed": true
   },
   "outputs": [],
   "source": [
    "total_test_data.to_csv('test_data.csv', sep=';')"
   ]
  },
  {
   "cell_type": "code",
   "execution_count": null,
   "metadata": {
    "collapsed": true
   },
   "outputs": [],
   "source": []
  }
 ],
 "metadata": {
  "kernelspec": {
   "display_name": "Python 2",
   "language": "python",
   "name": "python2"
  },
  "language_info": {
   "codemirror_mode": {
    "name": "ipython",
    "version": 2
   },
   "file_extension": ".py",
   "mimetype": "text/x-python",
   "name": "python",
   "nbconvert_exporter": "python",
   "pygments_lexer": "ipython2",
   "version": "2.7.13"
  }
 },
 "nbformat": 4,
 "nbformat_minor": 1
}
