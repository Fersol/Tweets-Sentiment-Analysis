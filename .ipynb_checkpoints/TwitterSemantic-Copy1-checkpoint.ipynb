{
 "cells": [
  {
   "cell_type": "markdown",
   "metadata": {},
   "source": [
    "## Twitter Dataset Prepare"
   ]
  },
  {
   "cell_type": "code",
   "execution_count": 71,
   "metadata": {
    "collapsed": true
   },
   "outputs": [],
   "source": [
    "import pandas as pd\n",
    "import numpy as np\n",
    "import matplotlib.pyplot as plt\n",
    "import cPickle as pickle\n",
    "import tqdm\n",
    "import regex\n",
    "import os\n",
    "import re\n",
    "import shutil\n",
    "import operator\n",
    "import codecs\n",
    "import time\n",
    "import random\n",
    "from math import log\n",
    "from nltk import sent_tokenize\n",
    "from pymystem3 import Mystem\n",
    "from seaborn import heatmap\n",
    "from nltk.tokenize import RegexpTokenizer\n",
    "from nltk.stem.snowball import RussianStemmer\n",
    "from sklearn.model_selection import train_test_split\n",
    "from sklearn.feature_extraction.text import CountVectorizer, TfidfVectorizer\n",
    "from sklearn.pipeline import Pipeline\n",
    "from sklearn.linear_model import LogisticRegression\n",
    "from sklearn.metrics import accuracy_score\n",
    "from sklearn.metrics import roc_curve, auc\n",
    "\n",
    "from imblearn.under_sampling import NearMiss, RandomUnderSampler, EditedNearestNeighbours, ClusterCentroids, CondensedNearestNeighbour\n",
    "\n",
    "\n",
    "\n",
    "from sklearn.ensemble import GradientBoostingClassifier\n",
    "from sklearn import datasets\n",
    "from sklearn.naive_bayes import GaussianNB\n",
    "from sklearn.naive_bayes import MultinomialNB\n",
    "from sklearn.naive_bayes import BernoulliNB\n",
    "\n",
    "%matplotlib inline"
   ]
  },
  {
   "cell_type": "markdown",
   "metadata": {},
   "source": [
    "База данных состоит из 12 столбцов:\n",
    "- id: уникальный номер сообщения в системе twitter;\n",
    "- tdate: дата публикации сообщения (твита);\n",
    "- tmane: имя пользователя, опубликовавшего сообщение;\n",
    "- ttext:  текст сообщения (твита);\n",
    "- ttype: поле в котором в дальнейшем будет указано к кому классу относится твит (положительный, отрицательный, нейтральный);\n",
    "- trep: количество реплаев к данному сообщению. В настоящий момент API твиттера не отдает эту информацию;\n",
    "- trtf: число ретвитов\n",
    "- tfav: число сколько раз данное сообщение было добавлено в избранное другими пользователями;\n",
    "- tstcount: число всех сообщений пользователя в сети twitter;\n",
    "- tfol: количество фоловеров пользователя (тех людей, которые читают пользователя);\n",
    "- tfrien: количество друзей пользователя (те люди, которых читает пользователь);\n",
    "- listcount: количество листов-подписок в которые добавлен твиттер-пользователь."
   ]
  },
  {
   "cell_type": "code",
   "execution_count": 2,
   "metadata": {
    "collapsed": true
   },
   "outputs": [],
   "source": [
    "header = ['id', 'tdate', 'tmane', 'ttext', 'ttype', 'trep', 'trtf', 'tfav', 'tstcount', 'tfol', 'tfrien', 'listcount']"
   ]
  },
  {
   "cell_type": "markdown",
   "metadata": {},
   "source": [
    "#### Загружаем положительные и негативные твиты в один DataFrame, после этого перемешиваем с помощью sample(frac=1)"
   ]
  },
  {
   "cell_type": "code",
   "execution_count": 3,
   "metadata": {
    "collapsed": true
   },
   "outputs": [],
   "source": [
    "pos_twitts = pd.read_csv('dataset/train_positive.csv', sep=';', names=header)\n",
    "neg_twitts = pd.read_csv('dataset/train_negative.csv', sep=';', names=header)\n",
    "twitts = pd.concat([pos_twitts, neg_twitts], axis=0)\n",
    "twitts = twitts.sample(frac=1)"
   ]
  },
  {
   "cell_type": "markdown",
   "metadata": {},
   "source": [
    "#### Смотрим размерность нашего размеченного датасета и проверяем, что у нас 2 вида твитов(положительные(1) и негативные(-1))"
   ]
  },
  {
   "cell_type": "code",
   "execution_count": 4,
   "metadata": {},
   "outputs": [
    {
     "name": "stdout",
     "output_type": "stream",
     "text": [
      "(226834, 12)\n"
     ]
    },
    {
     "data": {
      "text/html": [
       "<div>\n",
       "<style>\n",
       "    .dataframe thead tr:only-child th {\n",
       "        text-align: right;\n",
       "    }\n",
       "\n",
       "    .dataframe thead th {\n",
       "        text-align: left;\n",
       "    }\n",
       "\n",
       "    .dataframe tbody tr th {\n",
       "        vertical-align: top;\n",
       "    }\n",
       "</style>\n",
       "<table border=\"1\" class=\"dataframe\">\n",
       "  <thead>\n",
       "    <tr style=\"text-align: right;\">\n",
       "      <th></th>\n",
       "      <th>id</th>\n",
       "      <th>tdate</th>\n",
       "      <th>tmane</th>\n",
       "      <th>ttext</th>\n",
       "      <th>ttype</th>\n",
       "      <th>trep</th>\n",
       "      <th>trtf</th>\n",
       "      <th>tfav</th>\n",
       "      <th>tstcount</th>\n",
       "      <th>tfol</th>\n",
       "      <th>tfrien</th>\n",
       "      <th>listcount</th>\n",
       "    </tr>\n",
       "  </thead>\n",
       "  <tbody>\n",
       "    <tr>\n",
       "      <th>77504</th>\n",
       "      <td>419168571676426240</td>\n",
       "      <td>1388772549</td>\n",
       "      <td>danil_umnov</td>\n",
       "      <td>@Saharok_silya А ТЫ СУЧКА\\nХЗ ПОЧЕМУ;(\\nСИЖУ\\n...</td>\n",
       "      <td>-1</td>\n",
       "      <td>0</td>\n",
       "      <td>0</td>\n",
       "      <td>0</td>\n",
       "      <td>19189</td>\n",
       "      <td>1841</td>\n",
       "      <td>1730</td>\n",
       "      <td>10</td>\n",
       "    </tr>\n",
       "    <tr>\n",
       "      <th>71619</th>\n",
       "      <td>410477698474328065</td>\n",
       "      <td>1386700484</td>\n",
       "      <td>baguar4ik</td>\n",
       "      <td>RT @NikoPermyakov: у меня такое новогоднее нас...</td>\n",
       "      <td>1</td>\n",
       "      <td>0</td>\n",
       "      <td>1</td>\n",
       "      <td>0</td>\n",
       "      <td>7787</td>\n",
       "      <td>201</td>\n",
       "      <td>67</td>\n",
       "      <td>1</td>\n",
       "    </tr>\n",
       "    <tr>\n",
       "      <th>16496</th>\n",
       "      <td>411157434175348736</td>\n",
       "      <td>1386862545</td>\n",
       "      <td>Doofelshmerz</td>\n",
       "      <td>@koks_fufa нигде( я до сих пор не уверена, что...</td>\n",
       "      <td>-1</td>\n",
       "      <td>0</td>\n",
       "      <td>0</td>\n",
       "      <td>0</td>\n",
       "      <td>483</td>\n",
       "      <td>22</td>\n",
       "      <td>23</td>\n",
       "      <td>0</td>\n",
       "    </tr>\n",
       "    <tr>\n",
       "      <th>86246</th>\n",
       "      <td>410802900450181121</td>\n",
       "      <td>1386778018</td>\n",
       "      <td>anastasiyapros2</td>\n",
       "      <td>-Блин,там холодно и я на ковре стою.\\n-Давай  ...</td>\n",
       "      <td>1</td>\n",
       "      <td>0</td>\n",
       "      <td>0</td>\n",
       "      <td>0</td>\n",
       "      <td>145</td>\n",
       "      <td>5</td>\n",
       "      <td>5</td>\n",
       "      <td>0</td>\n",
       "    </tr>\n",
       "    <tr>\n",
       "      <th>49353</th>\n",
       "      <td>410027753673478144</td>\n",
       "      <td>1386593209</td>\n",
       "      <td>goodlite_o</td>\n",
       "      <td>@GalyamovaElinka Ахахахха, доставала наверно с...</td>\n",
       "      <td>1</td>\n",
       "      <td>0</td>\n",
       "      <td>0</td>\n",
       "      <td>0</td>\n",
       "      <td>1093</td>\n",
       "      <td>93</td>\n",
       "      <td>7</td>\n",
       "      <td>0</td>\n",
       "    </tr>\n",
       "  </tbody>\n",
       "</table>\n",
       "</div>"
      ],
      "text/plain": [
       "                       id       tdate            tmane  \\\n",
       "77504  419168571676426240  1388772549      danil_umnov   \n",
       "71619  410477698474328065  1386700484        baguar4ik   \n",
       "16496  411157434175348736  1386862545     Doofelshmerz   \n",
       "86246  410802900450181121  1386778018  anastasiyapros2   \n",
       "49353  410027753673478144  1386593209       goodlite_o   \n",
       "\n",
       "                                                   ttext  ttype  trep  trtf  \\\n",
       "77504  @Saharok_silya А ТЫ СУЧКА\\nХЗ ПОЧЕМУ;(\\nСИЖУ\\n...     -1     0     0   \n",
       "71619  RT @NikoPermyakov: у меня такое новогоднее нас...      1     0     1   \n",
       "16496  @koks_fufa нигде( я до сих пор не уверена, что...     -1     0     0   \n",
       "86246  -Блин,там холодно и я на ковре стою.\\n-Давай  ...      1     0     0   \n",
       "49353  @GalyamovaElinka Ахахахха, доставала наверно с...      1     0     0   \n",
       "\n",
       "       tfav  tstcount  tfol  tfrien  listcount  \n",
       "77504     0     19189  1841    1730         10  \n",
       "71619     0      7787   201      67          1  \n",
       "16496     0       483    22      23          0  \n",
       "86246     0       145     5       5          0  \n",
       "49353     0      1093    93       7          0  "
      ]
     },
     "execution_count": 4,
     "metadata": {},
     "output_type": "execute_result"
    }
   ],
   "source": [
    "print twitts.shape\n",
    "twitts.head()"
   ]
  },
  {
   "cell_type": "code",
   "execution_count": 5,
   "metadata": {},
   "outputs": [
    {
     "data": {
      "text/plain": [
       "array([-1,  1])"
      ]
     },
     "execution_count": 5,
     "metadata": {},
     "output_type": "execute_result"
    }
   ],
   "source": [
    "twitts.ttype.unique()"
   ]
  },
  {
   "cell_type": "code",
   "execution_count": 6,
   "metadata": {},
   "outputs": [
    {
     "name": "stdout",
     "output_type": "stream",
     "text": [
      "@Saharok_silya А ТЫ СУЧКА\n",
      "ХЗ ПОЧЕМУ;(\n",
      "СИЖУ\n",
      "А ТЫ?\n",
      "\n",
      "RT @NikoPermyakov: у меня такое новогоднее настроение. как начали выводить тег:) #ВПодарокНаНовыйГодЯХочу\n",
      "\n",
      "@koks_fufa нигде( я до сих пор не уверена, что иль не воображаемый ахахха\n",
      "\n",
      "-Блин,там холодно и я на ковре стою.\n",
      "-Давай  я тебя перенесу.\n",
      "\n",
      ":-D\n",
      "\n",
      "@GalyamovaElinka Ахахахха, доставала наверно своими Ранетками )))\n",
      "\n",
      "@diana_CD_yumer аххаха слишком много нервов я уже потратила(\n",
      "\n",
      "Вообще не охота вставать с кровати ( но пора идти в колледж\n",
      "\n",
      "И все будет как мы задумали с Девчонками. Главное чтобы снег пошел,но если не будет снега то по любому тоже круто выходные проведём:)\n",
      "\n",
      "@dada_morales ну я прям не знаю,имбирно.-пряничный. на мой взгляд все таки необосновано дорого)\n",
      "\n",
      "@MagnieMakoyana боже, так вот в чём дело х)) я думала про хеталию это ты образно хДД\n",
      "\n"
     ]
    }
   ],
   "source": [
    "for twitt in twitts.ttext.values[:10]:\n",
    "    print twitt + \"\\n\""
   ]
  },
  {
   "cell_type": "markdown",
   "metadata": {},
   "source": [
    "## Working with Twitter texts"
   ]
  },
  {
   "cell_type": "code",
   "execution_count": 15,
   "metadata": {
    "collapsed": true
   },
   "outputs": [],
   "source": [
    "X = twitts.ttext.values\n",
    "y = twitts.ttype.values"
   ]
  },
  {
   "cell_type": "code",
   "execution_count": 16,
   "metadata": {
    "collapsed": true
   },
   "outputs": [],
   "source": [
    "def prepare_text(text):\n",
    "    text = text.lower().strip()\n",
    "    text = ' '.join(text.split())\n",
    "    text = re.sub(r'@\\S+', '', text) # delete @user_name\n",
    "    text = re.sub(r'#\\W+', '', text) # delete #hashtag\n",
    "    text = re.sub(r'[\\!\\\"\\#\\$\\%\\&\\\\\\'\\(\\)\\*\\+\\,\\-\\.\\/\\:\\;\\<\\=\\>\\?\\@\\[\\\\\\\\\\]\\^\\_\\`\\{\\|\\}\\~, a-z, 0-9]+', ' ', text) # delete smiles\n",
    "    return text\n",
    "\n",
    "def tokenize(text):\n",
    "    tokenizer = RegexpTokenizer('\\w+|\\S+')\n",
    "    return tokenizer.tokenize(text)\n",
    "\n",
    "def stem_text(text):\n",
    "    r = RussianStemmer()\n",
    "    return [r.stem(word) for word in text]"
   ]
  },
  {
   "cell_type": "code",
   "execution_count": 17,
   "metadata": {
    "collapsed": true
   },
   "outputs": [],
   "source": [
    "def preprocess(X):\n",
    "    X = [prepare_text(text).decode('utf-8') for text in X]\n",
    "    X = [tokenize(text) for text in X]\n",
    "    X = [stem_text(text) for text in X]\n",
    "    X = [' '.join(words) for words in X]\n",
    "    return [prepare_text(text) for text in X]"
   ]
  },
  {
   "cell_type": "code",
   "execution_count": 9,
   "metadata": {
    "collapsed": true
   },
   "outputs": [],
   "source": [
    "#X = [prepare_text(text).decode('utf-8') for text in X]"
   ]
  },
  {
   "cell_type": "code",
   "execution_count": 10,
   "metadata": {
    "collapsed": true
   },
   "outputs": [],
   "source": [
    "#tokenizer = RegexpTokenizer('\\w+|\\S+')\n",
    "#r = RussianStemmer()"
   ]
  },
  {
   "cell_type": "code",
   "execution_count": 18,
   "metadata": {
    "collapsed": true
   },
   "outputs": [],
   "source": [
    "#def tokenize(text):\n",
    "#    return tokenizer.tokenize(text)\n",
    "\n",
    "#def stem_text(text):\n",
    "#    return [r.stem(word) for word in text]"
   ]
  },
  {
   "cell_type": "code",
   "execution_count": 19,
   "metadata": {
    "collapsed": true
   },
   "outputs": [],
   "source": [
    "#X = [tokenize(text) for text in X]"
   ]
  },
  {
   "cell_type": "code",
   "execution_count": 20,
   "metadata": {
    "collapsed": true
   },
   "outputs": [],
   "source": [
    "#X = [stem_text(text) for text in X]"
   ]
  },
  {
   "cell_type": "code",
   "execution_count": 21,
   "metadata": {
    "collapsed": true
   },
   "outputs": [],
   "source": [
    "#X_sent = [' '.join(words) for words in X]"
   ]
  },
  {
   "cell_type": "code",
   "execution_count": 22,
   "metadata": {
    "collapsed": true
   },
   "outputs": [],
   "source": [
    "#print X_sent[3]"
   ]
  },
  {
   "cell_type": "code",
   "execution_count": 23,
   "metadata": {},
   "outputs": [
    {
     "ename": "IOError",
     "evalue": "[Errno 2] No such file or directory: 'extra_data/prepared_tweets.txt'",
     "output_type": "error",
     "traceback": [
      "\u001b[0;31m---------------------------------------------------------------------------\u001b[0m",
      "\u001b[0;31mIOError\u001b[0m                                   Traceback (most recent call last)",
      "\u001b[0;32m<ipython-input-23-521129d918c1>\u001b[0m in \u001b[0;36m<module>\u001b[0;34m()\u001b[0m\n\u001b[0;32m----> 1\u001b[0;31m \u001b[0;32mwith\u001b[0m \u001b[0mopen\u001b[0m\u001b[0;34m(\u001b[0m\u001b[0;34m\"extra_data/prepared_tweets.txt\"\u001b[0m\u001b[0;34m,\u001b[0m \u001b[0;34m\"w\"\u001b[0m\u001b[0;34m)\u001b[0m \u001b[0;32mas\u001b[0m \u001b[0moutput\u001b[0m\u001b[0;34m:\u001b[0m\u001b[0;34m\u001b[0m\u001b[0m\n\u001b[0m\u001b[1;32m      2\u001b[0m     \u001b[0;32mfor\u001b[0m \u001b[0msent\u001b[0m \u001b[0;32min\u001b[0m \u001b[0mX_sent\u001b[0m\u001b[0;34m:\u001b[0m\u001b[0;34m\u001b[0m\u001b[0m\n\u001b[1;32m      3\u001b[0m         \u001b[0moutput\u001b[0m\u001b[0;34m.\u001b[0m\u001b[0mwrite\u001b[0m\u001b[0;34m(\u001b[0m\u001b[0msent\u001b[0m\u001b[0;34m.\u001b[0m\u001b[0mencode\u001b[0m\u001b[0;34m(\u001b[0m\u001b[0;34m'utf-8'\u001b[0m\u001b[0;34m)\u001b[0m \u001b[0;34m+\u001b[0m \u001b[0;34m\"\\n\"\u001b[0m\u001b[0;34m)\u001b[0m\u001b[0;34m\u001b[0m\u001b[0m\n\u001b[1;32m      4\u001b[0m \u001b[0;34m\u001b[0m\u001b[0m\n",
      "\u001b[0;31mIOError\u001b[0m: [Errno 2] No such file or directory: 'extra_data/prepared_tweets.txt'"
     ]
    }
   ],
   "source": [
    "with open(\"extra_data/prepared_tweets.txt\", \"w\") as output:\n",
    "    for sent in X_sent:\n",
    "        output.write(sent.encode('utf-8') + \"\\n\")\n",
    "        "
   ]
  },
  {
   "cell_type": "code",
   "execution_count": 24,
   "metadata": {},
   "outputs": [
    {
     "ename": "IOError",
     "evalue": "[Errno 2] No such file or directory: 'extra_data/targets.txt'",
     "output_type": "error",
     "traceback": [
      "\u001b[0;31m---------------------------------------------------------------------------\u001b[0m",
      "\u001b[0;31mIOError\u001b[0m                                   Traceback (most recent call last)",
      "\u001b[0;32m<ipython-input-24-2dda14ce45c6>\u001b[0m in \u001b[0;36m<module>\u001b[0;34m()\u001b[0m\n\u001b[0;32m----> 1\u001b[0;31m \u001b[0;32mwith\u001b[0m \u001b[0mopen\u001b[0m\u001b[0;34m(\u001b[0m\u001b[0;34m\"extra_data/targets.txt\"\u001b[0m\u001b[0;34m,\u001b[0m \u001b[0;34m\"w\"\u001b[0m\u001b[0;34m)\u001b[0m \u001b[0;32mas\u001b[0m \u001b[0moutput\u001b[0m\u001b[0;34m:\u001b[0m\u001b[0;34m\u001b[0m\u001b[0m\n\u001b[0m\u001b[1;32m      2\u001b[0m     \u001b[0;32mfor\u001b[0m \u001b[0mtarget\u001b[0m \u001b[0;32min\u001b[0m \u001b[0my\u001b[0m\u001b[0;34m:\u001b[0m\u001b[0;34m\u001b[0m\u001b[0m\n\u001b[1;32m      3\u001b[0m         \u001b[0moutput\u001b[0m\u001b[0;34m.\u001b[0m\u001b[0mwrite\u001b[0m\u001b[0;34m(\u001b[0m\u001b[0mstr\u001b[0m\u001b[0;34m(\u001b[0m\u001b[0mtarget\u001b[0m\u001b[0;34m)\u001b[0m\u001b[0;34m+\u001b[0m \u001b[0;34m\"\\n\"\u001b[0m\u001b[0;34m)\u001b[0m\u001b[0;34m\u001b[0m\u001b[0m\n",
      "\u001b[0;31mIOError\u001b[0m: [Errno 2] No such file or directory: 'extra_data/targets.txt'"
     ]
    }
   ],
   "source": [
    "with open(\"extra_data/targets.txt\", \"w\") as output:\n",
    "    for target in y:\n",
    "        output.write(str(target)+ \"\\n\")"
   ]
  },
  {
   "cell_type": "markdown",
   "metadata": {},
   "source": [
    "#### После стемминга мы получили в X набор слов вместо цельных предложений. Объединяем обратно из массива слов в предложения и после этого удаляем никнеймы, хештеги, указание ретвитов и смайлики"
   ]
  },
  {
   "cell_type": "code",
   "execution_count": 25,
   "metadata": {},
   "outputs": [
    {
     "name": "stdout",
     "output_type": "stream",
     "text": [
      "CPU times: user 3min 15s, sys: 1.36 s, total: 3min 17s\n",
      "Wall time: 3min 16s\n"
     ]
    }
   ],
   "source": [
    "%time X_sent_prepare = preprocess(X)"
   ]
  },
  {
   "cell_type": "code",
   "execution_count": 14,
   "metadata": {
    "collapsed": true
   },
   "outputs": [],
   "source": [
    "#X_sent_prepare = [prepare_text(text) for text in X_sent]"
   ]
  },
  {
   "cell_type": "code",
   "execution_count": 31,
   "metadata": {},
   "outputs": [
    {
     "name": "stdout",
     "output_type": "stream",
     "text": [
      "Огооо у нас новая соседка Будем надеяться что она хорошая\n",
      "\" это не гуманно \" зато надёжна\n",
      "ух . твидл становится популярным . пора принимать меры\n",
      "Какой кошмар кажется у меня поднялось давление\n",
      "всегда есть скайп о котором кроме меня никто не помнит\n",
      "я проснулась с хорошим настроением и всем его желаю\n",
      "ЧЕРЕЗ МИНУТ НАДО ВЫХОДИТЬ А Я ЕЩЕ В ТРУСАХ СИЖУ\n",
      "вспомнила что мы делали с ёлочкой да уж тот день я точно не забуду\n",
      "Дачка прыйшла i кажа \" буздем размауляць на роднай мове на працягу усей вячэры \" . Што рабiць сядзiм размауляем\n",
      "Такие клевые ребятки Пожелали мне удачи на завтрашний день\n"
     ]
    }
   ],
   "source": [
    "for x in X_sent[10:20]:\n",
    "    print x"
   ]
  },
  {
   "cell_type": "code",
   "execution_count": 16,
   "metadata": {},
   "outputs": [
    {
     "name": "stdout",
     "output_type": "stream",
     "text": [
      "сейчас прошл тольк три урок а так ощущен что кароч я в эт школ вечност торч\n"
     ]
    }
   ],
   "source": [
    "print X_sent[0]"
   ]
  },
  {
   "cell_type": "markdown",
   "metadata": {},
   "source": [
    "### Разбиваем наш датасет с помощью train test split и начинаем создавать модельки"
   ]
  },
  {
   "cell_type": "code",
   "execution_count": 26,
   "metadata": {
    "collapsed": true
   },
   "outputs": [],
   "source": [
    "X_train, X_test, y_train, y_test = train_test_split(X_sent_prepare, y, test_size=0.3, random_state=42)"
   ]
  },
  {
   "cell_type": "code",
   "execution_count": null,
   "metadata": {
    "collapsed": true
   },
   "outputs": [],
   "source": [
    "sampler = 'nearmiss'#[None, 'rand', 'cluster', 'editnn', 'condnn', 'nearmiss']\n",
    "vect = CountVectorizer(ngram_range=(1, 3), min_df=5)\n",
    "X_train_v = vect.fit_transform(X_train)\n",
    "X_test_v = vect.transform(X_test)\n",
    "sampler_model = \\\n",
    "              {'rand': RandomUnderSampler(random_state=42),\n",
    "               'cluster': ClusterCentroids(random_state=42),\n",
    "               'editnn': EditedNearestNeighbours(random_state=42),\n",
    "               'condnn': CondensedNearestNeighbour(random_state=42),\n",
    "               'nearmiss': NearMiss(random_state=42, version=2)}.get(sampler)\n",
    "    \n",
    "if sampler:\n",
    "    X_sampler, y_sampler = sampler_model.fit_sample(X_train_v, y_train)"
   ]
  },
  {
   "cell_type": "code",
   "execution_count": null,
   "metadata": {
    "collapsed": true
   },
   "outputs": [],
   "source": [
    "model_l = LogisticRegression(class_weight=None)\n",
    "model_l.fit(X_sampler, y_sampler)"
   ]
  },
  {
   "cell_type": "code",
   "execution_count": null,
   "metadata": {
    "collapsed": true
   },
   "outputs": [],
   "source": [
    "preds_l = model_l.predict(X_test_v)\n",
    "print accuracy_score(preds_l, y_test)"
   ]
  },
  {
   "cell_type": "markdown",
   "metadata": {},
   "source": [
    "#### Модель на Логистической регрессии дает лучший результат(0.749) с параметрами ngram_range=(1, 3), min_df=5. Вид модели роль не играет"
   ]
  },
  {
   "cell_type": "code",
   "execution_count": 27,
   "metadata": {
    "collapsed": true
   },
   "outputs": [],
   "source": [
    "model_logreg = Pipeline([('count', CountVectorizer(ngram_range=(1, 3), min_df=5)), ('log_reg', LogisticRegression(class_weight='balanced'))])\n",
    "model_logreg_tf_idf = Pipeline([('count', TfidfVectorizer(ngram_range=(1, 3), min_df=5)), ('log_reg', LogisticRegression(class_weight='balanced'))])"
   ]
  },
  {
   "cell_type": "code",
   "execution_count": 53,
   "metadata": {
    "collapsed": true
   },
   "outputs": [],
   "source": [
    "model_gradboost = Pipeline([('count', CountVectorizer(ngram_range=(1, 1))), ('grad_boost', GradientBoostingClassifier(max_depth=5, verbose=True, n_estimators=100))])\n",
    "model_gradboost_tf_idf = Pipeline([('count', TfidfVectorizer(ngram_range=(1, 2), min_df=10)), ('grad_boost', GradientBoostingClassifier(max_depth=5, verbose=True, n_estimators=100))])"
   ]
  },
  {
   "cell_type": "code",
   "execution_count": 20,
   "metadata": {},
   "outputs": [
    {
     "data": {
      "text/plain": [
       "BernoulliNB(alpha=1.0, binarize=0.0, class_prior=None, fit_prior=True)"
      ]
     },
     "execution_count": 20,
     "metadata": {},
     "output_type": "execute_result"
    }
   ],
   "source": [
    "vect = CountVectorizer()\n",
    "X_train_dtm = vect.fit_transform(X_train)\n",
    "X_test_dtm = vect.transform(X_test)\n",
    "nb = MultinomialNB()\n",
    "bb = BernoulliNB()\n",
    "nb.fit(X_train_dtm, y_train)\n",
    "bb.fit(X_train_dtm, y_train)\n",
    "\n",
    "# Падает kernel при попытке работать... на 10000 дает accuracy 0.57\n",
    "#gb = GaussianNB()\n",
    "#gb.fit(X_train_dtm[:10000].toarray(), y_train[:10000])"
   ]
  },
  {
   "cell_type": "code",
   "execution_count": 28,
   "metadata": {},
   "outputs": [
    {
     "data": {
      "text/plain": [
       "Pipeline(memory=None,\n",
       "     steps=[('count', CountVectorizer(analyzer=u'word', binary=False, decode_error=u'strict',\n",
       "        dtype=<type 'numpy.int64'>, encoding=u'utf-8', input=u'content',\n",
       "        lowercase=True, max_df=1.0, max_features=None, min_df=5,\n",
       "        ngram_range=(1, 3), preprocessor=None, stop_words=None,\n",
       "        s...ty='l2', random_state=None,\n",
       "          solver='liblinear', tol=0.0001, verbose=0, warm_start=False))])"
      ]
     },
     "execution_count": 28,
     "metadata": {},
     "output_type": "execute_result"
    }
   ],
   "source": [
    "model_logreg.fit(X_train, y_train)"
   ]
  },
  {
   "cell_type": "code",
   "execution_count": 29,
   "metadata": {},
   "outputs": [
    {
     "data": {
      "text/plain": [
       "Pipeline(memory=None,\n",
       "     steps=[('count', TfidfVectorizer(analyzer=u'word', binary=False, decode_error=u'strict',\n",
       "        dtype=<type 'numpy.int64'>, encoding=u'utf-8', input=u'content',\n",
       "        lowercase=True, max_df=1.0, max_features=None, min_df=5,\n",
       "        ngram_range=(1, 3), norm=u'l2', preprocessor=None, smooth_idf=Tru...ty='l2', random_state=None,\n",
       "          solver='liblinear', tol=0.0001, verbose=0, warm_start=False))])"
      ]
     },
     "execution_count": 29,
     "metadata": {},
     "output_type": "execute_result"
    }
   ],
   "source": [
    "model_logreg_tf_idf.fit(X_train, y_train)"
   ]
  },
  {
   "cell_type": "code",
   "execution_count": 23,
   "metadata": {},
   "outputs": [
    {
     "name": "stdout",
     "output_type": "stream",
     "text": [
      "      Iter       Train Loss   Remaining Time \n",
      "         1           1.3771            1.19m\n",
      "         2           1.3695            1.15m\n",
      "         3           1.3632            1.12m\n",
      "         4           1.3577            1.10m\n",
      "         5           1.3527            1.09m\n",
      "         6           1.3484            1.07m\n",
      "         7           1.3445            1.06m\n",
      "         8           1.3410            1.04m\n",
      "         9           1.3377            1.02m\n",
      "        10           1.3347           59.91s\n",
      "        20           1.3118           50.57s\n",
      "        30           1.2951           43.51s\n",
      "        40           1.2824           36.84s\n",
      "        50           1.2713           30.47s\n",
      "        60           1.2618           24.48s\n",
      "        70           1.2533           18.12s\n",
      "        80           1.2454           12.05s\n",
      "        90           1.2386            6.00s\n",
      "       100           1.2318            0.00s\n"
     ]
    },
    {
     "data": {
      "text/plain": [
       "Pipeline(memory=None,\n",
       "     steps=[('count', CountVectorizer(analyzer=u'word', binary=False, decode_error=u'strict',\n",
       "        dtype=<type 'numpy.int64'>, encoding=u'utf-8', input=u'content',\n",
       "        lowercase=True, max_df=1.0, max_features=None, min_df=1,\n",
       "        ngram_range=(1, 1), preprocessor=None, stop_words=None,\n",
       "        s...   presort='auto', random_state=None, subsample=1.0,\n",
       "              verbose=True, warm_start=False))])"
      ]
     },
     "execution_count": 23,
     "metadata": {},
     "output_type": "execute_result"
    }
   ],
   "source": [
    "model_gradboost.fit(X_train, y_train)"
   ]
  },
  {
   "cell_type": "code",
   "execution_count": 24,
   "metadata": {},
   "outputs": [
    {
     "name": "stdout",
     "output_type": "stream",
     "text": [
      "      Iter       Train Loss   Remaining Time \n",
      "         1           1.3769            1.95m\n",
      "         2           1.3691            1.89m\n",
      "         3           1.3627            1.86m\n",
      "         4           1.3571            1.83m\n",
      "         5           1.3521            1.81m\n",
      "         6           1.3476            1.79m\n",
      "         7           1.3436            1.76m\n",
      "         8           1.3399            1.73m\n",
      "         9           1.3365            1.71m\n",
      "        10           1.3333            1.69m\n",
      "        20           1.3086            1.48m\n",
      "        30           1.2908            1.29m\n",
      "        40           1.2764            1.12m\n",
      "        50           1.2644           55.15s\n",
      "        60           1.2543           43.75s\n",
      "        70           1.2456           32.60s\n",
      "        80           1.2372           21.67s\n",
      "        90           1.2294           10.80s\n",
      "       100           1.2226            0.00s\n"
     ]
    },
    {
     "data": {
      "text/plain": [
       "Pipeline(memory=None,\n",
       "     steps=[('count', TfidfVectorizer(analyzer=u'word', binary=False, decode_error=u'strict',\n",
       "        dtype=<type 'numpy.int64'>, encoding=u'utf-8', input=u'content',\n",
       "        lowercase=True, max_df=1.0, max_features=None, min_df=10,\n",
       "        ngram_range=(1, 2), norm=u'l2', preprocessor=None, smooth_idf=Tr...   presort='auto', random_state=None, subsample=1.0,\n",
       "              verbose=True, warm_start=False))])"
      ]
     },
     "execution_count": 24,
     "metadata": {},
     "output_type": "execute_result"
    }
   ],
   "source": [
    "model_gradboost_tf_idf.fit(X_train, y_train)"
   ]
  },
  {
   "cell_type": "markdown",
   "metadata": {},
   "source": [
    "#### Посмотрим у каких слов получились самые влиятельные веса и считаем оценки (смотрим модель логистической регрессии без TF-IDF)"
   ]
  },
  {
   "cell_type": "code",
   "execution_count": 30,
   "metadata": {
    "collapsed": true
   },
   "outputs": [],
   "source": [
    "words_logreg = model_logreg.steps[0][1].get_feature_names()\n",
    "coefs_logreg = model_logreg.steps[1][1].coef_[0]\n",
    "\n",
    "words_logreg_tf_idf = model_logreg_tf_idf.steps[0][1].get_feature_names()\n",
    "coefs_logreg_tf_idf = model_logreg_tf_idf.steps[1][1].coef_[0]"
   ]
  },
  {
   "cell_type": "code",
   "execution_count": 31,
   "metadata": {
    "collapsed": true
   },
   "outputs": [],
   "source": [
    "model_coefs_logreg = pd.Series(index=words_logreg, data=coefs_logreg)\n",
    "model_coefs_logreg_tf_idf = pd.Series(index=words_logreg_tf_idf, data=coefs_logreg_tf_idf)"
   ]
  },
  {
   "cell_type": "code",
   "execution_count": 32,
   "metadata": {
    "collapsed": true
   },
   "outputs": [],
   "source": [
    "model_coefs_logreg_sorted = model_coefs_logreg.sort_values()\n",
    "model_coefs_logreg_tf_idf_sorted = model_coefs_logreg_tf_idf.sort_values()"
   ]
  },
  {
   "cell_type": "code",
   "execution_count": 33,
   "metadata": {},
   "outputs": [
    {
     "name": "stdout",
     "output_type": "stream",
     "text": [
      "печальн     -2.770162\n",
      "обидн       -2.732907\n",
      "печальк     -2.697918\n",
      "расстро     -2.484354\n",
      "не понрав   -2.466585\n",
      "dtype: float64\n",
      "не обидн      2.550167\n",
      "ахахахахах    2.553198\n",
      "не испорт     2.593080\n",
      "не больн      2.715669\n",
      "не жал        2.877101\n",
      "dtype: float64\n"
     ]
    }
   ],
   "source": [
    "print model_coefs_logreg_sorted[:5]\n",
    "print model_coefs_logreg_sorted[-5:]"
   ]
  },
  {
   "cell_type": "code",
   "execution_count": 34,
   "metadata": {},
   "outputs": [
    {
     "name": "stdout",
     "output_type": "stream",
     "text": [
      "обидн     -7.185615\n",
      "печальн   -6.255015\n",
      "грустн    -6.028111\n",
      "ужасн     -5.434427\n",
      "жал       -5.280274\n",
      "dtype: float64\n",
      "не плох    4.206676\n",
      "ахахах     4.328308\n",
      "хах        4.495466\n",
      "приятн     5.340041\n",
      "ахах       5.963774\n",
      "dtype: float64\n"
     ]
    }
   ],
   "source": [
    "print model_coefs_logreg_tf_idf_sorted[:5]\n",
    "print model_coefs_logreg_tf_idf_sorted[-5:]"
   ]
  },
  {
   "cell_type": "code",
   "execution_count": 35,
   "metadata": {},
   "outputs": [
    {
     "name": "stdout",
     "output_type": "stream",
     "text": [
      "0.741370442756\n"
     ]
    }
   ],
   "source": [
    "preds_logreg = model_logreg.predict(X_test)\n",
    "print accuracy_score(preds_logreg, y_test)"
   ]
  },
  {
   "cell_type": "code",
   "execution_count": 36,
   "metadata": {},
   "outputs": [
    {
     "name": "stdout",
     "output_type": "stream",
     "text": [
      "[[ 0.12414426  0.87585574]\n",
      " [ 0.15736957  0.84263043]\n",
      " [ 0.41581534  0.58418466]\n",
      " [ 0.31921972  0.68078028]\n",
      " [ 0.19757338  0.80242662]\n",
      " [ 0.09444293  0.90555707]\n",
      " [ 0.55158505  0.44841495]\n",
      " [ 0.36613173  0.63386827]\n",
      " [ 0.1299104   0.8700896 ]\n",
      " [ 0.20829073  0.79170927]]\n"
     ]
    }
   ],
   "source": [
    "proba_logreg = model_logreg.predict_proba(X_test)\n",
    "print proba_logreg[:10]"
   ]
  },
  {
   "cell_type": "code",
   "execution_count": 47,
   "metadata": {
    "collapsed": true
   },
   "outputs": [],
   "source": [
    "fail = np.array([])\n",
    "for i, x in enumerate(proba_logreg):\n",
    "    if (x[0] > x[1]) and (y_test[i] == 1):\n",
    "        fail = np.append(fail, abs(x[0]-x[1]))\n",
    "    if (x[0] < x[1]) and (y_test[i] == -1):\n",
    "        fail = np.append(fail, abs(x[0]-x[1]))"
   ]
  },
  {
   "cell_type": "code",
   "execution_count": 48,
   "metadata": {},
   "outputs": [
    {
     "name": "stdout",
     "output_type": "stream",
     "text": [
      "0.402484549909\n",
      "0.999295674533\n",
      "6.52142757658e-05\n"
     ]
    }
   ],
   "source": [
    "print fail.mean()\n",
    "print fail.max()\n",
    "print fail.min()"
   ]
  },
  {
   "cell_type": "code",
   "execution_count": 68,
   "metadata": {
    "collapsed": true
   },
   "outputs": [],
   "source": [
    "X_test_new = np.array([])\n",
    "y_test_new = np.array([])\n",
    "for i, x in enumerate(proba_logreg):\n",
    "    if abs(x[0]-x[1]) > 0.41:\n",
    "        X_test_new = np.append(X_test_new, X_test[i])\n",
    "        y_test_new = np.append(y_test_new, y_test[i])"
   ]
  },
  {
   "cell_type": "code",
   "execution_count": 69,
   "metadata": {},
   "outputs": [
    {
     "name": "stdout",
     "output_type": "stream",
     "text": [
      "68051 (44579,) 0.655082217748\n",
      "68051 (44579,) 0.655082217748\n"
     ]
    }
   ],
   "source": [
    "print len(X_test), X_test_new.shape, float(X_test_new.shape[0])/len(X_test)\n",
    "print len(y_test), y_test_new.shape, float(y_test_new.shape[0])/len(y_test)"
   ]
  },
  {
   "cell_type": "code",
   "execution_count": 67,
   "metadata": {
    "collapsed": true
   },
   "outputs": [],
   "source": [
    "pred_probs_logreg = model_logreg.predict_proba(X_test)"
   ]
  },
  {
   "cell_type": "code",
   "execution_count": 22,
   "metadata": {},
   "outputs": [
    {
     "name": "stdout",
     "output_type": "stream",
     "text": [
      "0.748188858356\n"
     ]
    }
   ],
   "source": [
    "preds_logreg_tf_idf = model_logreg_tf_idf.predict(X_test)\n",
    "print accuracy_score(preds_logreg_tf_idf, y_test)"
   ]
  },
  {
   "cell_type": "code",
   "execution_count": 24,
   "metadata": {
    "collapsed": true
   },
   "outputs": [],
   "source": [
    "pred_probs_logreg_tf_idf = model_logreg_tf_idf.predict_proba(X_test)"
   ]
  },
  {
   "cell_type": "code",
   "execution_count": 26,
   "metadata": {
    "collapsed": true
   },
   "outputs": [],
   "source": [
    "# preds_logreg = model_logreg.predict(X_test)\n",
    "# preds_logreg_tf_idf = model_logreg_tf_idf.predict(X_test)\n",
    "# preds_gradboost = model_gradboost.predict(X_test)\n",
    "# preds_gradboost_tf_idf = model_gradboost_tf_idf.predict(X_test)\n",
    "# preds_nb = nb.predict(X_test_dtm)\n",
    "# preds_bb = bb.predict(X_test_dtm)"
   ]
  },
  {
   "cell_type": "code",
   "execution_count": 27,
   "metadata": {},
   "outputs": [
    {
     "name": "stdout",
     "output_type": "stream",
     "text": [
      "0.739856872052\n",
      "0.749467311281\n"
     ]
    }
   ],
   "source": [
    "# print accuracy_score(preds_logreg, y_test)\n",
    "# print accuracy_score(preds_logreg_tf_idf, y_test)\n",
    "# print accuracy_score(preds_gradboost, y_test)\n",
    "# print accuracy_score(preds_gradboost_tf_idf, y_test)\n",
    "# print accuracy_score(preds_nb, y_test)\n",
    "# print accuracy_score(preds_bb, y_test)"
   ]
  },
  {
   "cell_type": "code",
   "execution_count": 31,
   "metadata": {},
   "outputs": [
    {
     "data": {
      "text/plain": [
       "array([[  6.81747875e-01,   3.18252125e-01],\n",
       "       [  6.10271799e-01,   3.89728201e-01],\n",
       "       [  7.61532931e-02,   9.23846707e-01],\n",
       "       ..., \n",
       "       [  9.99989332e-01,   1.06682040e-05],\n",
       "       [  1.64120634e-01,   8.35879366e-01],\n",
       "       [  1.05267443e-01,   8.94732557e-01]])"
      ]
     },
     "execution_count": 31,
     "metadata": {},
     "output_type": "execute_result"
    }
   ],
   "source": [
    "pred_probs_logreg"
   ]
  },
  {
   "cell_type": "code",
   "execution_count": 29,
   "metadata": {},
   "outputs": [
    {
     "data": {
      "text/plain": [
       "(68051,)"
      ]
     },
     "execution_count": 29,
     "metadata": {},
     "output_type": "execute_result"
    }
   ],
   "source": [
    "y_test.shape"
   ]
  },
  {
   "cell_type": "code",
   "execution_count": 35,
   "metadata": {
    "collapsed": true
   },
   "outputs": [],
   "source": [
    "logreg_false_positive_rate, logreg_true_positive_rate, thresholds = roc_curve(y_test, [prob[1] for prob in pred_probs_logreg])\n",
    "logreg_roc_auc = auc(logreg_false_positive_rate, logreg_true_positive_rate)\n",
    "\n",
    "logreg_tf_idf_false_positive_rate, logreg_tf_idf_true_positive_rate, thresholds = roc_curve(y_test, [prob[1] for prob in pred_probs_logreg_tf_idf])\n",
    "logreg_tf_idf_roc_auc = auc(logreg_tf_idf_false_positive_rate, logreg_tf_idf_true_positive_rate)"
   ]
  },
  {
   "cell_type": "code",
   "execution_count": 36,
   "metadata": {},
   "outputs": [
    {
     "data": {
      "image/png": "[encoded data removed]",
      "text/plain": [
       "<matplotlib.figure.Figure at 0x12f8b2d10>"
      ]
     },
     "metadata": {},
     "output_type": "display_data"
    }
   ],
   "source": [
    "plt.title('Receiver Operating Characteristic')\n",
    "plt.plot(logreg_tf_idf_false_positive_rate, logreg_tf_idf_true_positive_rate, 'b', label='LogReg TF-IDF AUC = %0.2f'% logreg_tf_idf_roc_auc)\n",
    "plt.plot(logreg_tf_idf_false_positive_rate, logreg_tf_idf_true_positive_rate, 'g', label='LogReg AUC = %0.2f'% logreg_roc_auc)\n",
    "plt.legend(loc='lower right')\n",
    "plt.plot([0,1],[0,1],'r--')\n",
    "plt.xlim([-0.1,1.2])\n",
    "plt.ylim([-0.1,1.2])\n",
    "plt.ylabel('True Positive Rate')\n",
    "plt.xlabel('False Positive Rate')\n",
    "plt.show()"
   ]
  },
  {
   "cell_type": "markdown",
   "metadata": {},
   "source": [
    "#### Рассмотрим подробнее разные виды NB и подберем альфа"
   ]
  },
  {
   "cell_type": "code",
   "execution_count": 82,
   "metadata": {},
   "outputs": [
    {
     "name": "stdout",
     "output_type": "stream",
     "text": [
      "0.733582166316 2.4\n",
      "0.732729864366 3.9\n"
     ]
    }
   ],
   "source": [
    "size = 40\n",
    "as_nb = np.empty(size)\n",
    "as_bb = np.empty(size)\n",
    "for i in xrange(1, size+1):\n",
    "    tmp_alpha = float(i)/10\n",
    "    nb = MultinomialNB(alpha=tmp_alpha)\n",
    "    bb = BernoulliNB(alpha=tmp_alpha)\n",
    "    nb.fit(X_train_dtm, y_train)\n",
    "    bb.fit(X_train_dtm, y_train)\n",
    "    preds_nb = nb.predict(X_test_dtm)\n",
    "    preds_bb = bb.predict(X_test_dtm)\n",
    "    as_nb[i-1] = accuracy_score(preds_nb, y_test)\n",
    "    as_bb[i-1] = accuracy_score(preds_bb, y_test)\n",
    "print as_nb.max(), float(as_nb.argmax()+1)/10\n",
    "print as_bb.max(), float(as_bb.argmax()+1)/10"
   ]
  },
  {
   "cell_type": "code",
   "execution_count": 84,
   "metadata": {},
   "outputs": [
    {
     "data": {
      "image/png": "[encoded data removed]",
      "text/plain": [
       "<matplotlib.figure.Figure at 0x14e0e8a90>"
      ]
     },
     "metadata": {},
     "output_type": "display_data"
    }
   ],
   "source": [
    "plt.plot(as_nb, 'b', label='MultinomialNB')\n",
    "plt.plot(as_bb, 'orange', label='BernoulliNB')\n",
    "plt.legend(loc='lower right')\n",
    "plt.ylabel('Accuracy Score')\n",
    "plt.xlabel('10*alpha')\n",
    "plt.show()"
   ]
  },
  {
   "cell_type": "markdown",
   "metadata": {
    "collapsed": true
   },
   "source": [
    "## Save best model"
   ]
  },
  {
   "cell_type": "code",
   "execution_count": 24,
   "metadata": {
    "collapsed": true
   },
   "outputs": [],
   "source": [
    "with open('model_logreg_tf_idf.pkl', 'wb') as f:\n",
    "    pickle.dump(model_logreg_tf_idf, f)"
   ]
  },
  {
   "cell_type": "code",
   "execution_count": null,
   "metadata": {
    "collapsed": true
   },
   "outputs": [],
   "source": []
  },
  {
   "cell_type": "markdown",
   "metadata": {},
   "source": [
    "## New twit test data"
   ]
  },
  {
   "cell_type": "code",
   "execution_count": 11,
   "metadata": {
    "collapsed": true
   },
   "outputs": [],
   "source": [
    "total_test_data.to_csv('test_data.csv', sep=';')"
   ]
  },
  {
   "cell_type": "code",
   "execution_count": null,
   "metadata": {
    "collapsed": true
   },
   "outputs": [],
   "source": []
  }
 ],
 "metadata": {
  "kernelspec": {
   "display_name": "Python 2",
   "language": "python",
   "name": "python2"
  },
  "language_info": {
   "codemirror_mode": {
    "name": "ipython",
    "version": 2
   },
   "file_extension": ".py",
   "mimetype": "text/x-python",
   "name": "python",
   "nbconvert_exporter": "python",
   "pygments_lexer": "ipython2",
   "version": "2.7.13"
  }
 },
 "nbformat": 4,
 "nbformat_minor": 1
}
