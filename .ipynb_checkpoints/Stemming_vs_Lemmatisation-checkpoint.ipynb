{
 "cells": [
  {
   "cell_type": "markdown",
   "metadata": {},
   "source": [
    "## Twitter Dataset Prepare"
   ]
  },
  {
   "cell_type": "code",
   "execution_count": 1,
   "metadata": {
    "collapsed": true
   },
   "outputs": [],
   "source": [
    "import pandas as pd\n",
    "import numpy as np\n",
    "import matplotlib.pyplot as plt\n",
    "import cPickle as pickle\n",
    "import tqdm\n",
    "import regex\n",
    "import os\n",
    "import re\n",
    "import shutil\n",
    "import operator\n",
    "import codecs\n",
    "import time\n",
    "import random\n",
    "from math import log\n",
    "from nltk import sent_tokenize\n",
    "from pymystem3 import Mystem\n",
    "from seaborn import heatmap\n",
    "from nltk.tokenize import RegexpTokenizer\n",
    "from nltk.stem.snowball import RussianStemmer\n",
    "from sklearn.model_selection import train_test_split\n",
    "from sklearn.feature_extraction.text import CountVectorizer, TfidfVectorizer\n",
    "from sklearn.pipeline import Pipeline\n",
    "from sklearn.linear_model import LogisticRegression, LinearRegression\n",
    "from sklearn.svm import LinearSVC\n",
    "from sklearn.metrics import accuracy_score\n",
    "from sklearn.metrics import roc_curve, auc\n",
    "from sklearn.metrics import classification_report\n",
    "from sklearn.metrics import precision_recall_fscore_support\n",
    "from sklearn.metrics import make_scorer\n",
    "from sklearn.model_selection import GridSearchCV\n",
    "\n",
    "\n",
    "\n",
    "from sklearn.ensemble import GradientBoostingClassifier\n",
    "from sklearn import datasets\n",
    "from sklearn.naive_bayes import GaussianNB\n",
    "from sklearn.naive_bayes import MultinomialNB\n",
    "from sklearn.naive_bayes import BernoulliNB\n",
    "\n",
    "%matplotlib inline"
   ]
  },
  {
   "cell_type": "markdown",
   "metadata": {},
   "source": [
    "База данных состоит из 12 столбцов:\n",
    "- id: уникальный номер сообщения в системе twitter;\n",
    "- tdate: дата публикации сообщения (твита);\n",
    "- tmane: имя пользователя, опубликовавшего сообщение;\n",
    "- ttext:  текст сообщения (твита);\n",
    "- ttype: поле в котором в дальнейшем будет указано к кому классу относится твит (положительный, отрицательный, нейтральный);\n",
    "- trep: количество реплаев к данному сообщению. В настоящий момент API твиттера не отдает эту информацию;\n",
    "- trtf: число ретвитов\n",
    "- tfav: число сколько раз данное сообщение было добавлено в избранное другими пользователями;\n",
    "- tstcount: число всех сообщений пользователя в сети twitter;\n",
    "- tfol: количество фоловеров пользователя (тех людей, которые читают пользователя);\n",
    "- tfrien: количество друзей пользователя (те люди, которых читает пользователь);\n",
    "- listcount: количество листов-подписок в которые добавлен твиттер-пользователь."
   ]
  },
  {
   "cell_type": "code",
   "execution_count": 2,
   "metadata": {
    "collapsed": true
   },
   "outputs": [],
   "source": [
    "header = ['id', 'tdate', 'tmane', 'ttext', 'ttype', 'trep', 'trtf', 'tfav', 'tstcount', 'tfol', 'tfrien', 'listcount']"
   ]
  },
  {
   "cell_type": "markdown",
   "metadata": {},
   "source": [
    "#### Загружаем положительные и негативные твиты в один DataFrame, после этого перемешиваем с помощью sample(frac=1)"
   ]
  },
  {
   "cell_type": "code",
   "execution_count": 3,
   "metadata": {
    "collapsed": true
   },
   "outputs": [],
   "source": [
    "pos_twitts = pd.read_csv('dataset/train_positive.csv', sep=';', names=header)\n",
    "neg_twitts = pd.read_csv('dataset/train_negative.csv', sep=';', names=header)\n",
    "twitts = pd.concat([pos_twitts, neg_twitts], axis=0)\n",
    "twitts = twitts.sample(frac=1)"
   ]
  },
  {
   "cell_type": "markdown",
   "metadata": {},
   "source": [
    "#### Смотрим размерность нашего размеченного датасета и проверяем, что у нас 2 вида твитов(положительные(1) и негативные(-1))"
   ]
  },
  {
   "cell_type": "code",
   "execution_count": 4,
   "metadata": {
    "collapsed": false
   },
   "outputs": [
    {
     "name": "stdout",
     "output_type": "stream",
     "text": [
      "(226834, 12)\n"
     ]
    },
    {
     "data": {
      "text/html": [
       "<div>\n",
       "<style>\n",
       "    .dataframe thead tr:only-child th {\n",
       "        text-align: right;\n",
       "    }\n",
       "\n",
       "    .dataframe thead th {\n",
       "        text-align: left;\n",
       "    }\n",
       "\n",
       "    .dataframe tbody tr th {\n",
       "        vertical-align: top;\n",
       "    }\n",
       "</style>\n",
       "<table border=\"1\" class=\"dataframe\">\n",
       "  <thead>\n",
       "    <tr style=\"text-align: right;\">\n",
       "      <th></th>\n",
       "      <th>id</th>\n",
       "      <th>tdate</th>\n",
       "      <th>tmane</th>\n",
       "      <th>ttext</th>\n",
       "      <th>ttype</th>\n",
       "      <th>trep</th>\n",
       "      <th>trtf</th>\n",
       "      <th>tfav</th>\n",
       "      <th>tstcount</th>\n",
       "      <th>tfol</th>\n",
       "      <th>tfrien</th>\n",
       "      <th>listcount</th>\n",
       "    </tr>\n",
       "  </thead>\n",
       "  <tbody>\n",
       "    <tr>\n",
       "      <th>32861</th>\n",
       "      <td>409753229212135424</td>\n",
       "      <td>1386527757</td>\n",
       "      <td>narrator_tyler</td>\n",
       "      <td>@Blink_Milk РАССКАЗЧИИИИК ^____^ мр :з\\nну,ког...</td>\n",
       "      <td>1</td>\n",
       "      <td>0</td>\n",
       "      <td>0</td>\n",
       "      <td>0</td>\n",
       "      <td>7999</td>\n",
       "      <td>70</td>\n",
       "      <td>62</td>\n",
       "      <td>1</td>\n",
       "    </tr>\n",
       "    <tr>\n",
       "      <th>70084</th>\n",
       "      <td>410466056969654272</td>\n",
       "      <td>1386697708</td>\n",
       "      <td>19LUCHS69</td>\n",
       "      <td>@petr7070 @Trochenco великолепная фраза ) На у...</td>\n",
       "      <td>1</td>\n",
       "      <td>0</td>\n",
       "      <td>0</td>\n",
       "      <td>0</td>\n",
       "      <td>80454</td>\n",
       "      <td>1386</td>\n",
       "      <td>584</td>\n",
       "      <td>64</td>\n",
       "    </tr>\n",
       "    <tr>\n",
       "      <th>24754</th>\n",
       "      <td>409549331466027008</td>\n",
       "      <td>1386479144</td>\n",
       "      <td>karpin1994</td>\n",
       "      <td>RT @lys_mila: Замечательный вечер и ночь..все ...</td>\n",
       "      <td>1</td>\n",
       "      <td>0</td>\n",
       "      <td>1</td>\n",
       "      <td>0</td>\n",
       "      <td>2614</td>\n",
       "      <td>67</td>\n",
       "      <td>80</td>\n",
       "      <td>0</td>\n",
       "    </tr>\n",
       "    <tr>\n",
       "      <th>105288</th>\n",
       "      <td>424098839247990784</td>\n",
       "      <td>1389948017</td>\n",
       "      <td>truniova</td>\n",
       "      <td>@_WhenDoWeStart мне еще сегодня идти брать инт...</td>\n",
       "      <td>-1</td>\n",
       "      <td>0</td>\n",
       "      <td>0</td>\n",
       "      <td>0</td>\n",
       "      <td>9575</td>\n",
       "      <td>823</td>\n",
       "      <td>451</td>\n",
       "      <td>9</td>\n",
       "    </tr>\n",
       "    <tr>\n",
       "      <th>70183</th>\n",
       "      <td>410466817732542464</td>\n",
       "      <td>1386697890</td>\n",
       "      <td>ereizer1</td>\n",
       "      <td>@sabbathist @suselll надо же, есть люди, котор...</td>\n",
       "      <td>1</td>\n",
       "      <td>0</td>\n",
       "      <td>0</td>\n",
       "      <td>0</td>\n",
       "      <td>5985</td>\n",
       "      <td>161</td>\n",
       "      <td>170</td>\n",
       "      <td>6</td>\n",
       "    </tr>\n",
       "  </tbody>\n",
       "</table>\n",
       "</div>"
      ],
      "text/plain": [
       "                        id       tdate           tmane  \\\n",
       "32861   409753229212135424  1386527757  narrator_tyler   \n",
       "70084   410466056969654272  1386697708       19LUCHS69   \n",
       "24754   409549331466027008  1386479144      karpin1994   \n",
       "105288  424098839247990784  1389948017        truniova   \n",
       "70183   410466817732542464  1386697890        ereizer1   \n",
       "\n",
       "                                                    ttext  ttype  trep  trtf  \\\n",
       "32861   @Blink_Milk РАССКАЗЧИИИИК ^____^ мр :з\\nну,ког...      1     0     0   \n",
       "70084   @petr7070 @Trochenco великолепная фраза ) На у...      1     0     0   \n",
       "24754   RT @lys_mila: Замечательный вечер и ночь..все ...      1     0     1   \n",
       "105288  @_WhenDoWeStart мне еще сегодня идти брать инт...     -1     0     0   \n",
       "70183   @sabbathist @suselll надо же, есть люди, котор...      1     0     0   \n",
       "\n",
       "        tfav  tstcount  tfol  tfrien  listcount  \n",
       "32861      0      7999    70      62          1  \n",
       "70084      0     80454  1386     584         64  \n",
       "24754      0      2614    67      80          0  \n",
       "105288     0      9575   823     451          9  \n",
       "70183      0      5985   161     170          6  "
      ]
     },
     "execution_count": 4,
     "metadata": {},
     "output_type": "execute_result"
    }
   ],
   "source": [
    "print twitts.shape\n",
    "twitts.head()"
   ]
  },
  {
   "cell_type": "code",
   "execution_count": 5,
   "metadata": {
    "collapsed": false
   },
   "outputs": [
    {
     "data": {
      "text/plain": [
       "array([ 1, -1], dtype=int64)"
      ]
     },
     "execution_count": 5,
     "metadata": {},
     "output_type": "execute_result"
    }
   ],
   "source": [
    "twitts.ttype.unique()"
   ]
  },
  {
   "cell_type": "markdown",
   "metadata": {},
   "source": [
    "## Working with Twitter texts"
   ]
  },
  {
   "cell_type": "code",
   "execution_count": 6,
   "metadata": {
    "collapsed": true
   },
   "outputs": [],
   "source": [
    "X = twitts.ttext.values\n",
    "y = twitts.ttype.values"
   ]
  },
  {
   "cell_type": "code",
   "execution_count": 7,
   "metadata": {
    "collapsed": true
   },
   "outputs": [],
   "source": [
    "def prepare_text(text):\n",
    "    text = text.lower().strip()\n",
    "    text = ' '.join(text.split())\n",
    "    text = re.sub(r'@\\S+', '', text) # delete @user_name\n",
    "    text = re.sub(r'#\\W+', '', text) # delete #hashtag\n",
    "    text = re.sub(r'[\\!\\\"\\#\\$\\%\\&\\\\\\'\\(\\)\\*\\+\\,\\-\\.\\/\\:\\;\\<\\=\\>\\?\\@\\[\\\\\\\\\\]\\^\\_\\`\\{\\|\\}\\~, a-z, 0-9]+', ' ', text) # delete smiles\n",
    "    return text\n",
    "\n",
    "def tokenize(text):\n",
    "    tokenizer = RegexpTokenizer('\\w+|\\S+')\n",
    "    return tokenizer.tokenize(text)\n",
    "\n",
    "def stem_text(text):\n",
    "    r = RussianStemmer()\n",
    "    return [r.stem(word) for word in text]"
   ]
  },
  {
   "cell_type": "code",
   "execution_count": 8,
   "metadata": {
    "collapsed": true
   },
   "outputs": [],
   "source": [
    "def preprocess(X):\n",
    "    X = [prepare_text(text).decode('utf-8') for text in X]\n",
    "    X = [tokenize(text) for text in X]\n",
    "    X = [stem_text(text) for text in X]\n",
    "    X = [' '.join(words) for words in X]\n",
    "    return [prepare_text(text) for text in X]"
   ]
  },
  {
   "cell_type": "markdown",
   "metadata": {},
   "source": [
    "Просто стемминг"
   ]
  },
  {
   "cell_type": "code",
   "execution_count": 9,
   "metadata": {
    "collapsed": false
   },
   "outputs": [
    {
     "name": "stdout",
     "output_type": "stream",
     "text": [
      "Wall time: 2min 49s\n"
     ]
    }
   ],
   "source": [
    "%time X_sent_prepare = preprocess(X)"
   ]
  },
  {
   "cell_type": "markdown",
   "metadata": {},
   "source": [
    "Стемминг без слов длины 1"
   ]
  },
  {
   "cell_type": "code",
   "execution_count": 10,
   "metadata": {
    "collapsed": true
   },
   "outputs": [],
   "source": [
    "X_sent_prepare_no_single = \\\n",
    "    [' '.join([word.strip() for word in words.split() if len(word.strip())>1]) for words in X_sent_prepare]"
   ]
  },
  {
   "cell_type": "markdown",
   "metadata": {},
   "source": [
    "Стемминг без слов длины 1 и твитов меньше, чем с 5-ю словами"
   ]
  },
  {
   "cell_type": "code",
   "execution_count": 11,
   "metadata": {
    "collapsed": true
   },
   "outputs": [],
   "source": [
    "idx = [len(words.split()) > 4 for words in X_sent_prepare_no_single]\n",
    "X_sent_prepare_no_single_no_short = np.array(X_sent_prepare_no_single)[idx]\n",
    "y_sent_prepare_no_single_no_short = np.array(y)[idx]"
   ]
  },
  {
   "cell_type": "markdown",
   "metadata": {
    "collapsed": true
   },
   "source": [
    "Подготовка к лемматизации (нужен mystem.exe т.к. с ним гораздо быстрее)"
   ]
  },
  {
   "cell_type": "code",
   "execution_count": 12,
   "metadata": {
    "collapsed": true
   },
   "outputs": [],
   "source": [
    "X_pr = [prepare_text(text).decode('utf-8').strip() for text in X]"
   ]
  },
  {
   "cell_type": "code",
   "execution_count": 13,
   "metadata": {
    "collapsed": true
   },
   "outputs": [],
   "source": [
    "file = codecs.open(\"raw.txt\", \"w\", \"utf-8\")\n",
    "for line in X_pr:\n",
    "    file.write(line+'\\n')\n",
    "file.close()"
   ]
  },
  {
   "cell_type": "code",
   "execution_count": 14,
   "metadata": {
    "collapsed": false
   },
   "outputs": [
    {
     "name": "stdout",
     "output_type": "stream",
     "text": [
      "Wall time: 1min 13s\n"
     ]
    },
    {
     "data": {
      "text/plain": [
       "0"
      ]
     },
     "execution_count": 14,
     "metadata": {},
     "output_type": "execute_result"
    }
   ],
   "source": [
    "%time os.system('mystem.exe raw.txt out.txt -dlc')"
   ]
  },
  {
   "cell_type": "code",
   "execution_count": 15,
   "metadata": {
    "collapsed": true
   },
   "outputs": [],
   "source": [
    "file = codecs.open(\"out.txt\", \"r\", \"utf-8\")\n",
    "X_sent = [line for line in file]\n",
    "file.close()"
   ]
  },
  {
   "cell_type": "markdown",
   "metadata": {},
   "source": [
    "Лемматизация"
   ]
  },
  {
   "cell_type": "code",
   "execution_count": 16,
   "metadata": {
    "collapsed": true
   },
   "outputs": [],
   "source": [
    "X_mystem = [prepare_text(text).strip() for text in X_sent]"
   ]
  },
  {
   "cell_type": "markdown",
   "metadata": {},
   "source": [
    "Лемматизация без слов длины 1"
   ]
  },
  {
   "cell_type": "code",
   "execution_count": 17,
   "metadata": {
    "collapsed": true
   },
   "outputs": [],
   "source": [
    "X_mystem_no_single = [' '.join([word.strip() for word in words.split() if len(word.strip())>1]) for words in X_mystem]"
   ]
  },
  {
   "cell_type": "markdown",
   "metadata": {},
   "source": [
    "Лемматизация без слов длины 1 и твитов меньше, чем с 5-ю словами"
   ]
  },
  {
   "cell_type": "code",
   "execution_count": 18,
   "metadata": {
    "collapsed": true
   },
   "outputs": [],
   "source": [
    "idx = [len(words.split()) > 4 for words in X_mystem_no_single]\n",
    "X_mystem_no_single_no_short = np.array(X_mystem_no_single)[idx]\n",
    "y_mystem_no_single_no_short = np.array(y)[idx]"
   ]
  },
  {
   "cell_type": "code",
   "execution_count": null,
   "metadata": {
    "collapsed": true
   },
   "outputs": [],
   "source": []
  },
  {
   "cell_type": "code",
   "execution_count": 19,
   "metadata": {
    "collapsed": false
   },
   "outputs": [
    {
     "name": "stdout",
     "output_type": "stream",
     "text": [
      "@pekenyo @snow_alexa ребята +1 )) кому еще пожаловаться как не в твиттер\n",
      "Винушка часто постит фоточки и видео с Полом ;(\n",
      "RT @_whytea: 25-летие @ChronoSaber — EPIC! Это правда. A tale to tell. Всем брачас нереальная РЕСПА! Жаль тока, что дико поздно приехал ((\n",
      "Не хочу завтра ГДС:(\n",
      "Я уставшая и ничего не знающая:(\n",
      "RT @TukvaSociopat: Готовим глубокоэшелонированную оборону! ))) #євромайдан http://t.co/NQewryfNM8\n",
      "Да пиздец как настроение поднимается за 1 секу так и падает за 1 секУ(\n",
      "Ничего вы не понимаете в колбасных обрезках. Ну не могу я серьёзно к php относиться. НЕ-МО-ГУ :)\n",
      "@MaratShibutov все в хозмаге можно приобрести и на заправке ))\n",
      "Хм... #Фильм #ПривычкаРасставаться напомнил мне #СексВБольшомГороде! ;)\n",
      "зачем тааааак мучатся? ;( ничего не помогает,хуево\n"
     ]
    }
   ],
   "source": [
    "for x in X[10:20]:\n",
    "    print x"
   ]
  },
  {
   "cell_type": "code",
   "execution_count": 20,
   "metadata": {
    "collapsed": false
   },
   "outputs": [
    {
     "name": "stdout",
     "output_type": "stream",
     "text": [
      "ребята кто еще пожаловаться как не в твиттер\n",
      "винушка часто постить фоточка и видео с пол\n",
      "летие — это правда все брачас нереальный респ жаль ток что дико поздно приезжать\n",
      "не хотеть завтра гдс я уставать и ничто не знать\n",
      "готовить глубокоэшелонировать оборона\n",
      "да пиздец как настроение подниматься за сечь так и падать за сечь\n",
      "ничто вы не понимать в колбасный обрезка ну не мочь я серьезно к относиться не мо гу\n",
      "все в хозмаг можно приобретать и на заправка\n",
      "хм\n",
      "зачем тааааак мучиться ничто не помогать хуево\n"
     ]
    }
   ],
   "source": [
    "for x in X_mystem[10:20]:\n",
    "    print x"
   ]
  },
  {
   "cell_type": "code",
   "execution_count": 21,
   "metadata": {
    "collapsed": false
   },
   "outputs": [
    {
     "name": "stdout",
     "output_type": "stream",
     "text": [
      "ребят ком ещ пожалова как не в твиттер\n",
      "винушк част пост фоточк и виде с пол\n",
      "лет — эт правд всем брачас нереальн респ жал ток что дик поздн приеха\n",
      "не хоч завтр гдс я уста и нич не знающ\n",
      "готов глубокоэшелонирова оборон\n",
      "да пиздец как настроен поднима за сек так и пада за сек\n",
      "нич вы не понима в колбасн обрезк ну не мог я серьезн к относ не мо гу\n",
      "все в хозмаг можн приобрест и на заправк\n",
      "хм\n",
      "зач тааааак мучат нич не помога хуев\n"
     ]
    }
   ],
   "source": [
    "for x in X_sent_prepare[10:20]:\n",
    "    print x"
   ]
  },
  {
   "cell_type": "markdown",
   "metadata": {},
   "source": [
    "### Разбиваем наш датасет с помощью train test split и начинаем создавать модельки"
   ]
  },
  {
   "cell_type": "code",
   "execution_count": 22,
   "metadata": {
    "collapsed": true
   },
   "outputs": [],
   "source": [
    "X_train_sent_prepare, X_test_sent_prepare, y_train_sent_prepare, y_test_sent_prepare = \\\n",
    "    train_test_split(X_sent_prepare, y, test_size=0.3, random_state=42)"
   ]
  },
  {
   "cell_type": "code",
   "execution_count": 23,
   "metadata": {
    "collapsed": true
   },
   "outputs": [],
   "source": [
    "X_train_sent_prepare_no_single, X_test_sent_prepare_no_single, y_train_sent_prepare_no_single, y_test_sent_prepare_no_single = \\\n",
    "    train_test_split(X_sent_prepare_no_single, y, test_size=0.3, random_state=42)"
   ]
  },
  {
   "cell_type": "code",
   "execution_count": 24,
   "metadata": {
    "collapsed": true
   },
   "outputs": [],
   "source": [
    "X_train_sent_prepare_no_single_no_short, X_test_sent_prepare_no_single_no_short, \\\n",
    "    y_train_sent_prepare_no_single_no_short, y_test_sent_prepare_no_single_no_short = \\\n",
    "        train_test_split(X_sent_prepare_no_single_no_short, y_sent_prepare_no_single_no_short, test_size=0.3, random_state=42)"
   ]
  },
  {
   "cell_type": "code",
   "execution_count": 25,
   "metadata": {
    "collapsed": true
   },
   "outputs": [],
   "source": [
    "X_train_mystem, X_test_mystem, y_train_mystem, y_test_mystem = \\\n",
    "    train_test_split(X_mystem, y, test_size=0.3, random_state=42)"
   ]
  },
  {
   "cell_type": "code",
   "execution_count": 26,
   "metadata": {
    "collapsed": true
   },
   "outputs": [],
   "source": [
    "X_train_mystem_no_single, X_test_mystem_no_single, y_train_mystem_no_single, y_test_mystem_no_single = \\\n",
    "    train_test_split(X_mystem_no_single, y, test_size=0.3, random_state=42)"
   ]
  },
  {
   "cell_type": "code",
   "execution_count": 27,
   "metadata": {
    "collapsed": true
   },
   "outputs": [],
   "source": [
    "X_train_mystem_no_single_no_short, X_test_mystem_no_single_no_short, \\\n",
    "    y_train_mystem_no_single_no_short, y_test_mystem_no_single_no_short = \\\n",
    "        train_test_split(X_mystem_no_single_no_short, y_mystem_no_single_no_short, \\\n",
    "                         test_size=0.3, random_state=42)"
   ]
  },
  {
   "cell_type": "markdown",
   "metadata": {},
   "source": [
    "#### Модель на Логистической регрессии дает лучший результат(0.746) с параметрами ngram_range=(1, 3), min_df=5. Вид модели роль не играет"
   ]
  },
  {
   "cell_type": "code",
   "execution_count": 28,
   "metadata": {
    "collapsed": true
   },
   "outputs": [],
   "source": [
    "model_logreg = Pipeline([('count', CountVectorizer(ngram_range=(1, 3), min_df=1)), \n",
    "                         ('log_reg', LogisticRegression(solver='sag'))])\n",
    "model_logreg_tf_idf = Pipeline([('count', TfidfVectorizer(ngram_range=(1, 3), min_df=1)), \n",
    "                                ('log_reg', LogisticRegression())])"
   ]
  },
  {
   "cell_type": "code",
   "execution_count": 29,
   "metadata": {
    "collapsed": true
   },
   "outputs": [],
   "source": [
    "model_logreg1 = Pipeline([('count', CountVectorizer(ngram_range=(1, 3), min_df=1)), \n",
    "                         ('log_reg', LogisticRegression(solver='sag'))])\n",
    "model_logreg2 = Pipeline([('count', CountVectorizer(ngram_range=(1, 3), min_df=1)), \n",
    "                         ('log_reg', LogisticRegression(solver='sag'))])\n",
    "model_logreg3 = Pipeline([('count', CountVectorizer(ngram_range=(1, 3), min_df=1)), \n",
    "                         ('log_reg', LogisticRegression(solver='sag'))])\n",
    "model_logreg4 = Pipeline([('count', CountVectorizer(ngram_range=(1, 3), min_df=1)), \n",
    "                         ('log_reg', LogisticRegression(solver='sag'))])\n",
    "model_logreg5 = Pipeline([('count', CountVectorizer(ngram_range=(1, 3), min_df=1)), \n",
    "                         ('log_reg', LogisticRegression(solver='sag'))])\n",
    "model_logreg6 = Pipeline([('count', CountVectorizer(ngram_range=(1, 3), min_df=1)), \n",
    "                         ('log_reg', LogisticRegression(solver='sag'))])"
   ]
  },
  {
   "cell_type": "code",
   "execution_count": 30,
   "metadata": {
    "collapsed": true
   },
   "outputs": [],
   "source": [
    "model_svm_tfidf1 = Pipeline([('count', CountVectorizer(ngram_range=(1, 3), min_df=1)), \n",
    "                     ('svm', LinearSVC()),])\n",
    "model_svm_tfidf2 = Pipeline([('count', CountVectorizer(ngram_range=(1, 3), min_df=1)), \n",
    "                     ('svm', LinearSVC()),])\n",
    "model_svm_tfidf3 = Pipeline([('count', CountVectorizer(ngram_range=(1, 3), min_df=1)), \n",
    "                     ('svm', LinearSVC()),])\n",
    "model_svm_tfidf4 = Pipeline([('count', CountVectorizer(ngram_range=(1, 3), min_df=1)), \n",
    "                     ('svm', LinearSVC()),])\n",
    "model_svm_tfidf5 = Pipeline([('count', CountVectorizer(ngram_range=(1, 3), min_df=1)), \n",
    "                     ('svm', LinearSVC()),])\n",
    "model_svm_tfidf6 = Pipeline([('count', CountVectorizer(ngram_range=(1, 3), min_df=1)), \n",
    "                     ('svm', LinearSVC()),])"
   ]
  },
  {
   "cell_type": "code",
   "execution_count": 37,
   "metadata": {
    "collapsed": false
   },
   "outputs": [
    {
     "name": "stdout",
     "output_type": "stream",
     "text": [
      "Wall time: 50.9 s\n"
     ]
    },
    {
     "data": {
      "text/plain": [
       "Pipeline(memory=None,\n",
       "     steps=[('count', CountVectorizer(analyzer=u'word', binary=False, decode_error=u'strict',\n",
       "        dtype=<type 'numpy.int64'>, encoding=u'utf-8', input=u'content',\n",
       "        lowercase=True, max_df=1.0, max_features=None, min_df=1,\n",
       "        ngram_range=(1, 3), preprocessor=None, stop_words=None,\n",
       "        s... penalty='l2', random_state=None, solver='sag', tol=0.0001,\n",
       "          verbose=0, warm_start=False))])"
      ]
     },
     "execution_count": 37,
     "metadata": {},
     "output_type": "execute_result"
    }
   ],
   "source": [
    "%time model_logreg1.fit(X_train_sent_prepare, y_train_sent_prepare)"
   ]
  },
  {
   "cell_type": "code",
   "execution_count": 38,
   "metadata": {
    "collapsed": false
   },
   "outputs": [
    {
     "name": "stdout",
     "output_type": "stream",
     "text": [
      "Wall time: 1min 9s\n"
     ]
    },
    {
     "data": {
      "text/plain": [
       "Pipeline(memory=None,\n",
       "     steps=[('count', CountVectorizer(analyzer=u'word', binary=False, decode_error=u'strict',\n",
       "        dtype=<type 'numpy.int64'>, encoding=u'utf-8', input=u'content',\n",
       "        lowercase=True, max_df=1.0, max_features=None, min_df=1,\n",
       "        ngram_range=(1, 3), preprocessor=None, stop_words=None,\n",
       "        s... penalty='l2', random_state=None, solver='sag', tol=0.0001,\n",
       "          verbose=0, warm_start=False))])"
      ]
     },
     "execution_count": 38,
     "metadata": {},
     "output_type": "execute_result"
    }
   ],
   "source": [
    "%time model_logreg2.fit(X_train_sent_prepare_no_single, y_train_sent_prepare_no_single)"
   ]
  },
  {
   "cell_type": "code",
   "execution_count": 39,
   "metadata": {
    "collapsed": false
   },
   "outputs": [
    {
     "name": "stdout",
     "output_type": "stream",
     "text": [
      "Wall time: 47.5 s\n"
     ]
    },
    {
     "data": {
      "text/plain": [
       "Pipeline(memory=None,\n",
       "     steps=[('count', CountVectorizer(analyzer=u'word', binary=False, decode_error=u'strict',\n",
       "        dtype=<type 'numpy.int64'>, encoding=u'utf-8', input=u'content',\n",
       "        lowercase=True, max_df=1.0, max_features=None, min_df=1,\n",
       "        ngram_range=(1, 3), preprocessor=None, stop_words=None,\n",
       "        s... penalty='l2', random_state=None, solver='sag', tol=0.0001,\n",
       "          verbose=0, warm_start=False))])"
      ]
     },
     "execution_count": 39,
     "metadata": {},
     "output_type": "execute_result"
    }
   ],
   "source": [
    "%time model_logreg3.fit(X_train_sent_prepare_no_single_no_short, y_train_sent_prepare_no_single_no_short)"
   ]
  },
  {
   "cell_type": "code",
   "execution_count": 40,
   "metadata": {
    "collapsed": false
   },
   "outputs": [
    {
     "name": "stdout",
     "output_type": "stream",
     "text": [
      "Wall time: 47.3 s\n"
     ]
    },
    {
     "data": {
      "text/plain": [
       "Pipeline(memory=None,\n",
       "     steps=[('count', CountVectorizer(analyzer=u'word', binary=False, decode_error=u'strict',\n",
       "        dtype=<type 'numpy.int64'>, encoding=u'utf-8', input=u'content',\n",
       "        lowercase=True, max_df=1.0, max_features=None, min_df=1,\n",
       "        ngram_range=(1, 3), preprocessor=None, stop_words=None,\n",
       "        s... penalty='l2', random_state=None, solver='sag', tol=0.0001,\n",
       "          verbose=0, warm_start=False))])"
      ]
     },
     "execution_count": 40,
     "metadata": {},
     "output_type": "execute_result"
    }
   ],
   "source": [
    "%time model_logreg4.fit(X_train_mystem, y_train_mystem)"
   ]
  },
  {
   "cell_type": "code",
   "execution_count": 41,
   "metadata": {
    "collapsed": false
   },
   "outputs": [
    {
     "name": "stdout",
     "output_type": "stream",
     "text": [
      "Wall time: 50.3 s\n"
     ]
    },
    {
     "data": {
      "text/plain": [
       "Pipeline(memory=None,\n",
       "     steps=[('count', CountVectorizer(analyzer=u'word', binary=False, decode_error=u'strict',\n",
       "        dtype=<type 'numpy.int64'>, encoding=u'utf-8', input=u'content',\n",
       "        lowercase=True, max_df=1.0, max_features=None, min_df=1,\n",
       "        ngram_range=(1, 3), preprocessor=None, stop_words=None,\n",
       "        s... penalty='l2', random_state=None, solver='sag', tol=0.0001,\n",
       "          verbose=0, warm_start=False))])"
      ]
     },
     "execution_count": 41,
     "metadata": {},
     "output_type": "execute_result"
    }
   ],
   "source": [
    "%time model_logreg5.fit(X_train_mystem_no_single, y_train_mystem_no_single)"
   ]
  },
  {
   "cell_type": "code",
   "execution_count": 42,
   "metadata": {
    "collapsed": false
   },
   "outputs": [
    {
     "name": "stdout",
     "output_type": "stream",
     "text": [
      "Wall time: 44.2 s\n"
     ]
    },
    {
     "data": {
      "text/plain": [
       "Pipeline(memory=None,\n",
       "     steps=[('count', CountVectorizer(analyzer=u'word', binary=False, decode_error=u'strict',\n",
       "        dtype=<type 'numpy.int64'>, encoding=u'utf-8', input=u'content',\n",
       "        lowercase=True, max_df=1.0, max_features=None, min_df=1,\n",
       "        ngram_range=(1, 3), preprocessor=None, stop_words=None,\n",
       "        s... penalty='l2', random_state=None, solver='sag', tol=0.0001,\n",
       "          verbose=0, warm_start=False))])"
      ]
     },
     "execution_count": 42,
     "metadata": {},
     "output_type": "execute_result"
    }
   ],
   "source": [
    "%time model_logreg6.fit(X_train_mystem_no_single_no_short, y_train_mystem_no_single_no_short)"
   ]
  },
  {
   "cell_type": "code",
   "execution_count": 43,
   "metadata": {
    "collapsed": false
   },
   "outputs": [
    {
     "name": "stdout",
     "output_type": "stream",
     "text": [
      "Wall time: 1min 24s\n"
     ]
    },
    {
     "data": {
      "text/plain": [
       "Pipeline(memory=None,\n",
       "     steps=[('count', CountVectorizer(analyzer=u'word', binary=False, decode_error=u'strict',\n",
       "        dtype=<type 'numpy.int64'>, encoding=u'utf-8', input=u'content',\n",
       "        lowercase=True, max_df=1.0, max_features=None, min_df=1,\n",
       "        ngram_range=(1, 3), preprocessor=None, stop_words=None,\n",
       "        s...ax_iter=1000,\n",
       "     multi_class='ovr', penalty='l2', random_state=None, tol=0.0001,\n",
       "     verbose=0))])"
      ]
     },
     "execution_count": 43,
     "metadata": {},
     "output_type": "execute_result"
    }
   ],
   "source": [
    "%time model_svm_tfidf1.fit(X_train_sent_prepare, y_train_sent_prepare)"
   ]
  },
  {
   "cell_type": "code",
   "execution_count": 44,
   "metadata": {
    "collapsed": false
   },
   "outputs": [
    {
     "name": "stdout",
     "output_type": "stream",
     "text": [
      "Wall time: 1min 24s\n"
     ]
    },
    {
     "data": {
      "text/plain": [
       "Pipeline(memory=None,\n",
       "     steps=[('count', CountVectorizer(analyzer=u'word', binary=False, decode_error=u'strict',\n",
       "        dtype=<type 'numpy.int64'>, encoding=u'utf-8', input=u'content',\n",
       "        lowercase=True, max_df=1.0, max_features=None, min_df=1,\n",
       "        ngram_range=(1, 3), preprocessor=None, stop_words=None,\n",
       "        s...ax_iter=1000,\n",
       "     multi_class='ovr', penalty='l2', random_state=None, tol=0.0001,\n",
       "     verbose=0))])"
      ]
     },
     "execution_count": 44,
     "metadata": {},
     "output_type": "execute_result"
    }
   ],
   "source": [
    "%time model_svm_tfidf2.fit(X_train_sent_prepare_no_single, y_train_sent_prepare_no_single)"
   ]
  },
  {
   "cell_type": "code",
   "execution_count": 45,
   "metadata": {
    "collapsed": false
   },
   "outputs": [
    {
     "name": "stdout",
     "output_type": "stream",
     "text": [
      "Wall time: 1min 20s\n"
     ]
    },
    {
     "data": {
      "text/plain": [
       "Pipeline(memory=None,\n",
       "     steps=[('count', CountVectorizer(analyzer=u'word', binary=False, decode_error=u'strict',\n",
       "        dtype=<type 'numpy.int64'>, encoding=u'utf-8', input=u'content',\n",
       "        lowercase=True, max_df=1.0, max_features=None, min_df=1,\n",
       "        ngram_range=(1, 3), preprocessor=None, stop_words=None,\n",
       "        s...ax_iter=1000,\n",
       "     multi_class='ovr', penalty='l2', random_state=None, tol=0.0001,\n",
       "     verbose=0))])"
      ]
     },
     "execution_count": 45,
     "metadata": {},
     "output_type": "execute_result"
    }
   ],
   "source": [
    "%time model_svm_tfidf3.fit(X_train_sent_prepare_no_single_no_short, y_train_sent_prepare_no_single_no_short)"
   ]
  },
  {
   "cell_type": "code",
   "execution_count": 46,
   "metadata": {
    "collapsed": false
   },
   "outputs": [
    {
     "name": "stdout",
     "output_type": "stream",
     "text": [
      "Wall time: 1min 19s\n"
     ]
    },
    {
     "data": {
      "text/plain": [
       "Pipeline(memory=None,\n",
       "     steps=[('count', CountVectorizer(analyzer=u'word', binary=False, decode_error=u'strict',\n",
       "        dtype=<type 'numpy.int64'>, encoding=u'utf-8', input=u'content',\n",
       "        lowercase=True, max_df=1.0, max_features=None, min_df=1,\n",
       "        ngram_range=(1, 3), preprocessor=None, stop_words=None,\n",
       "        s...ax_iter=1000,\n",
       "     multi_class='ovr', penalty='l2', random_state=None, tol=0.0001,\n",
       "     verbose=0))])"
      ]
     },
     "execution_count": 46,
     "metadata": {},
     "output_type": "execute_result"
    }
   ],
   "source": [
    "%time model_svm_tfidf4.fit(X_train_mystem, y_train_mystem)"
   ]
  },
  {
   "cell_type": "code",
   "execution_count": 47,
   "metadata": {
    "collapsed": false
   },
   "outputs": [
    {
     "name": "stdout",
     "output_type": "stream",
     "text": [
      "Wall time: 1min 19s\n"
     ]
    },
    {
     "data": {
      "text/plain": [
       "Pipeline(memory=None,\n",
       "     steps=[('count', CountVectorizer(analyzer=u'word', binary=False, decode_error=u'strict',\n",
       "        dtype=<type 'numpy.int64'>, encoding=u'utf-8', input=u'content',\n",
       "        lowercase=True, max_df=1.0, max_features=None, min_df=1,\n",
       "        ngram_range=(1, 3), preprocessor=None, stop_words=None,\n",
       "        s...ax_iter=1000,\n",
       "     multi_class='ovr', penalty='l2', random_state=None, tol=0.0001,\n",
       "     verbose=0))])"
      ]
     },
     "execution_count": 47,
     "metadata": {},
     "output_type": "execute_result"
    }
   ],
   "source": [
    "%time model_svm_tfidf5.fit(X_train_mystem_no_single, y_train_mystem_no_single)"
   ]
  },
  {
   "cell_type": "code",
   "execution_count": 48,
   "metadata": {
    "collapsed": false
   },
   "outputs": [
    {
     "name": "stdout",
     "output_type": "stream",
     "text": [
      "Wall time: 1min 12s\n"
     ]
    },
    {
     "data": {
      "text/plain": [
       "Pipeline(memory=None,\n",
       "     steps=[('count', CountVectorizer(analyzer=u'word', binary=False, decode_error=u'strict',\n",
       "        dtype=<type 'numpy.int64'>, encoding=u'utf-8', input=u'content',\n",
       "        lowercase=True, max_df=1.0, max_features=None, min_df=1,\n",
       "        ngram_range=(1, 3), preprocessor=None, stop_words=None,\n",
       "        s...ax_iter=1000,\n",
       "     multi_class='ovr', penalty='l2', random_state=None, tol=0.0001,\n",
       "     verbose=0))])"
      ]
     },
     "execution_count": 48,
     "metadata": {},
     "output_type": "execute_result"
    }
   ],
   "source": [
    "%time model_svm_tfidf6.fit(X_train_mystem_no_single_no_short, y_train_mystem_no_single_no_short)"
   ]
  },
  {
   "cell_type": "code",
   "execution_count": 49,
   "metadata": {
    "collapsed": false,
    "scrolled": true
   },
   "outputs": [
    {
     "name": "stdout",
     "output_type": "stream",
     "text": [
      "LogisticRegression1: \n",
      "             precision    recall  f1-score   support\n",
      "\n",
      "         -1       0.76      0.74      0.75     33492\n",
      "          1       0.76      0.77      0.77     34559\n",
      "\n",
      "avg / total       0.76      0.76      0.76     68051\n",
      "\n",
      "0.758897684085\n",
      "LogisticRegression2: \n",
      "             precision    recall  f1-score   support\n",
      "\n",
      "         -1       0.76      0.74      0.75     33492\n",
      "          1       0.76      0.77      0.76     34559\n",
      "\n",
      "avg / total       0.76      0.76      0.76     68051\n",
      "\n",
      "0.758838889397\n",
      "LogisticRegression3: \n",
      "             precision    recall  f1-score   support\n",
      "\n",
      "         -1       0.76      0.75      0.75     29906\n",
      "          1       0.76      0.77      0.77     30768\n",
      "\n",
      "avg / total       0.76      0.76      0.76     60674\n",
      "\n",
      "0.759731537081\n",
      "LogisticRegression4: \n",
      "             precision    recall  f1-score   support\n",
      "\n",
      "         -1       0.76      0.75      0.75     33492\n",
      "          1       0.76      0.77      0.76     34559\n",
      "\n",
      "avg / total       0.76      0.76      0.76     68051\n",
      "\n",
      "0.758374274979\n",
      "LogisticRegression5: \n",
      "             precision    recall  f1-score   support\n",
      "\n",
      "         -1       0.76      0.75      0.75     33492\n",
      "          1       0.76      0.77      0.76     34559\n",
      "\n",
      "avg / total       0.76      0.76      0.76     68051\n",
      "\n",
      "0.758389340139\n",
      "LogisticRegression6: \n",
      "             precision    recall  f1-score   support\n",
      "\n",
      "         -1       0.77      0.74      0.76     29761\n",
      "          1       0.76      0.78      0.77     30498\n",
      "\n",
      "avg / total       0.76      0.76      0.76     60259\n",
      "\n",
      "0.762671257416\n",
      "SVM with tf-idf1: \n",
      "             precision    recall  f1-score   support\n",
      "\n",
      "         -1       0.74      0.74      0.74     33492\n",
      "          1       0.75      0.75      0.75     34559\n",
      "\n",
      "avg / total       0.75      0.75      0.75     68051\n",
      "\n",
      "0.746674519433\n",
      "SVM with tf-idf2: \n",
      "             precision    recall  f1-score   support\n",
      "\n",
      "         -1       0.74      0.74      0.74     33492\n",
      "          1       0.75      0.75      0.75     34559\n",
      "\n",
      "avg / total       0.75      0.75      0.75     68051\n",
      "\n",
      "0.746674519433\n",
      "SVM with tf-idf3: \n",
      "             precision    recall  f1-score   support\n",
      "\n",
      "         -1       0.75      0.75      0.75     29906\n",
      "          1       0.76      0.76      0.76     30768\n",
      "\n",
      "avg / total       0.75      0.75      0.75     60674\n",
      "\n",
      "0.752475263501\n",
      "SVM with tf-idf4: \n",
      "             precision    recall  f1-score   support\n",
      "\n",
      "         -1       0.74      0.74      0.74     33492\n",
      "          1       0.75      0.75      0.75     34559\n",
      "\n",
      "avg / total       0.75      0.75      0.75     68051\n",
      "\n",
      "0.745638555666\n",
      "SVM with tf-idf5: \n",
      "             precision    recall  f1-score   support\n",
      "\n",
      "         -1       0.74      0.74      0.74     33492\n",
      "          1       0.75      0.75      0.75     34559\n",
      "\n",
      "avg / total       0.75      0.75      0.75     68051\n",
      "\n",
      "0.745638555666\n",
      "SVM with tf-idf6: \n",
      "             precision    recall  f1-score   support\n",
      "\n",
      "         -1       0.76      0.75      0.75     29761\n",
      "          1       0.76      0.76      0.76     30498\n",
      "\n",
      "avg / total       0.76      0.76      0.76     60259\n",
      "\n",
      "0.755445706298\n"
     ]
    }
   ],
   "source": [
    "f1 = []\n",
    "preds_logreg = model_logreg1.predict(X_test_sent_prepare)\n",
    "print \"LogisticRegression1: \\n\", classification_report(y_test_sent_prepare, preds_logreg)\n",
    "print precision_recall_fscore_support(y_test_sent_prepare, preds_logreg, average='weighted')[2]\n",
    "f1.append(precision_recall_fscore_support(y_test_sent_prepare, preds_logreg, average='weighted')[2])\n",
    "\n",
    "preds_logreg = model_logreg2.predict(X_test_sent_prepare_no_single)\n",
    "print \"LogisticRegression2: \\n\", classification_report(y_test_sent_prepare_no_single, preds_logreg)\n",
    "print precision_recall_fscore_support(y_test_sent_prepare_no_single, preds_logreg, average='weighted')[2]\n",
    "f1.append(precision_recall_fscore_support(y_test_sent_prepare_no_single, preds_logreg, average='weighted')[2])\n",
    "\n",
    "preds_logreg = model_logreg3.predict(X_test_sent_prepare_no_single_no_short)\n",
    "print \"LogisticRegression3: \\n\", classification_report(y_test_sent_prepare_no_single_no_short, preds_logreg)\n",
    "print precision_recall_fscore_support(y_test_sent_prepare_no_single_no_short, preds_logreg, average='weighted')[2]\n",
    "f1.append(precision_recall_fscore_support(y_test_sent_prepare_no_single_no_short, preds_logreg, average='weighted')[2])\n",
    "\n",
    "preds_logreg = model_logreg4.predict(X_test_mystem)\n",
    "print \"LogisticRegression4: \\n\", classification_report(y_test_mystem, preds_logreg)\n",
    "print precision_recall_fscore_support(y_test_mystem, preds_logreg, average='weighted')[2]\n",
    "f1.append(precision_recall_fscore_support(y_test_mystem, preds_logreg, average='weighted')[2])\n",
    "\n",
    "preds_logreg = model_logreg5.predict(X_test_mystem_no_single)\n",
    "print \"LogisticRegression5: \\n\", classification_report(y_test_mystem_no_single, preds_logreg)\n",
    "print precision_recall_fscore_support(y_test_mystem_no_single, preds_logreg, average='weighted')[2]\n",
    "f1.append(precision_recall_fscore_support(y_test_mystem_no_single, preds_logreg, average='weighted')[2])\n",
    "\n",
    "preds_logreg = model_logreg6.predict(X_test_mystem_no_single_no_short)\n",
    "print \"LogisticRegression6: \\n\", classification_report(y_test_mystem_no_single_no_short, preds_logreg)\n",
    "print precision_recall_fscore_support(y_test_mystem_no_single_no_short, preds_logreg, average='weighted')[2]\n",
    "f1.append(precision_recall_fscore_support(y_test_mystem_no_single_no_short, preds_logreg, average='weighted')[2])\n",
    "\n",
    "\n",
    "preds_logreg = model_svm_tfidf1.predict(X_test_sent_prepare)\n",
    "print \"SVM with tf-idf1: \\n\", classification_report(y_test_sent_prepare, preds_logreg)\n",
    "print precision_recall_fscore_support(y_test_sent_prepare, preds_logreg, average='weighted')[2]\n",
    "f1.append(precision_recall_fscore_support(y_test_sent_prepare, preds_logreg, average='weighted')[2])\n",
    "\n",
    "preds_logreg = model_svm_tfidf2.predict(X_test_sent_prepare_no_single)\n",
    "print \"SVM with tf-idf2: \\n\", classification_report(y_test_sent_prepare_no_single, preds_logreg)\n",
    "print precision_recall_fscore_support(y_test_sent_prepare_no_single, preds_logreg, average='weighted')[2]\n",
    "f1.append(precision_recall_fscore_support(y_test_sent_prepare_no_single, preds_logreg, average='weighted')[2])\n",
    "\n",
    "preds_logreg = model_svm_tfidf3.predict(X_test_sent_prepare_no_single_no_short)\n",
    "print \"SVM with tf-idf3: \\n\", classification_report(y_test_sent_prepare_no_single_no_short, preds_logreg)\n",
    "print precision_recall_fscore_support(y_test_sent_prepare_no_single_no_short, preds_logreg, average='weighted')[2]\n",
    "f1.append(precision_recall_fscore_support(y_test_sent_prepare_no_single_no_short, preds_logreg, average='weighted')[2])\n",
    "\n",
    "preds_logreg = model_svm_tfidf4.predict(X_test_mystem)\n",
    "print \"SVM with tf-idf4: \\n\", classification_report(y_test_mystem, preds_logreg)\n",
    "print precision_recall_fscore_support(y_test_mystem, preds_logreg, average='weighted')[2]\n",
    "f1.append(precision_recall_fscore_support(y_test_mystem, preds_logreg, average='weighted')[2])\n",
    "\n",
    "preds_logreg = model_svm_tfidf5.predict(X_test_mystem_no_single)\n",
    "print \"SVM with tf-idf5: \\n\", classification_report(y_test_mystem_no_single, preds_logreg)\n",
    "print precision_recall_fscore_support(y_test_mystem_no_single, preds_logreg, average='weighted')[2]\n",
    "f1.append(precision_recall_fscore_support(y_test_mystem_no_single, preds_logreg, average='weighted')[2])\n",
    "\n",
    "preds_logreg = model_svm_tfidf6.predict(X_test_mystem_no_single_no_short)\n",
    "print \"SVM with tf-idf6: \\n\", classification_report(y_test_mystem_no_single_no_short, preds_logreg)\n",
    "print precision_recall_fscore_support(y_test_mystem_no_single_no_short, preds_logreg, average='weighted')[2]\n",
    "f1.append(precision_recall_fscore_support(y_test_mystem_no_single_no_short, preds_logreg, average='weighted')[2])"
   ]
  },
  {
   "cell_type": "code",
   "execution_count": 52,
   "metadata": {
    "collapsed": false
   },
   "outputs": [
    {
     "data": {
      "image/png": "[encoded data removed]",
      "text/plain": [
       "<matplotlib.figure.Figure at 0x1246384e0>"
      ]
     },
     "metadata": {},
     "output_type": "display_data"
    }
   ],
   "source": [
    "plt.figure(num=None, figsize=(15, 10))\n",
    "plt.grid()\n",
    "plt.xticks(range(13))\n",
    "plt.plot(f1)\n",
    "plt.show()"
   ]
  },
  {
   "cell_type": "code",
   "execution_count": null,
   "metadata": {
    "collapsed": true
   },
   "outputs": [],
   "source": []
  },
  {
   "cell_type": "code",
   "execution_count": null,
   "metadata": {
    "collapsed": true
   },
   "outputs": [],
   "source": []
  },
  {
   "cell_type": "code",
   "execution_count": null,
   "metadata": {
    "collapsed": true
   },
   "outputs": [],
   "source": []
  }
 ],
 "metadata": {
  "kernelspec": {
   "display_name": "Python 2",
   "language": "python",
   "name": "python2"
  },
  "language_info": {
   "codemirror_mode": {
    "name": "ipython",
    "version": 2
   },
   "file_extension": ".py",
   "mimetype": "text/x-python",
   "name": "python",
   "nbconvert_exporter": "python",
   "pygments_lexer": "ipython2",
   "version": "2.7.12"
  }
 },
 "nbformat": 4,
 "nbformat_minor": 1
}
