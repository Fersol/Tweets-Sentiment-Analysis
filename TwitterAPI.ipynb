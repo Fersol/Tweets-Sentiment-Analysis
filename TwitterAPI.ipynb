{
 "cells": [
  {
   "cell_type": "markdown",
   "metadata": {},
   "source": [
    "## Getting new tweets"
   ]
  },
  {
   "cell_type": "code",
   "execution_count": 39,
   "metadata": {
    "collapsed": true
   },
   "outputs": [],
   "source": [
    "import tweepy \n",
    "from tweepy import Stream\n",
    "from tweepy import OAuthHandler\n",
    "from tweepy.streaming import StreamListener\n",
    "import json\n",
    "import datetime \n"
   ]
  },
  {
   "cell_type": "code",
   "execution_count": 45,
   "metadata": {
    "collapsed": false
   },
   "outputs": [
    {
     "name": "stdout",
     "output_type": "stream",
     "text": [
      "(u'wylsacom', 1204522)\n"
     ]
    }
   ],
   "source": [
    "access_token = \"713106538-mp6L2FjeZBC7IGkBjxGd20VqSGnCMe32fITNjDHA\"\n",
    "access_token_secret = \"Dw73yZFxCZHDgLZwTiMc4o93vLbHN1CCr2mcr1LSY5WC4\"\n",
    "consumer_key = \"9oPFg8iUjWOrLvZ13C8FoXX5a\"\n",
    "consumer_secret = \"jliZF603JchC2IHHCEWxdtCSQPN0US8phBxMmP7sredb7VJmHH\"\n",
    "\n",
    "auth = tweepy.OAuthHandler(consumer_key, consumer_secret)\n",
    "auth.set_access_token(access_token, access_token_secret)\n",
    "api = tweepy.API(auth)\n",
    "\n",
    "user = api.get_user('@wylsacom')\n",
    "\n",
    "print(user.screen_name, user.followers_count)"
   ]
  },
  {
   "cell_type": "code",
   "execution_count": 52,
   "metadata": {
    "collapsed": false
   },
   "outputs": [],
   "source": [
    "import re\n",
    "def prepare_text(text):\n",
    "    text = text.lower().strip()\n",
    "    text = re.sub(r'@\\S+', '', text) # delete @user_name\n",
    "    text = re.sub(r'#\\W+', '', text) # delete #hashtag\n",
    "    text = re.sub(r'http\\S+', ' ', text)\n",
    "    text = re.sub(r'[o_, O_, dd, dddd, ddd, 0-9, \\:, \\(, \\), \\!, \\-, \\;, \\?, rt, \\#]+', ' ', text) # delete smiles\n",
    "    return text"
   ]
  },
  {
   "cell_type": "code",
   "execution_count": 53,
   "metadata": {
    "collapsed": true
   },
   "outputs": [],
   "source": [
    "def get_api_model():\n",
    "    access_token = \"713106538-mp6L2FjeZBC7IGkBjxGd20VqSGnCMe32fITNjDHA\"\n",
    "    access_token_secret = \"Dw73yZFxCZHDgLZwTiMc4o93vLbHN1CCr2mcr1LSY5WC4\"\n",
    "    consumer_key = \"9oPFg8iUjWOrLvZ13C8FoXX5a\"\n",
    "    consumer_secret = \"jliZF603JchC2IHHCEWxdtCSQPN0US8phBxMmP7sredb7VJmHH\"\n",
    "\n",
    "    api = None\n",
    "    try:\n",
    "        auth = tweepy.OAuthHandler(consumer_key, consumer_secret)\n",
    "        auth.set_access_token(access_token, access_token_secret)\n",
    "        api = tweepy.API(auth)\n",
    "    except Exception:\n",
    "        print(\"Auth error\")\n",
    "    return api"
   ]
  },
  {
   "cell_type": "code",
   "execution_count": 54,
   "metadata": {
    "collapsed": true
   },
   "outputs": [],
   "source": [
    "def get_user_recent_tweets(username, count=100):\n",
    "    api = get_api_model()\n",
    "    tweets = []\n",
    "    MIN_SYMBOLS_NUM = 10\n",
    "\n",
    "    try:\n",
    "        user = api.get_user(username)\n",
    "        tweets = [prepare_text(tweet.text) for tweet in user.timeline(count=count)]\n",
    "    except Exception:\n",
    "        print(\"Getting timeline error\")\n",
    "    print(\"Loaded %d tweets\" % (len(tweets)))\n",
    "    tweets = [prepare_text(tweet) for tweet in tweets]\n",
    "    tweets = [tweet for tweet in tweets if len(tweet) > MIN_SYMBOLS_NUM]\n",
    "    return tweets"
   ]
  },
  {
   "cell_type": "code",
   "execution_count": 55,
   "metadata": {
    "collapsed": false
   },
   "outputs": [
    {
     "name": "stdout",
     "output_type": "stream",
     "text": [
      "Loaded 100 tweets\n"
     ]
    }
   ],
   "source": [
    "user_tweets = get_user_recent_tweets('@wylsacom', 100)"
   ]
  },
  {
   "cell_type": "code",
   "execution_count": 56,
   "metadata": {
    "collapsed": false
   },
   "outputs": [
    {
     "data": {
      "text/plain": [
       "87"
      ]
     },
     "execution_count": 56,
     "metadata": {},
     "output_type": "execute_result"
    }
   ],
   "source": [
    "len(user_tweets)"
   ]
  },
  {
   "cell_type": "code",
   "execution_count": 83,
   "metadata": {
    "collapsed": false
   },
   "outputs": [
    {
     "ename": "RateLimitError",
     "evalue": "[{u'message': u'Rate limit exceeded', u'code': 88}]",
     "output_type": "error",
     "traceback": [
      "\u001b[0;31m---------------------------------------------------------------------------\u001b[0m",
      "\u001b[0;31mRateLimitError\u001b[0m                            Traceback (most recent call last)",
      "\u001b[0;32m<ipython-input-83-7966da2556ed>\u001b[0m in \u001b[0;36m<module>\u001b[0;34m()\u001b[0m\n\u001b[0;32m----> 1\u001b[0;31m \u001b[0mpublic_tweets\u001b[0m \u001b[0;34m=\u001b[0m \u001b[0mapi\u001b[0m\u001b[0;34m.\u001b[0m\u001b[0mhome_timeline\u001b[0m\u001b[0;34m(\u001b[0m\u001b[0;34m)\u001b[0m\u001b[0;34m\u001b[0m\u001b[0m\n\u001b[0m\u001b[1;32m      2\u001b[0m \u001b[0;32mfor\u001b[0m \u001b[0mtweet\u001b[0m \u001b[0;32min\u001b[0m \u001b[0muser\u001b[0m\u001b[0;34m.\u001b[0m\u001b[0mtimeline\u001b[0m\u001b[0;34m(\u001b[0m\u001b[0mcount\u001b[0m\u001b[0;34m=\u001b[0m\u001b[0;36m5\u001b[0m\u001b[0;34m)\u001b[0m\u001b[0;34m:\u001b[0m\u001b[0;34m\u001b[0m\u001b[0m\n\u001b[1;32m      3\u001b[0m     \u001b[0;32mprint\u001b[0m \u001b[0mtweet\u001b[0m\u001b[0;34m.\u001b[0m\u001b[0mtext\u001b[0m \u001b[0;34m+\u001b[0m \u001b[0;34m\"\\n\"\u001b[0m \u001b[0;34m+\u001b[0m \u001b[0mtweet\u001b[0m\u001b[0;34m.\u001b[0m\u001b[0mcreated_at\u001b[0m\u001b[0;34m.\u001b[0m\u001b[0mtime\u001b[0m\u001b[0;34m(\u001b[0m\u001b[0;34m)\u001b[0m\u001b[0;34m\u001b[0m\u001b[0m\n",
      "\u001b[0;32m/Users/maksim/anaconda/envs/py2/lib/python2.7/site-packages/tweepy/binder.pyc\u001b[0m in \u001b[0;36m_call\u001b[0;34m(*args, **kwargs)\u001b[0m\n\u001b[1;32m    243\u001b[0m             \u001b[0;32mreturn\u001b[0m \u001b[0mmethod\u001b[0m\u001b[0;34m\u001b[0m\u001b[0m\n\u001b[1;32m    244\u001b[0m         \u001b[0;32melse\u001b[0m\u001b[0;34m:\u001b[0m\u001b[0;34m\u001b[0m\u001b[0m\n\u001b[0;32m--> 245\u001b[0;31m             \u001b[0;32mreturn\u001b[0m \u001b[0mmethod\u001b[0m\u001b[0;34m.\u001b[0m\u001b[0mexecute\u001b[0m\u001b[0;34m(\u001b[0m\u001b[0;34m)\u001b[0m\u001b[0;34m\u001b[0m\u001b[0m\n\u001b[0m\u001b[1;32m    246\u001b[0m \u001b[0;34m\u001b[0m\u001b[0m\n\u001b[1;32m    247\u001b[0m     \u001b[0;31m# Set pagination mode\u001b[0m\u001b[0;34m\u001b[0m\u001b[0;34m\u001b[0m\u001b[0m\n",
      "\u001b[0;32m/Users/maksim/anaconda/envs/py2/lib/python2.7/site-packages/tweepy/binder.pyc\u001b[0m in \u001b[0;36mexecute\u001b[0;34m(self)\u001b[0m\n\u001b[1;32m    225\u001b[0m \u001b[0;34m\u001b[0m\u001b[0m\n\u001b[1;32m    226\u001b[0m                 \u001b[0;32mif\u001b[0m \u001b[0mis_rate_limit_error_message\u001b[0m\u001b[0;34m(\u001b[0m\u001b[0merror_msg\u001b[0m\u001b[0;34m)\u001b[0m\u001b[0;34m:\u001b[0m\u001b[0;34m\u001b[0m\u001b[0m\n\u001b[0;32m--> 227\u001b[0;31m                     \u001b[0;32mraise\u001b[0m \u001b[0mRateLimitError\u001b[0m\u001b[0;34m(\u001b[0m\u001b[0merror_msg\u001b[0m\u001b[0;34m,\u001b[0m \u001b[0mresp\u001b[0m\u001b[0;34m)\u001b[0m\u001b[0;34m\u001b[0m\u001b[0m\n\u001b[0m\u001b[1;32m    228\u001b[0m                 \u001b[0;32melse\u001b[0m\u001b[0;34m:\u001b[0m\u001b[0;34m\u001b[0m\u001b[0m\n\u001b[1;32m    229\u001b[0m                     \u001b[0;32mraise\u001b[0m \u001b[0mTweepError\u001b[0m\u001b[0;34m(\u001b[0m\u001b[0merror_msg\u001b[0m\u001b[0;34m,\u001b[0m \u001b[0mresp\u001b[0m\u001b[0;34m,\u001b[0m \u001b[0mapi_code\u001b[0m\u001b[0;34m=\u001b[0m\u001b[0mapi_error_code\u001b[0m\u001b[0;34m)\u001b[0m\u001b[0;34m\u001b[0m\u001b[0m\n",
      "\u001b[0;31mRateLimitError\u001b[0m: [{u'message': u'Rate limit exceeded', u'code': 88}]"
     ]
    }
   ],
   "source": [
    "public_tweets = api.home_timeline()\n",
    "for tweet in user.timeline(count=5):\n",
    "    print tweet.text + \"\\n\" + tweet.created_at.time()"
   ]
  },
  {
   "cell_type": "code",
   "execution_count": 64,
   "metadata": {
    "collapsed": true
   },
   "outputs": [],
   "source": [
    "def get_hashtag_recent_tweets(hashtag, count=100):\n",
    "    api = get_api_model()\n",
    "    tweets = []\n",
    "    MIN_SYMBOLS_NUM = 10\n",
    "\n",
    "    try:\n",
    "        tweets = tweepy.Cursor(api.search, q=hashtag[1:], lang='ru').items(count)\n",
    "    except Exception:\n",
    "        print(\"Getting Cursor error\")\n",
    "    tweets = [tweet.text for tweet in tweets]\n",
    "    print(\"Loaded %d tweets\" % (len(tweets)))\n",
    "\n",
    "    tweets = [prepare_text(tweet) for tweet in tweets]\n",
    "    tweets = [tweet for tweet in tweets if len(tweet) > MIN_SYMBOLS_NUM]\n",
    "    return tweets"
   ]
  },
  {
   "cell_type": "code",
   "execution_count": 84,
   "metadata": {
    "collapsed": false
   },
   "outputs": [
    {
     "name": "stdout",
     "output_type": "stream",
     "text": [
      "Loaded 50 tweets\n"
     ]
    }
   ],
   "source": [
    "hashtag_tweets = get_hashtag_recent_tweets(\"#starwars\", 50)"
   ]
  },
  {
   "cell_type": "code",
   "execution_count": 67,
   "metadata": {
    "collapsed": false
   },
   "outputs": [
    {
     "name": "stdout",
     "output_type": "stream",
     "text": [
      "я не понимаю логику этого мира.\n",
      "ругаем пробуждение силы за то что он был слишком сильно похож на зв.\n",
      "ругаем послед… \n",
      " он над нами издевается моё сердечко сейчас не выдержит. s a wa s helas je i a ksi e a am ive \n",
      "не знаю как выразить любовь к s a ek потому что эта вселенная такая большая ламповая и уютная.\n",
      "здесь всегда пойм… \n",
      " \n",
      "\n",
      "s a wa s…\n",
      " то чувство когда у самой нет парня но советы даёшь всем\n",
      "\n",
      " s a wa s bl ckchain asl v f ll back… \n",
      " официально заявляю что все кто считает эпизод s a wa s плохим фильмом геи\n",
      " s a wa s это как властелин колец только в стар версии\n",
      "как вам теория о том что джа джа был реально могущественным стихом а \n",
      " s a wa s \n",
      " т p трендов yan ex s a wa s b s evival \n",
      " т p трендов yan ex s a wa s b s evival \n",
      "т p трендов yan ex s a wa s b s evival \n",
      "проблема новых s a wa s как у многих новых фильмов или игр. сми и блогеры по тем или иным причинам называют картин… \n",
      "в честь премьеры “последних джедаев” стартовали распродажи игр по вселенной s a wa s на сервисах s eam g g humbl… \n",
      " официально заявляю что все кто считает эпизод s a wa s плохим фильмом геи\n",
      "аааааа помогите мне все еще классно и грустно \n",
      "как бы кто не ругался на новые фильмы вселенной s a wa s я остался доволен эпизодом. фэйспалмов хватило но в итоге все хорошо вышло.\n",
      "что сделала лея s a wa s\n",
      "дети. много детей. на премьре s a wa s\n",
      "жду свой поход на s a wa s из за уничтожителя куриных крылышек личного хомячка чубакки и ушастого внука вэйдера… \n",
      "бесит этот вечно красный нос\n",
      "s a wa s bl ckchain \n",
      "кто рано встаёт тот на зв идёт s a wa s @ люксор \n",
      "хорошие обои подъехали от neplus las je i s a wa s \n",
      "в общем s a wa s огонь 😆\n",
      "сегодня у меня киномарафон s a wa s ол дэй лонг самое то перед походом на новый эпизод s a wa s may hef cebewi hy u\n",
      "короче кто ещё будет выражать какое то недовольство кайло реном тому я лично плюну в лицо. = после прошлого филь… \n",
      " официально заявляю что все кто считает эпизод s a wa s плохим фильмом геи\n",
      "«последние джедаи» наконец вдохнули жизнь в возрожденные s a wa s \n",
      "а на чьей стороне ты s a wa s \n",
      " эпизод кайло обнажил свое лицо\n",
      " эпизод кайло обнажил свой торс\n",
      " эпизод кайло обнажился полностью\n",
      " s a wa s helas …\n",
      "этот момент ахуенен\n",
      "\n",
      " s a wa s helas je i\n",
      " s a wa s  a ksi e \n",
      "за нами велась слежка 😄\n",
      " s a wa s a ksi e a nihilus \n",
      " официально заявляю что все кто считает эпизод s a wa s плохим фильмом геи\n",
      "— люди плачут не потому что они слабые. а потому что они были сильными слишком долго. \n",
      "«ha y p e »… \n",
      "это просто картинка а ты уже слышишь эту музыку..\n",
      " s a wa s \n",
      "казахстан. s a wa s \n",
      "вьетнам. s a wa s \n",
      "скупое декабрьское солнце в башкирии. s a wa s \n",
      "компания enaul присоединилась к «звёздным войнам» enaul z e s a wa s \n",
      "в последнее время выгляжу и мыслю так что могу любой разговор начать фразой \"я ведь раньше нормальный был...\" s a wa s\n",
      "девчонки если я к кому то как то не так приставал давайте решим это сейчас а не когда я стану всемирно знаменитым. s a wa s\n",
      "австрия. s a wa s \n",
      "бля может замутить что то про астрологию \n",
      " s a wa s \n",
      " asl v\n",
      "я должна это сделать я ж посмотрела s a wa s\n",
      "второй раз сходила на helas je i и теперь с уверенностью могу сказать что это один из лучших эпизодов s a wa s\n",
      " s a wa s в imax и концерт у кого то новый год наступил раньше \n",
      " официально заявляю что все кто считает эпизод s a wa s плохим фильмом геи\n",
      "почему «звездные войны последние джедаи» — великолепный авторский фильм — s a wa s… \n",
      "рено выпустит хэтчбек z e в особенном исполнении s a wa s — s a wa s helas je i… \n",
      "и приз за лучшую роль в истории саги получает утюг s a wa s\n",
      " официально заявляю что все кто считает эпизод s a wa s плохим фильмом геи\n"
     ]
    }
   ],
   "source": [
    "for tweet in hashtag_tweets:\n",
    "    print tweet"
   ]
  },
  {
   "cell_type": "code",
   "execution_count": null,
   "metadata": {
    "collapsed": true
   },
   "outputs": [],
   "source": []
  }
 ],
 "metadata": {
  "kernelspec": {
   "display_name": "Python 2",
   "language": "python",
   "name": "python2"
  },
  "language_info": {
   "codemirror_mode": {
    "name": "ipython",
    "version": 2
   },
   "file_extension": ".py",
   "mimetype": "text/x-python",
   "name": "python",
   "nbconvert_exporter": "python",
   "pygments_lexer": "ipython2",
   "version": "2.7.12"
  }
 },
 "nbformat": 4,
 "nbformat_minor": 1
}
