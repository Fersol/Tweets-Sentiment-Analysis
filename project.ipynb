{
 "cells": [
  {
   "cell_type": "markdown",
   "metadata": {},
   "source": [
    "## Twitter Dataset Prepare"
   ]
  },
  {
   "cell_type": "code",
   "execution_count": 1,
   "metadata": {
    "collapsed": true
   },
   "outputs": [],
   "source": [
    "import pandas as pd\n",
    "import numpy as np\n",
    "import matplotlib.pyplot as plt\n",
    "import cPickle as pickle\n",
    "import tqdm\n",
    "import regex\n",
    "import os\n",
    "import re\n",
    "import shutil\n",
    "import operator\n",
    "import codecs\n",
    "from time import time\n",
    "import random\n",
    "from math import log\n",
    "from nltk import sent_tokenize\n",
    "from pymystem3 import Mystem\n",
    "from seaborn import heatmap\n",
    "from nltk.tokenize import RegexpTokenizer\n",
    "from nltk.stem.snowball import RussianStemmer\n",
    "from sklearn.model_selection import train_test_split\n",
    "from sklearn.feature_extraction.text import CountVectorizer, TfidfVectorizer\n",
    "from sklearn.pipeline import Pipeline\n",
    "from sklearn.linear_model import LogisticRegression, LinearRegression\n",
    "from sklearn.svm import LinearSVC\n",
    "from sklearn.metrics import accuracy_score\n",
    "from sklearn.metrics import roc_curve, auc\n",
    "from sklearn.metrics import classification_report\n",
    "from sklearn.metrics import precision_recall_fscore_support\n",
    "from sklearn.metrics import make_scorer\n",
    "from sklearn.metrics import f1_score\n",
    "from sklearn.model_selection import GridSearchCV\n",
    "\n",
    "\n",
    "\n",
    "from sklearn.ensemble import GradientBoostingClassifier\n",
    "from sklearn import datasets\n",
    "from sklearn.naive_bayes import GaussianNB\n",
    "from sklearn.naive_bayes import MultinomialNB\n",
    "from sklearn.naive_bayes import BernoulliNB\n",
    "\n",
    "%matplotlib inline"
   ]
  },
  {
   "cell_type": "markdown",
   "metadata": {},
   "source": [
    "База данных состоит из 12 столбцов:\n",
    "- id: уникальный номер сообщения в системе twitter;\n",
    "- tdate: дата публикации сообщения (твита);\n",
    "- tmane: имя пользователя, опубликовавшего сообщение;\n",
    "- ttext:  текст сообщения (твита);\n",
    "- ttype: поле в котором в дальнейшем будет указано к кому классу относится твит (положительный, отрицательный, нейтральный);\n",
    "- trep: количество реплаев к данному сообщению. В настоящий момент API твиттера не отдает эту информацию;\n",
    "- trtf: число ретвитов\n",
    "- tfav: число сколько раз данное сообщение было добавлено в избранное другими пользователями;\n",
    "- tstcount: число всех сообщений пользователя в сети twitter;\n",
    "- tfol: количество фоловеров пользователя (тех людей, которые читают пользователя);\n",
    "- tfrien: количество друзей пользователя (те люди, которых читает пользователь);\n",
    "- listcount: количество листов-подписок в которые добавлен твиттер-пользователь."
   ]
  },
  {
   "cell_type": "code",
   "execution_count": 2,
   "metadata": {
    "collapsed": true
   },
   "outputs": [],
   "source": [
    "header = ['id', 'tdate', 'tmane', 'ttext', 'ttype', 'trep', 'trtf', 'tfav', 'tstcount', 'tfol', 'tfrien', 'listcount']"
   ]
  },
  {
   "cell_type": "markdown",
   "metadata": {},
   "source": [
    "#### Загружаем положительные и негативные твиты в один DataFrame, после этого перемешиваем с помощью sample(frac=1)"
   ]
  },
  {
   "cell_type": "code",
   "execution_count": 3,
   "metadata": {
    "collapsed": true
   },
   "outputs": [],
   "source": [
    "pos_twitts = pd.read_csv('dataset/train_positive.csv', sep=';', names=header)\n",
    "neg_twitts = pd.read_csv('dataset/train_negative.csv', sep=';', names=header)\n",
    "twitts = pd.concat([pos_twitts, neg_twitts], axis=0)\n",
    "twitts = twitts.sample(frac=1)"
   ]
  },
  {
   "cell_type": "markdown",
   "metadata": {},
   "source": [
    "#### Смотрим размерность нашего размеченного датасета и проверяем, что у нас 2 вида твитов(положительные(1) и негативные(-1))"
   ]
  },
  {
   "cell_type": "code",
   "execution_count": 4,
   "metadata": {},
   "outputs": [
    {
     "name": "stdout",
     "output_type": "stream",
     "text": [
      "(226834, 12)\n"
     ]
    },
    {
     "data": {
      "text/html": [
       "<div>\n",
       "<style>\n",
       "    .dataframe thead tr:only-child th {\n",
       "        text-align: right;\n",
       "    }\n",
       "\n",
       "    .dataframe thead th {\n",
       "        text-align: left;\n",
       "    }\n",
       "\n",
       "    .dataframe tbody tr th {\n",
       "        vertical-align: top;\n",
       "    }\n",
       "</style>\n",
       "<table border=\"1\" class=\"dataframe\">\n",
       "  <thead>\n",
       "    <tr style=\"text-align: right;\">\n",
       "      <th></th>\n",
       "      <th>id</th>\n",
       "      <th>tdate</th>\n",
       "      <th>tmane</th>\n",
       "      <th>ttext</th>\n",
       "      <th>ttype</th>\n",
       "      <th>trep</th>\n",
       "      <th>trtf</th>\n",
       "      <th>tfav</th>\n",
       "      <th>tstcount</th>\n",
       "      <th>tfol</th>\n",
       "      <th>tfrien</th>\n",
       "      <th>listcount</th>\n",
       "    </tr>\n",
       "  </thead>\n",
       "  <tbody>\n",
       "    <tr>\n",
       "      <th>44956</th>\n",
       "      <td>414395158952964096</td>\n",
       "      <td>1387634479</td>\n",
       "      <td>nesterovaa_</td>\n",
       "      <td>Бляя у них там весело:(\\n Я как лох ебанный в ...</td>\n",
       "      <td>-1</td>\n",
       "      <td>0</td>\n",
       "      <td>0</td>\n",
       "      <td>0</td>\n",
       "      <td>549</td>\n",
       "      <td>10</td>\n",
       "      <td>9</td>\n",
       "      <td>0</td>\n",
       "    </tr>\n",
       "    <tr>\n",
       "      <th>28356</th>\n",
       "      <td>409613685238562817</td>\n",
       "      <td>1386494487</td>\n",
       "      <td>anutahimmel</td>\n",
       "      <td>RT @angeljeka: Сегодня родился \"поющий кусок с...</td>\n",
       "      <td>1</td>\n",
       "      <td>0</td>\n",
       "      <td>2</td>\n",
       "      <td>0</td>\n",
       "      <td>12525</td>\n",
       "      <td>140</td>\n",
       "      <td>102</td>\n",
       "      <td>5</td>\n",
       "    </tr>\n",
       "    <tr>\n",
       "      <th>106752</th>\n",
       "      <td>424200872411660288</td>\n",
       "      <td>1389972343</td>\n",
       "      <td>vrotvamnogi3</td>\n",
       "      <td>кажется, я проебала кольцо, и кажется, мне пиз...</td>\n",
       "      <td>-1</td>\n",
       "      <td>0</td>\n",
       "      <td>0</td>\n",
       "      <td>0</td>\n",
       "      <td>3861</td>\n",
       "      <td>27</td>\n",
       "      <td>29</td>\n",
       "      <td>0</td>\n",
       "    </tr>\n",
       "    <tr>\n",
       "      <th>22420</th>\n",
       "      <td>411857145806606336</td>\n",
       "      <td>1387029370</td>\n",
       "      <td>Zelenator</td>\n",
       "      <td>Не проспать концерт беспризорников, не проспат...</td>\n",
       "      <td>-1</td>\n",
       "      <td>0</td>\n",
       "      <td>0</td>\n",
       "      <td>0</td>\n",
       "      <td>31043</td>\n",
       "      <td>569</td>\n",
       "      <td>291</td>\n",
       "      <td>26</td>\n",
       "    </tr>\n",
       "    <tr>\n",
       "      <th>21005</th>\n",
       "      <td>411675546373066752</td>\n",
       "      <td>1386986073</td>\n",
       "      <td>Kai_JiGoku</td>\n",
       "      <td>Вспомнил, что после работы хотел в оптовку схо...</td>\n",
       "      <td>-1</td>\n",
       "      <td>0</td>\n",
       "      <td>0</td>\n",
       "      <td>0</td>\n",
       "      <td>6838</td>\n",
       "      <td>48</td>\n",
       "      <td>60</td>\n",
       "      <td>1</td>\n",
       "    </tr>\n",
       "  </tbody>\n",
       "</table>\n",
       "</div>"
      ],
      "text/plain": [
       "                        id       tdate         tmane  \\\n",
       "44956   414395158952964096  1387634479   nesterovaa_   \n",
       "28356   409613685238562817  1386494487   anutahimmel   \n",
       "106752  424200872411660288  1389972343  vrotvamnogi3   \n",
       "22420   411857145806606336  1387029370     Zelenator   \n",
       "21005   411675546373066752  1386986073    Kai_JiGoku   \n",
       "\n",
       "                                                    ttext  ttype  trep  trtf  \\\n",
       "44956   Бляя у них там весело:(\\n Я как лох ебанный в ...     -1     0     0   \n",
       "28356   RT @angeljeka: Сегодня родился \"поющий кусок с...      1     0     2   \n",
       "106752  кажется, я проебала кольцо, и кажется, мне пиз...     -1     0     0   \n",
       "22420   Не проспать концерт беспризорников, не проспат...     -1     0     0   \n",
       "21005   Вспомнил, что после работы хотел в оптовку схо...     -1     0     0   \n",
       "\n",
       "        tfav  tstcount  tfol  tfrien  listcount  \n",
       "44956      0       549    10       9          0  \n",
       "28356      0     12525   140     102          5  \n",
       "106752     0      3861    27      29          0  \n",
       "22420      0     31043   569     291         26  \n",
       "21005      0      6838    48      60          1  "
      ]
     },
     "execution_count": 4,
     "metadata": {},
     "output_type": "execute_result"
    }
   ],
   "source": [
    "print twitts.shape\n",
    "twitts.head()"
   ]
  },
  {
   "cell_type": "code",
   "execution_count": 5,
   "metadata": {},
   "outputs": [
    {
     "data": {
      "text/plain": [
       "array([-1,  1], dtype=int64)"
      ]
     },
     "execution_count": 5,
     "metadata": {},
     "output_type": "execute_result"
    }
   ],
   "source": [
    "twitts.ttype.unique()"
   ]
  },
  {
   "cell_type": "markdown",
   "metadata": {},
   "source": [
    "## Предобработка текста"
   ]
  },
  {
   "cell_type": "code",
   "execution_count": 6,
   "metadata": {
    "collapsed": true
   },
   "outputs": [],
   "source": [
    "X = twitts.ttext.values\n",
    "y = twitts.ttype.values"
   ]
  },
  {
   "cell_type": "code",
   "execution_count": 7,
   "metadata": {
    "collapsed": true
   },
   "outputs": [],
   "source": [
    "def prepare_text(text):\n",
    "    text = text.lower().strip()\n",
    "    text = ' '.join(text.split())\n",
    "    text = re.sub(r'@\\S+', '', text) # delete @user_name\n",
    "    text = re.sub(r'#\\W+', '', text) # delete #hashtag\n",
    "    text = re.sub(r'[\\!\\\"\\#\\$\\%\\&\\\\\\'\\(\\)\\*\\+\\,\\-\\.\\/\\:\\;\\<\\=\\>\\?\\@\\[\\\\\\\\\\]\\^\\_\\`\\{\\|\\}\\~, a-z, 0-9]+', ' ', text) # delete smiles\n",
    "    return text"
   ]
  },
  {
   "cell_type": "markdown",
   "metadata": {},
   "source": [
    "#### Отчитстка твитов от \"мусора\""
   ]
  },
  {
   "cell_type": "code",
   "execution_count": 8,
   "metadata": {
    "collapsed": true
   },
   "outputs": [],
   "source": [
    "X_pr = [prepare_text(text).decode('utf-8').strip() for text in X]"
   ]
  },
  {
   "cell_type": "markdown",
   "metadata": {},
   "source": [
    "#### Лемматизация с помощью mystem"
   ]
  },
  {
   "cell_type": "code",
   "execution_count": 9,
   "metadata": {
    "collapsed": true
   },
   "outputs": [],
   "source": [
    "file = codecs.open(\"raw.txt\", \"w\", \"utf-8\")\n",
    "for line in X_pr:\n",
    "    file.write(line+'\\n')\n",
    "file.close()"
   ]
  },
  {
   "cell_type": "code",
   "execution_count": 10,
   "metadata": {},
   "outputs": [
    {
     "name": "stdout",
     "output_type": "stream",
     "text": [
      "Wall time: 1min 12s\n"
     ]
    },
    {
     "data": {
      "text/plain": [
       "0"
      ]
     },
     "execution_count": 10,
     "metadata": {},
     "output_type": "execute_result"
    }
   ],
   "source": [
    "%time os.system('mystem.exe raw.txt out.txt -dlc')"
   ]
  },
  {
   "cell_type": "code",
   "execution_count": 11,
   "metadata": {
    "collapsed": true
   },
   "outputs": [],
   "source": [
    "file = codecs.open(\"out.txt\", \"r\", \"utf-8\")\n",
    "X_sent = [line for line in file]\n",
    "file.close()"
   ]
  },
  {
   "cell_type": "code",
   "execution_count": 12,
   "metadata": {
    "collapsed": true
   },
   "outputs": [],
   "source": [
    "X_mystem = [prepare_text(text).strip() for text in X_sent]"
   ]
  },
  {
   "cell_type": "markdown",
   "metadata": {},
   "source": [
    "#### Удаление коротких слов и твитов"
   ]
  },
  {
   "cell_type": "code",
   "execution_count": 13,
   "metadata": {
    "collapsed": true
   },
   "outputs": [],
   "source": [
    "X_mystem_no_single = [' '.join([word.strip() for word in words.split() if len(word.strip())>1]) for words in X_mystem]"
   ]
  },
  {
   "cell_type": "code",
   "execution_count": 14,
   "metadata": {
    "collapsed": true
   },
   "outputs": [],
   "source": [
    "idx = [len(words.split()) > 4 for words in X_mystem_no_single]\n",
    "X_mystem_no_single_no_short = np.array(X_mystem_no_single)[idx]\n",
    "y_mystem_no_single_no_short = np.array(y)[idx]"
   ]
  },
  {
   "cell_type": "markdown",
   "metadata": {},
   "source": [
    "### Разбиваем наш датасет с помощью train test split и создаем модели"
   ]
  },
  {
   "cell_type": "code",
   "execution_count": 15,
   "metadata": {
    "collapsed": true
   },
   "outputs": [],
   "source": [
    "X_train, X_test, y_train, y_test = \\\n",
    "    train_test_split(X_mystem_no_single_no_short, y_mystem_no_single_no_short, test_size=0.3, random_state=42)"
   ]
  },
  {
   "cell_type": "markdown",
   "metadata": {},
   "source": [
    "#### Логистическая регрессия"
   ]
  },
  {
   "cell_type": "code",
   "execution_count": 16,
   "metadata": {
    "collapsed": true
   },
   "outputs": [],
   "source": [
    "model_logreg = Pipeline([('count', CountVectorizer(ngram_range=(1, 3), min_df=1)), \n",
    "                         ('log_reg', LogisticRegression(C=0.5))])\n",
    "model_logreg_saga = Pipeline([('count', CountVectorizer(ngram_range=(1, 3), min_df=1)), \n",
    "                         ('log_reg', LogisticRegression(max_iter=300, solver='saga'))])\n",
    "model_logreg_tf_idf = Pipeline([('count', TfidfVectorizer(ngram_range=(1, 3), min_df=1)), \n",
    "                                ('log_reg', LogisticRegression())])"
   ]
  },
  {
   "cell_type": "markdown",
   "metadata": {},
   "source": [
    "#### Наивный Байес"
   ]
  },
  {
   "cell_type": "code",
   "execution_count": 17,
   "metadata": {
    "collapsed": true
   },
   "outputs": [],
   "source": [
    "model_nbm = Pipeline([('count', CountVectorizer(ngram_range=(1, 3), min_df=1)), \n",
    "                     ('nb', MultinomialNB()),])\n",
    "model_nbm_tfidf = Pipeline([('tf-idf', TfidfVectorizer(ngram_range=(1, 3), min_df=1)), \n",
    "                     ('nb', MultinomialNB()),])"
   ]
  },
  {
   "cell_type": "code",
   "execution_count": 18,
   "metadata": {
    "collapsed": true
   },
   "outputs": [],
   "source": [
    "model_nbb = Pipeline([('count', CountVectorizer(ngram_range=(1, 3), min_df=1)), \n",
    "                     ('nb', BernoulliNB()),])\n",
    "model_nbb_tfidf = Pipeline([('tf-idf', TfidfVectorizer(ngram_range=(1, 3), min_df=1)), \n",
    "                     ('nb', BernoulliNB()),])"
   ]
  },
  {
   "cell_type": "markdown",
   "metadata": {},
   "source": [
    "#### SVM"
   ]
  },
  {
   "cell_type": "code",
   "execution_count": 19,
   "metadata": {
    "collapsed": true
   },
   "outputs": [],
   "source": [
    "model_svm = Pipeline([('count', CountVectorizer(ngram_range=(1, 3), min_df=1)), \n",
    "                     ('svm', LinearSVC()),])\n",
    "model_svm_tfidf = Pipeline([('tf-idf', TfidfVectorizer(ngram_range=(1, 3), min_df=1)), \n",
    "                     ('svm', LinearSVC()),])"
   ]
  },
  {
   "cell_type": "markdown",
   "metadata": {},
   "source": [
    "### Обучение"
   ]
  },
  {
   "cell_type": "code",
   "execution_count": 20,
   "metadata": {},
   "outputs": [
    {
     "name": "stdout",
     "output_type": "stream",
     "text": [
      "Wall time: 37.4 s\n"
     ]
    },
    {
     "name": "stderr",
     "output_type": "stream",
     "text": [
      "C:\\Users\\Ivan\\Anaconda2\\lib\\site-packages\\sklearn\\linear_model\\sag.py:326: ConvergenceWarning: The max_iter was reached which means the coef_ did not converge\n",
      "  \"the coef_ did not converge\", ConvergenceWarning)\n"
     ]
    },
    {
     "name": "stdout",
     "output_type": "stream",
     "text": [
      "Wall time: 1min 33s\n",
      "Wall time: 18.8 s\n",
      "Wall time: 14.8 s\n",
      "Wall time: 15.7 s\n",
      "Wall time: 14.7 s\n",
      "Wall time: 15.8 s\n",
      "Wall time: 1min 12s\n",
      "Wall time: 18.9 s\n"
     ]
    },
    {
     "data": {
      "text/plain": [
       "Pipeline(memory=None,\n",
       "     steps=[('tf-idf', TfidfVectorizer(analyzer=u'word', binary=False, decode_error=u'strict',\n",
       "        dtype=<type 'numpy.int64'>, encoding=u'utf-8', input=u'content',\n",
       "        lowercase=True, max_df=1.0, max_features=None, min_df=1,\n",
       "        ngram_range=(1, 3), norm=u'l2', preprocessor=None, smooth_idf=Tr...ax_iter=1000,\n",
       "     multi_class='ovr', penalty='l2', random_state=None, tol=0.0001,\n",
       "     verbose=0))])"
      ]
     },
     "execution_count": 20,
     "metadata": {},
     "output_type": "execute_result"
    }
   ],
   "source": [
    "%time model_logreg.fit(X_train, y_train)\n",
    "%time model_logreg_saga.fit(X_train, y_train)\n",
    "%time model_logreg_tf_idf.fit(X_train, y_train)\n",
    "%time model_nbm.fit(X_train, y_train)\n",
    "%time model_nbm_tfidf.fit(X_train, y_train)\n",
    "%time model_nbb.fit(X_train, y_train)\n",
    "%time model_nbb_tfidf.fit(X_train, y_train)\n",
    "%time model_svm.fit(X_train, y_train)\n",
    "%time model_svm_tfidf.fit(X_train, y_train)"
   ]
  },
  {
   "cell_type": "markdown",
   "metadata": {},
   "source": [
    "#### Посмотрим у каких слов получились самые влиятельные веса и считаем оценки (смотрим модель логистической регрессии без TF-IDF)"
   ]
  },
  {
   "cell_type": "code",
   "execution_count": 21,
   "metadata": {
    "collapsed": true
   },
   "outputs": [],
   "source": [
    "words_logreg = model_logreg.steps[0][1].get_feature_names()\n",
    "coefs_logreg = model_logreg.steps[1][1].coef_[0]\n",
    "\n",
    "words_logreg_tf_idf = model_logreg_tf_idf.steps[0][1].get_feature_names()\n",
    "coefs_logreg_tf_idf = model_logreg_tf_idf.steps[1][1].coef_[0]"
   ]
  },
  {
   "cell_type": "code",
   "execution_count": 22,
   "metadata": {
    "collapsed": true
   },
   "outputs": [],
   "source": [
    "model_coefs_logreg = pd.Series(index=words_logreg, data=coefs_logreg)\n",
    "model_coefs_logreg_tf_idf = pd.Series(index=words_logreg_tf_idf, data=coefs_logreg_tf_idf)"
   ]
  },
  {
   "cell_type": "code",
   "execution_count": 23,
   "metadata": {
    "collapsed": true
   },
   "outputs": [],
   "source": [
    "model_coefs_logreg_sorted = model_coefs_logreg.sort_values()\n",
    "model_coefs_logreg_tf_idf_sorted = model_coefs_logreg_tf_idf.sort_values()"
   ]
  },
  {
   "cell_type": "code",
   "execution_count": 24,
   "metadata": {},
   "outputs": [
    {
     "name": "stdout",
     "output_type": "stream",
     "text": [
      "обидно     -2.897252\n",
      "печально   -2.418762\n",
      "грустно    -2.304525\n",
      "печаль     -2.258247\n",
      "жаль       -2.025424\n",
      "dtype: float64\n",
      "хах            1.854082\n",
      "ржа            1.865648\n",
      "не плохо       1.905000\n",
      "не забывать    1.935209\n",
      "не зря         1.974946\n",
      "dtype: float64\n"
     ]
    }
   ],
   "source": [
    "print model_coefs_logreg_sorted[:5]\n",
    "print model_coefs_logreg_sorted[-5:]"
   ]
  },
  {
   "cell_type": "markdown",
   "metadata": {},
   "source": [
    "### Предсказание по тестовой выборке"
   ]
  },
  {
   "cell_type": "code",
   "execution_count": 25,
   "metadata": {
    "collapsed": true
   },
   "outputs": [],
   "source": [
    "preds_logreg = model_logreg.predict(X_test)\n",
    "preds_logreg_saga = model_logreg_saga.predict(X_test)\n",
    "preds_logreg_tfidf = model_logreg_tf_idf.predict(X_test)"
   ]
  },
  {
   "cell_type": "code",
   "execution_count": 26,
   "metadata": {
    "collapsed": true
   },
   "outputs": [],
   "source": [
    "preds_nbm = model_nbm.predict(X_test)\n",
    "preds_nbm_tfidf = model_nbm_tfidf.predict(X_test)"
   ]
  },
  {
   "cell_type": "code",
   "execution_count": 27,
   "metadata": {
    "collapsed": true
   },
   "outputs": [],
   "source": [
    "preds_nbb = model_nbb.predict(X_test)\n",
    "preds_nbb_tfidf = model_nbb_tfidf.predict(X_test)"
   ]
  },
  {
   "cell_type": "code",
   "execution_count": 28,
   "metadata": {
    "collapsed": true
   },
   "outputs": [],
   "source": [
    "preds_svm = model_svm.predict(X_test)\n",
    "preds_svm_tfidf = model_svm_tfidf.predict(X_test)"
   ]
  },
  {
   "cell_type": "markdown",
   "metadata": {},
   "source": [
    "## Итоговые результаты"
   ]
  },
  {
   "cell_type": "code",
   "execution_count": 30,
   "metadata": {},
   "outputs": [
    {
     "name": "stdout",
     "output_type": "stream",
     "text": [
      "LogisticRegression: \n",
      "             precision    recall  f1-score   support\n",
      "\n",
      "         -1       0.76      0.75      0.76     29707\n",
      "          1       0.76      0.78      0.77     30552\n",
      "\n",
      "avg / total       0.76      0.76      0.76     60259\n",
      "\n",
      "0.762322282807\n",
      "LogisticRegression with saga: \n",
      "             precision    recall  f1-score   support\n",
      "\n",
      "         -1       0.76      0.75      0.76     29707\n",
      "          1       0.76      0.77      0.77     30552\n",
      "\n",
      "avg / total       0.76      0.76      0.76     60259\n",
      "\n",
      "0.761791645113\n",
      "LogisticRegression with tf-idf: \n",
      "             precision    recall  f1-score   support\n",
      "\n",
      "         -1       0.74      0.77      0.75     29707\n",
      "          1       0.76      0.73      0.75     30552\n",
      "\n",
      "avg / total       0.75      0.75      0.75     60259\n",
      "\n",
      "0.748857479689\n",
      "MultinomialNB: \n",
      "             precision    recall  f1-score   support\n",
      "\n",
      "         -1       0.73      0.78      0.75     29707\n",
      "          1       0.77      0.72      0.74     30552\n",
      "\n",
      "avg / total       0.75      0.75      0.75     60259\n",
      "\n",
      "0.748305287624\n",
      "MultinomialNB with tf-idf: \n",
      "             precision    recall  f1-score   support\n",
      "\n",
      "         -1       0.74      0.77      0.75     29707\n",
      "          1       0.76      0.74      0.75     30552\n",
      "\n",
      "avg / total       0.75      0.75      0.75     60259\n",
      "\n",
      "0.751340599878\n",
      "BernoulliNB: \n",
      "             precision    recall  f1-score   support\n",
      "\n",
      "         -1       0.74      0.75      0.75     29707\n",
      "          1       0.76      0.75      0.75     30552\n",
      "\n",
      "avg / total       0.75      0.75      0.75     60259\n",
      "\n",
      "0.749759193926\n",
      "BernoulliNB with tf-idf: \n",
      "             precision    recall  f1-score   support\n",
      "\n",
      "         -1       0.74      0.75      0.75     29707\n",
      "          1       0.76      0.75      0.75     30552\n",
      "\n",
      "avg / total       0.75      0.75      0.75     60259\n",
      "\n",
      "0.749759193926\n",
      "SVM: \n",
      "             precision    recall  f1-score   support\n",
      "\n",
      "         -1       0.75      0.75      0.75     29707\n",
      "          1       0.76      0.76      0.76     30552\n",
      "\n",
      "avg / total       0.75      0.75      0.75     60259\n",
      "\n",
      "0.754041685295\n",
      "SVM with tf-idf: \n",
      "             precision    recall  f1-score   support\n",
      "\n",
      "         -1       0.75      0.77      0.76     29707\n",
      "          1       0.77      0.75      0.76     30552\n",
      "\n",
      "avg / total       0.76      0.76      0.76     60259\n",
      "\n",
      "0.761713131621\n"
     ]
    }
   ],
   "source": [
    "f1 = []\n",
    "print \"LogisticRegression: \\n\", classification_report(y_test, preds_logreg)\n",
    "print precision_recall_fscore_support(y_test, preds_logreg, average='weighted')[2]\n",
    "f1.append(precision_recall_fscore_support(y_test, preds_logreg, average='weighted')[2])\n",
    "\n",
    "print \"LogisticRegression with saga: \\n\", classification_report(y_test, preds_logreg_saga)\n",
    "print precision_recall_fscore_support(y_test, preds_logreg_saga, average='weighted')[2]\n",
    "f1.append(precision_recall_fscore_support(y_test, preds_logreg_saga, average='weighted')[2])\n",
    "\n",
    "print \"LogisticRegression with tf-idf: \\n\", classification_report(y_test, preds_logreg_tfidf)\n",
    "print precision_recall_fscore_support(y_test, preds_logreg_tfidf, average='weighted')[2]\n",
    "f1.append(precision_recall_fscore_support(y_test, preds_logreg_tfidf, average='weighted')[2])\n",
    "\n",
    "print \"MultinomialNB: \\n\", classification_report(y_test, preds_nbm)\n",
    "print precision_recall_fscore_support(y_test, preds_nbm, average='weighted')[2]\n",
    "f1.append(precision_recall_fscore_support(y_test, preds_nbm, average='weighted')[2])\n",
    "\n",
    "print \"MultinomialNB with tf-idf: \\n\", classification_report(y_test, preds_nbm_tfidf)\n",
    "print precision_recall_fscore_support(y_test, preds_nbm_tfidf, average='weighted')[2]\n",
    "f1.append(precision_recall_fscore_support(y_test, preds_nbm_tfidf, average='weighted')[2])\n",
    "\n",
    "print \"BernoulliNB: \\n\", classification_report(y_test, preds_nbb)\n",
    "print precision_recall_fscore_support(y_test, preds_nbb, average='weighted')[2]\n",
    "f1.append(precision_recall_fscore_support(y_test, preds_nbb, average='weighted')[2])\n",
    "\n",
    "print \"BernoulliNB with tf-idf: \\n\", classification_report(y_test, preds_nbb_tfidf)\n",
    "print precision_recall_fscore_support(y_test, preds_nbb_tfidf, average='weighted')[2]\n",
    "f1.append(precision_recall_fscore_support(y_test, preds_nbb_tfidf, average='weighted')[2])\n",
    "\n",
    "print \"SVM: \\n\", classification_report(y_test, preds_svm)\n",
    "print precision_recall_fscore_support(y_test, preds_svm, average='weighted')[2]\n",
    "f1.append(precision_recall_fscore_support(y_test, preds_svm, average='weighted')[2])\n",
    "\n",
    "print \"SVM with tf-idf: \\n\", classification_report(y_test, preds_svm_tfidf)\n",
    "print precision_recall_fscore_support(y_test, preds_svm_tfidf, average='weighted')[2]\n",
    "f1.append(precision_recall_fscore_support(y_test, preds_svm_tfidf, average='weighted')[2])"
   ]
  },
  {
   "cell_type": "code",
   "execution_count": 33,
   "metadata": {},
   "outputs": [
    {
     "data": {
      "image/png": "[encoded data removed]",
      "text/plain": [
       "<matplotlib.figure.Figure at 0xf8bde4e0>"
      ]
     },
     "metadata": {},
     "output_type": "display_data"
    }
   ],
   "source": [
    "x = np.arange(9)\n",
    "xticks = ['logreg', 'logreg_saga', 'logreg_tfidf', 'nbm', 'nbm_tfidf', 'nbb', 'nbb_tfidf', 'svm', 'svm_tfidf', ]\n",
    "\n",
    "plt.figure(num=None, figsize=(15, 10))\n",
    "plt.grid()\n",
    "plt.xticks(x, xticks)\n",
    "plt.plot(f1)\n",
    "plt.show()"
   ]
  },
  {
   "cell_type": "markdown",
   "metadata": {
    "collapsed": true
   },
   "source": [
    "#### Сохраняем модель для дальнейшего использования"
   ]
  },
  {
   "cell_type": "code",
   "execution_count": 34,
   "metadata": {
    "collapsed": true
   },
   "outputs": [],
   "source": [
    "import gzip\n",
    "f = gzip.open('model.pkl.gz', 'wb')\n",
    "pickle.dump(model_logreg, f)\n",
    "f.close()"
   ]
  }
 ],
 "metadata": {
  "kernelspec": {
   "display_name": "Python 2",
   "language": "python",
   "name": "python2"
  },
  "language_info": {
   "codemirror_mode": {
    "name": "ipython",
    "version": 2
   },
   "file_extension": ".py",
   "mimetype": "text/x-python",
   "name": "python",
   "nbconvert_exporter": "python",
   "pygments_lexer": "ipython2",
   "version": "2.7.13"
  }
 },
 "nbformat": 4,
 "nbformat_minor": 1
}
